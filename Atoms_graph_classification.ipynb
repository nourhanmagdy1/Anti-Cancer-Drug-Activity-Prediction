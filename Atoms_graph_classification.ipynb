{
  "metadata": {
    "kernelspec": {
      "language": "python",
      "display_name": "Python 3",
      "name": "python3"
    },
    "language_info": {
      "pygments_lexer": "ipython3",
      "nbconvert_exporter": "python",
      "version": "3.6.4",
      "file_extension": ".py",
      "codemirror_mode": {
        "name": "ipython",
        "version": 3
      },
      "name": "python",
      "mimetype": "text/x-python"
    },
    "colab": {
      "name": "Atoms_graph_classification.ipynb",
      "provenance": [],
      "collapsed_sections": [
        "SejWeYEuXCel",
        "zhcZTyETqNlq",
        "i5RxI8xjrOrn",
        "1uhJZIGYb_Xw",
        "fJUzY1MdtGth",
        "rYRT4ftjxYnH",
        "Spt8nxkl8Fps",
        "DBSL-Fjl8iZl",
        "2xoK0r5M99NX",
        "psg3j2aJ-XFK",
        "NwaNvO67-bKg",
        "Y722qPm0-ed9",
        "le26K5kc-hp_",
        "cHGg-yQdaNIJ",
        "KP4mzsv0y-vY",
        "lxXReK1FZgp6",
        "Ew5ossvlZna1",
        "lNZMa1mnZuQ3",
        "Dmsdo0HfZwoj"
      ]
    },
    "accelerator": "GPU",
    "widgets": {
      "application/vnd.jupyter.widget-state+json": {
        "ca44c177249f41f8997ee7d316e03686": {
          "model_module": "@jupyter-widgets/controls",
          "model_name": "HBoxModel",
          "model_module_version": "1.5.0",
          "state": {
            "_dom_classes": [],
            "_model_module": "@jupyter-widgets/controls",
            "_model_module_version": "1.5.0",
            "_model_name": "HBoxModel",
            "_view_count": null,
            "_view_module": "@jupyter-widgets/controls",
            "_view_module_version": "1.5.0",
            "_view_name": "HBoxView",
            "box_style": "",
            "children": [
              "IPY_MODEL_ca0bf53fbcad4e85868e815ca01f58de",
              "IPY_MODEL_57f64b77fc0f4bc1847faca4f17288ed",
              "IPY_MODEL_f707b8f6bd1c47be934fb4b6d46f3a63"
            ],
            "layout": "IPY_MODEL_29ab16afcb534ce8972d80b01c6c4e80"
          }
        },
        "ca0bf53fbcad4e85868e815ca01f58de": {
          "model_module": "@jupyter-widgets/controls",
          "model_name": "HTMLModel",
          "model_module_version": "1.5.0",
          "state": {
            "_dom_classes": [],
            "_model_module": "@jupyter-widgets/controls",
            "_model_module_version": "1.5.0",
            "_model_name": "HTMLModel",
            "_view_count": null,
            "_view_module": "@jupyter-widgets/controls",
            "_view_module_version": "1.5.0",
            "_view_name": "HTMLView",
            "description": "",
            "description_tooltip": null,
            "layout": "IPY_MODEL_cc38ba71f83a4788bb1141f6170a194c",
            "placeholder": "​",
            "style": "IPY_MODEL_e182d34c2ca7409a8ec06b049520eb94",
            "value": "100%"
          }
        },
        "57f64b77fc0f4bc1847faca4f17288ed": {
          "model_module": "@jupyter-widgets/controls",
          "model_name": "FloatProgressModel",
          "model_module_version": "1.5.0",
          "state": {
            "_dom_classes": [],
            "_model_module": "@jupyter-widgets/controls",
            "_model_module_version": "1.5.0",
            "_model_name": "FloatProgressModel",
            "_view_count": null,
            "_view_module": "@jupyter-widgets/controls",
            "_view_module_version": "1.5.0",
            "_view_name": "ProgressView",
            "bar_style": "success",
            "description": "",
            "description_tooltip": null,
            "layout": "IPY_MODEL_3f73e1ddacd846209b135d983d31b6eb",
            "max": 25024,
            "min": 0,
            "orientation": "horizontal",
            "style": "IPY_MODEL_37049f11c3e449ae811b771847c52b67",
            "value": 25024
          }
        },
        "f707b8f6bd1c47be934fb4b6d46f3a63": {
          "model_module": "@jupyter-widgets/controls",
          "model_name": "HTMLModel",
          "model_module_version": "1.5.0",
          "state": {
            "_dom_classes": [],
            "_model_module": "@jupyter-widgets/controls",
            "_model_module_version": "1.5.0",
            "_model_name": "HTMLModel",
            "_view_count": null,
            "_view_module": "@jupyter-widgets/controls",
            "_view_module_version": "1.5.0",
            "_view_name": "HTMLView",
            "description": "",
            "description_tooltip": null,
            "layout": "IPY_MODEL_af42aafa00d84d89b015ec7d6d4949cc",
            "placeholder": "​",
            "style": "IPY_MODEL_4c0a5f363bfb41bcb2c12c0498a49b77",
            "value": " 25024/25024 [00:05&lt;00:00, 8597.60it/s]"
          }
        },
        "29ab16afcb534ce8972d80b01c6c4e80": {
          "model_module": "@jupyter-widgets/base",
          "model_name": "LayoutModel",
          "model_module_version": "1.2.0",
          "state": {
            "_model_module": "@jupyter-widgets/base",
            "_model_module_version": "1.2.0",
            "_model_name": "LayoutModel",
            "_view_count": null,
            "_view_module": "@jupyter-widgets/base",
            "_view_module_version": "1.2.0",
            "_view_name": "LayoutView",
            "align_content": null,
            "align_items": null,
            "align_self": null,
            "border": null,
            "bottom": null,
            "display": null,
            "flex": null,
            "flex_flow": null,
            "grid_area": null,
            "grid_auto_columns": null,
            "grid_auto_flow": null,
            "grid_auto_rows": null,
            "grid_column": null,
            "grid_gap": null,
            "grid_row": null,
            "grid_template_areas": null,
            "grid_template_columns": null,
            "grid_template_rows": null,
            "height": null,
            "justify_content": null,
            "justify_items": null,
            "left": null,
            "margin": null,
            "max_height": null,
            "max_width": null,
            "min_height": null,
            "min_width": null,
            "object_fit": null,
            "object_position": null,
            "order": null,
            "overflow": null,
            "overflow_x": null,
            "overflow_y": null,
            "padding": null,
            "right": null,
            "top": null,
            "visibility": null,
            "width": null
          }
        },
        "cc38ba71f83a4788bb1141f6170a194c": {
          "model_module": "@jupyter-widgets/base",
          "model_name": "LayoutModel",
          "model_module_version": "1.2.0",
          "state": {
            "_model_module": "@jupyter-widgets/base",
            "_model_module_version": "1.2.0",
            "_model_name": "LayoutModel",
            "_view_count": null,
            "_view_module": "@jupyter-widgets/base",
            "_view_module_version": "1.2.0",
            "_view_name": "LayoutView",
            "align_content": null,
            "align_items": null,
            "align_self": null,
            "border": null,
            "bottom": null,
            "display": null,
            "flex": null,
            "flex_flow": null,
            "grid_area": null,
            "grid_auto_columns": null,
            "grid_auto_flow": null,
            "grid_auto_rows": null,
            "grid_column": null,
            "grid_gap": null,
            "grid_row": null,
            "grid_template_areas": null,
            "grid_template_columns": null,
            "grid_template_rows": null,
            "height": null,
            "justify_content": null,
            "justify_items": null,
            "left": null,
            "margin": null,
            "max_height": null,
            "max_width": null,
            "min_height": null,
            "min_width": null,
            "object_fit": null,
            "object_position": null,
            "order": null,
            "overflow": null,
            "overflow_x": null,
            "overflow_y": null,
            "padding": null,
            "right": null,
            "top": null,
            "visibility": null,
            "width": null
          }
        },
        "e182d34c2ca7409a8ec06b049520eb94": {
          "model_module": "@jupyter-widgets/controls",
          "model_name": "DescriptionStyleModel",
          "model_module_version": "1.5.0",
          "state": {
            "_model_module": "@jupyter-widgets/controls",
            "_model_module_version": "1.5.0",
            "_model_name": "DescriptionStyleModel",
            "_view_count": null,
            "_view_module": "@jupyter-widgets/base",
            "_view_module_version": "1.2.0",
            "_view_name": "StyleView",
            "description_width": ""
          }
        },
        "3f73e1ddacd846209b135d983d31b6eb": {
          "model_module": "@jupyter-widgets/base",
          "model_name": "LayoutModel",
          "model_module_version": "1.2.0",
          "state": {
            "_model_module": "@jupyter-widgets/base",
            "_model_module_version": "1.2.0",
            "_model_name": "LayoutModel",
            "_view_count": null,
            "_view_module": "@jupyter-widgets/base",
            "_view_module_version": "1.2.0",
            "_view_name": "LayoutView",
            "align_content": null,
            "align_items": null,
            "align_self": null,
            "border": null,
            "bottom": null,
            "display": null,
            "flex": null,
            "flex_flow": null,
            "grid_area": null,
            "grid_auto_columns": null,
            "grid_auto_flow": null,
            "grid_auto_rows": null,
            "grid_column": null,
            "grid_gap": null,
            "grid_row": null,
            "grid_template_areas": null,
            "grid_template_columns": null,
            "grid_template_rows": null,
            "height": null,
            "justify_content": null,
            "justify_items": null,
            "left": null,
            "margin": null,
            "max_height": null,
            "max_width": null,
            "min_height": null,
            "min_width": null,
            "object_fit": null,
            "object_position": null,
            "order": null,
            "overflow": null,
            "overflow_x": null,
            "overflow_y": null,
            "padding": null,
            "right": null,
            "top": null,
            "visibility": null,
            "width": null
          }
        },
        "37049f11c3e449ae811b771847c52b67": {
          "model_module": "@jupyter-widgets/controls",
          "model_name": "ProgressStyleModel",
          "model_module_version": "1.5.0",
          "state": {
            "_model_module": "@jupyter-widgets/controls",
            "_model_module_version": "1.5.0",
            "_model_name": "ProgressStyleModel",
            "_view_count": null,
            "_view_module": "@jupyter-widgets/base",
            "_view_module_version": "1.2.0",
            "_view_name": "StyleView",
            "bar_color": null,
            "description_width": ""
          }
        },
        "af42aafa00d84d89b015ec7d6d4949cc": {
          "model_module": "@jupyter-widgets/base",
          "model_name": "LayoutModel",
          "model_module_version": "1.2.0",
          "state": {
            "_model_module": "@jupyter-widgets/base",
            "_model_module_version": "1.2.0",
            "_model_name": "LayoutModel",
            "_view_count": null,
            "_view_module": "@jupyter-widgets/base",
            "_view_module_version": "1.2.0",
            "_view_name": "LayoutView",
            "align_content": null,
            "align_items": null,
            "align_self": null,
            "border": null,
            "bottom": null,
            "display": null,
            "flex": null,
            "flex_flow": null,
            "grid_area": null,
            "grid_auto_columns": null,
            "grid_auto_flow": null,
            "grid_auto_rows": null,
            "grid_column": null,
            "grid_gap": null,
            "grid_row": null,
            "grid_template_areas": null,
            "grid_template_columns": null,
            "grid_template_rows": null,
            "height": null,
            "justify_content": null,
            "justify_items": null,
            "left": null,
            "margin": null,
            "max_height": null,
            "max_width": null,
            "min_height": null,
            "min_width": null,
            "object_fit": null,
            "object_position": null,
            "order": null,
            "overflow": null,
            "overflow_x": null,
            "overflow_y": null,
            "padding": null,
            "right": null,
            "top": null,
            "visibility": null,
            "width": null
          }
        },
        "4c0a5f363bfb41bcb2c12c0498a49b77": {
          "model_module": "@jupyter-widgets/controls",
          "model_name": "DescriptionStyleModel",
          "model_module_version": "1.5.0",
          "state": {
            "_model_module": "@jupyter-widgets/controls",
            "_model_module_version": "1.5.0",
            "_model_name": "DescriptionStyleModel",
            "_view_count": null,
            "_view_module": "@jupyter-widgets/base",
            "_view_module_version": "1.2.0",
            "_view_name": "StyleView",
            "description_width": ""
          }
        },
        "3e37961e5cfd479e974d96da9a558635": {
          "model_module": "@jupyter-widgets/controls",
          "model_name": "HBoxModel",
          "model_module_version": "1.5.0",
          "state": {
            "_dom_classes": [],
            "_model_module": "@jupyter-widgets/controls",
            "_model_module_version": "1.5.0",
            "_model_name": "HBoxModel",
            "_view_count": null,
            "_view_module": "@jupyter-widgets/controls",
            "_view_module_version": "1.5.0",
            "_view_name": "HBoxView",
            "box_style": "",
            "children": [
              "IPY_MODEL_8579780f10b949dcb7d9e023f933fefb",
              "IPY_MODEL_5ea3ec2a9fe141849888b92da6923890",
              "IPY_MODEL_edf174940c754ffd9f45d6464d10dc13"
            ],
            "layout": "IPY_MODEL_e533a2094cd34d91bc388d9079be9883"
          }
        },
        "8579780f10b949dcb7d9e023f933fefb": {
          "model_module": "@jupyter-widgets/controls",
          "model_name": "HTMLModel",
          "model_module_version": "1.5.0",
          "state": {
            "_dom_classes": [],
            "_model_module": "@jupyter-widgets/controls",
            "_model_module_version": "1.5.0",
            "_model_name": "HTMLModel",
            "_view_count": null,
            "_view_module": "@jupyter-widgets/controls",
            "_view_module_version": "1.5.0",
            "_view_name": "HTMLView",
            "description": "",
            "description_tooltip": null,
            "layout": "IPY_MODEL_11b6accdec9645b99a248cd91a249899",
            "placeholder": "​",
            "style": "IPY_MODEL_9fc87fd9dbe646bca816c5ad34cc0a81",
            "value": "100%"
          }
        },
        "5ea3ec2a9fe141849888b92da6923890": {
          "model_module": "@jupyter-widgets/controls",
          "model_name": "FloatProgressModel",
          "model_module_version": "1.5.0",
          "state": {
            "_dom_classes": [],
            "_model_module": "@jupyter-widgets/controls",
            "_model_module_version": "1.5.0",
            "_model_name": "FloatProgressModel",
            "_view_count": null,
            "_view_module": "@jupyter-widgets/controls",
            "_view_module_version": "1.5.0",
            "_view_name": "ProgressView",
            "bar_style": "success",
            "description": "",
            "description_tooltip": null,
            "layout": "IPY_MODEL_9eb163807bda46178b30edb5c8a6580b",
            "max": 12326,
            "min": 0,
            "orientation": "horizontal",
            "style": "IPY_MODEL_d4b7ca37de2840a5ba97ef3fb1023232",
            "value": 12326
          }
        },
        "edf174940c754ffd9f45d6464d10dc13": {
          "model_module": "@jupyter-widgets/controls",
          "model_name": "HTMLModel",
          "model_module_version": "1.5.0",
          "state": {
            "_dom_classes": [],
            "_model_module": "@jupyter-widgets/controls",
            "_model_module_version": "1.5.0",
            "_model_name": "HTMLModel",
            "_view_count": null,
            "_view_module": "@jupyter-widgets/controls",
            "_view_module_version": "1.5.0",
            "_view_name": "HTMLView",
            "description": "",
            "description_tooltip": null,
            "layout": "IPY_MODEL_e8eefb6b7cc34d4fb89c85bf6557923f",
            "placeholder": "​",
            "style": "IPY_MODEL_dd0f2eab0c0c45d9b32b3e31c3fcad50",
            "value": " 12326/12326 [00:01&lt;00:00, 7591.78it/s]"
          }
        },
        "e533a2094cd34d91bc388d9079be9883": {
          "model_module": "@jupyter-widgets/base",
          "model_name": "LayoutModel",
          "model_module_version": "1.2.0",
          "state": {
            "_model_module": "@jupyter-widgets/base",
            "_model_module_version": "1.2.0",
            "_model_name": "LayoutModel",
            "_view_count": null,
            "_view_module": "@jupyter-widgets/base",
            "_view_module_version": "1.2.0",
            "_view_name": "LayoutView",
            "align_content": null,
            "align_items": null,
            "align_self": null,
            "border": null,
            "bottom": null,
            "display": null,
            "flex": null,
            "flex_flow": null,
            "grid_area": null,
            "grid_auto_columns": null,
            "grid_auto_flow": null,
            "grid_auto_rows": null,
            "grid_column": null,
            "grid_gap": null,
            "grid_row": null,
            "grid_template_areas": null,
            "grid_template_columns": null,
            "grid_template_rows": null,
            "height": null,
            "justify_content": null,
            "justify_items": null,
            "left": null,
            "margin": null,
            "max_height": null,
            "max_width": null,
            "min_height": null,
            "min_width": null,
            "object_fit": null,
            "object_position": null,
            "order": null,
            "overflow": null,
            "overflow_x": null,
            "overflow_y": null,
            "padding": null,
            "right": null,
            "top": null,
            "visibility": null,
            "width": null
          }
        },
        "11b6accdec9645b99a248cd91a249899": {
          "model_module": "@jupyter-widgets/base",
          "model_name": "LayoutModel",
          "model_module_version": "1.2.0",
          "state": {
            "_model_module": "@jupyter-widgets/base",
            "_model_module_version": "1.2.0",
            "_model_name": "LayoutModel",
            "_view_count": null,
            "_view_module": "@jupyter-widgets/base",
            "_view_module_version": "1.2.0",
            "_view_name": "LayoutView",
            "align_content": null,
            "align_items": null,
            "align_self": null,
            "border": null,
            "bottom": null,
            "display": null,
            "flex": null,
            "flex_flow": null,
            "grid_area": null,
            "grid_auto_columns": null,
            "grid_auto_flow": null,
            "grid_auto_rows": null,
            "grid_column": null,
            "grid_gap": null,
            "grid_row": null,
            "grid_template_areas": null,
            "grid_template_columns": null,
            "grid_template_rows": null,
            "height": null,
            "justify_content": null,
            "justify_items": null,
            "left": null,
            "margin": null,
            "max_height": null,
            "max_width": null,
            "min_height": null,
            "min_width": null,
            "object_fit": null,
            "object_position": null,
            "order": null,
            "overflow": null,
            "overflow_x": null,
            "overflow_y": null,
            "padding": null,
            "right": null,
            "top": null,
            "visibility": null,
            "width": null
          }
        },
        "9fc87fd9dbe646bca816c5ad34cc0a81": {
          "model_module": "@jupyter-widgets/controls",
          "model_name": "DescriptionStyleModel",
          "model_module_version": "1.5.0",
          "state": {
            "_model_module": "@jupyter-widgets/controls",
            "_model_module_version": "1.5.0",
            "_model_name": "DescriptionStyleModel",
            "_view_count": null,
            "_view_module": "@jupyter-widgets/base",
            "_view_module_version": "1.2.0",
            "_view_name": "StyleView",
            "description_width": ""
          }
        },
        "9eb163807bda46178b30edb5c8a6580b": {
          "model_module": "@jupyter-widgets/base",
          "model_name": "LayoutModel",
          "model_module_version": "1.2.0",
          "state": {
            "_model_module": "@jupyter-widgets/base",
            "_model_module_version": "1.2.0",
            "_model_name": "LayoutModel",
            "_view_count": null,
            "_view_module": "@jupyter-widgets/base",
            "_view_module_version": "1.2.0",
            "_view_name": "LayoutView",
            "align_content": null,
            "align_items": null,
            "align_self": null,
            "border": null,
            "bottom": null,
            "display": null,
            "flex": null,
            "flex_flow": null,
            "grid_area": null,
            "grid_auto_columns": null,
            "grid_auto_flow": null,
            "grid_auto_rows": null,
            "grid_column": null,
            "grid_gap": null,
            "grid_row": null,
            "grid_template_areas": null,
            "grid_template_columns": null,
            "grid_template_rows": null,
            "height": null,
            "justify_content": null,
            "justify_items": null,
            "left": null,
            "margin": null,
            "max_height": null,
            "max_width": null,
            "min_height": null,
            "min_width": null,
            "object_fit": null,
            "object_position": null,
            "order": null,
            "overflow": null,
            "overflow_x": null,
            "overflow_y": null,
            "padding": null,
            "right": null,
            "top": null,
            "visibility": null,
            "width": null
          }
        },
        "d4b7ca37de2840a5ba97ef3fb1023232": {
          "model_module": "@jupyter-widgets/controls",
          "model_name": "ProgressStyleModel",
          "model_module_version": "1.5.0",
          "state": {
            "_model_module": "@jupyter-widgets/controls",
            "_model_module_version": "1.5.0",
            "_model_name": "ProgressStyleModel",
            "_view_count": null,
            "_view_module": "@jupyter-widgets/base",
            "_view_module_version": "1.2.0",
            "_view_name": "StyleView",
            "bar_color": null,
            "description_width": ""
          }
        },
        "e8eefb6b7cc34d4fb89c85bf6557923f": {
          "model_module": "@jupyter-widgets/base",
          "model_name": "LayoutModel",
          "model_module_version": "1.2.0",
          "state": {
            "_model_module": "@jupyter-widgets/base",
            "_model_module_version": "1.2.0",
            "_model_name": "LayoutModel",
            "_view_count": null,
            "_view_module": "@jupyter-widgets/base",
            "_view_module_version": "1.2.0",
            "_view_name": "LayoutView",
            "align_content": null,
            "align_items": null,
            "align_self": null,
            "border": null,
            "bottom": null,
            "display": null,
            "flex": null,
            "flex_flow": null,
            "grid_area": null,
            "grid_auto_columns": null,
            "grid_auto_flow": null,
            "grid_auto_rows": null,
            "grid_column": null,
            "grid_gap": null,
            "grid_row": null,
            "grid_template_areas": null,
            "grid_template_columns": null,
            "grid_template_rows": null,
            "height": null,
            "justify_content": null,
            "justify_items": null,
            "left": null,
            "margin": null,
            "max_height": null,
            "max_width": null,
            "min_height": null,
            "min_width": null,
            "object_fit": null,
            "object_position": null,
            "order": null,
            "overflow": null,
            "overflow_x": null,
            "overflow_y": null,
            "padding": null,
            "right": null,
            "top": null,
            "visibility": null,
            "width": null
          }
        },
        "dd0f2eab0c0c45d9b32b3e31c3fcad50": {
          "model_module": "@jupyter-widgets/controls",
          "model_name": "DescriptionStyleModel",
          "model_module_version": "1.5.0",
          "state": {
            "_model_module": "@jupyter-widgets/controls",
            "_model_module_version": "1.5.0",
            "_model_name": "DescriptionStyleModel",
            "_view_count": null,
            "_view_module": "@jupyter-widgets/base",
            "_view_module_version": "1.2.0",
            "_view_name": "StyleView",
            "description_width": ""
          }
        }
      }
    }
  },
  "nbformat_minor": 0,
  "nbformat": 4,
  "cells": [
    {
      "cell_type": "markdown",
      "source": [
        "# Anti-cancer activity prediction\n"
      ],
      "metadata": {
        "id": "wkQ8QORsW7d9"
      }
    },
    {
      "cell_type": "markdown",
      "source": [
        "## Problem Formulation\n",
        "This competition is a bioassay task for anticancer activity prediction, where each chemical compound is represented as a graph, with atoms representing nodes and bonds as edges. A chemical compound is positive against non-small cell lung cancer, or negative otherwise. Up to this point, you have learned various tricks and mechanisms to be used for building neural networks/tuning models."
      ],
      "metadata": {
        "id": "-f3gEc98XJD2"
      }
    },
    {
      "cell_type": "markdown",
      "source": [
        "## Data Loading and Exploration\n",
        "Data format is SDF, we need to read it at first."
      ],
      "metadata": {
        "id": "SejWeYEuXCel"
      }
    },
    {
      "cell_type": "code",
      "source": [
        "from google.colab import drive\n",
        "drive.mount('/content/drive')"
      ],
      "metadata": {
        "colab": {
          "base_uri": "https://localhost:8080/"
        },
        "id": "bLYsMjabzjN-",
        "outputId": "d60db2e6-2a99-48b9-bac5-03634b3620b0"
      },
      "execution_count": null,
      "outputs": [
        {
          "output_type": "stream",
          "name": "stdout",
          "text": [
            "Mounted at /content/drive\n"
          ]
        }
      ]
    },
    {
      "cell_type": "code",
      "source": [
        "import numpy as np\n",
        "from tqdm.notebook import tqdm\n",
        "\n",
        "def read_sdf(file):\n",
        "    with open(file, 'r') as rf:\n",
        "        content = rf.read()\n",
        "        #split each sample alone by ($$$$)\n",
        "    samples = content.split('$$$$')\n",
        "    \n",
        "    def parse_sample(s):\n",
        "        lines = s.splitlines()\n",
        "        links = []\n",
        "        nodes = []\n",
        "        label = 0\n",
        "        #if the label : ==1 leave it as it is, if ==-1 make it 0.\n",
        "        for l in lines:\n",
        "            if l.strip() == '1.0':\n",
        "                label = 1\n",
        "            if l.strip() == '-1.0':\n",
        "                label = 0\n",
        "            if l.startswith('    '):\n",
        "                feature = l.split()\n",
        "                node = feature[3]\n",
        "                nodes.append(node)\n",
        "            elif l.startswith(' '):\n",
        "                lnk = l.split()\n",
        "                # edge: (from, to,) (1-based index)\n",
        "                #edge represent link between each two nodes\n",
        "                if int(lnk[0]) - 1 < len(nodes):\n",
        "                    links.append((\n",
        "                        int(lnk[0])-1, \n",
        "                        int(lnk[1])-1, # zero-based index\n",
        "                        # int(lnk[2]) ignore edge weight\n",
        "                    ))\n",
        "        return nodes, np.array(links), label\n",
        "    \n",
        "    return [parse_sample(s) for s in tqdm(samples) if len(s[0]) > 0]"
      ],
      "metadata": {
        "id": "-pu7F3SbUxCK",
        "execution": {
          "iopub.status.busy": "2022-04-04T23:50:42.600384Z",
          "iopub.execute_input": "2022-04-04T23:50:42.600903Z",
          "iopub.status.idle": "2022-04-04T23:50:42.687458Z",
          "shell.execute_reply.started": "2022-04-04T23:50:42.600825Z",
          "shell.execute_reply": "2022-04-04T23:50:42.686801Z"
        },
        "trusted": true
      },
      "execution_count": null,
      "outputs": []
    },
    {
      "cell_type": "code",
      "source": [
        "#import spliting function\n",
        "#read training data and testing too\n",
        "from sklearn.model_selection import train_test_split\n",
        "training_set = read_sdf('/content/drive/MyDrive/train[1].sdf')\n",
        "testing_set  = read_sdf('/content/drive/MyDrive/test_x[1].sdf')"
      ],
      "metadata": {
        "id": "HkGovAf-Xo99",
        "outputId": "df49bc41-7ee5-48c9-f1be-7aa914b8b0e6",
        "execution": {
          "iopub.status.busy": "2022-04-04T23:50:42.689149Z",
          "iopub.execute_input": "2022-04-04T23:50:42.689393Z",
          "iopub.status.idle": "2022-04-04T23:50:49.332146Z",
          "shell.execute_reply.started": "2022-04-04T23:50:42.689359Z",
          "shell.execute_reply": "2022-04-04T23:50:49.331336Z"
        },
        "trusted": true,
        "colab": {
          "base_uri": "https://localhost:8080/",
          "referenced_widgets": [
            "ca44c177249f41f8997ee7d316e03686",
            "ca0bf53fbcad4e85868e815ca01f58de",
            "57f64b77fc0f4bc1847faca4f17288ed",
            "f707b8f6bd1c47be934fb4b6d46f3a63",
            "29ab16afcb534ce8972d80b01c6c4e80",
            "cc38ba71f83a4788bb1141f6170a194c",
            "e182d34c2ca7409a8ec06b049520eb94",
            "3f73e1ddacd846209b135d983d31b6eb",
            "37049f11c3e449ae811b771847c52b67",
            "af42aafa00d84d89b015ec7d6d4949cc",
            "4c0a5f363bfb41bcb2c12c0498a49b77",
            "3e37961e5cfd479e974d96da9a558635",
            "8579780f10b949dcb7d9e023f933fefb",
            "5ea3ec2a9fe141849888b92da6923890",
            "edf174940c754ffd9f45d6464d10dc13",
            "e533a2094cd34d91bc388d9079be9883",
            "11b6accdec9645b99a248cd91a249899",
            "9fc87fd9dbe646bca816c5ad34cc0a81",
            "9eb163807bda46178b30edb5c8a6580b",
            "d4b7ca37de2840a5ba97ef3fb1023232",
            "e8eefb6b7cc34d4fb89c85bf6557923f",
            "dd0f2eab0c0c45d9b32b3e31c3fcad50"
          ]
        }
      },
      "execution_count": null,
      "outputs": [
        {
          "output_type": "display_data",
          "data": {
            "text/plain": [
              "  0%|          | 0/25024 [00:00<?, ?it/s]"
            ],
            "application/vnd.jupyter.widget-view+json": {
              "version_major": 2,
              "version_minor": 0,
              "model_id": "ca44c177249f41f8997ee7d316e03686"
            }
          },
          "metadata": {}
        },
        {
          "output_type": "display_data",
          "data": {
            "text/plain": [
              "  0%|          | 0/12326 [00:00<?, ?it/s]"
            ],
            "application/vnd.jupyter.widget-view+json": {
              "version_major": 2,
              "version_minor": 0,
              "model_id": "3e37961e5cfd479e974d96da9a558635"
            }
          },
          "metadata": {}
        }
      ]
    },
    {
      "cell_type": "code",
      "source": [
        "#print lenght of our data and dimension\n",
        "print('length of training_set:', len(training_set))\n",
        "print('length of traiing_set[0]:', len(training_set[0]))"
      ],
      "metadata": {
        "id": "7FM61gIDoMhb",
        "outputId": "bf9942f8-7af0-4ef7-c76f-18a1079d37bf",
        "execution": {
          "iopub.status.busy": "2022-04-04T23:50:49.333341Z",
          "iopub.execute_input": "2022-04-04T23:50:49.334073Z",
          "iopub.status.idle": "2022-04-04T23:50:49.340103Z",
          "shell.execute_reply.started": "2022-04-04T23:50:49.334032Z",
          "shell.execute_reply": "2022-04-04T23:50:49.339384Z"
        },
        "trusted": true,
        "colab": {
          "base_uri": "https://localhost:8080/"
        }
      },
      "execution_count": null,
      "outputs": [
        {
          "output_type": "stream",
          "name": "stdout",
          "text": [
            "length of training_set: 25024\n",
            "length of traiing_set[0]: 3\n"
          ]
        }
      ]
    },
    {
      "cell_type": "code",
      "source": [
        "#let's see if we have unbalance in data\n",
        "np.unique(np.array(training_set)[:,2],return_counts=True)"
      ],
      "metadata": {
        "id": "S4Zb71zFZH0M",
        "outputId": "35a324d3-e8f2-40f5-ee5a-c8222829306e",
        "execution": {
          "iopub.status.busy": "2022-04-04T23:50:49.341992Z",
          "iopub.execute_input": "2022-04-04T23:50:49.342597Z",
          "iopub.status.idle": "2022-04-04T23:50:49.412025Z",
          "shell.execute_reply.started": "2022-04-04T23:50:49.342557Z",
          "shell.execute_reply": "2022-04-04T23:50:49.411363Z"
        },
        "trusted": true,
        "colab": {
          "base_uri": "https://localhost:8080/"
        }
      },
      "execution_count": null,
      "outputs": [
        {
          "output_type": "stream",
          "name": "stderr",
          "text": [
            "/usr/local/lib/python3.7/dist-packages/ipykernel_launcher.py:2: VisibleDeprecationWarning: Creating an ndarray from ragged nested sequences (which is a list-or-tuple of lists-or-tuples-or ndarrays with different lengths or shapes) is deprecated. If you meant to do this, you must specify 'dtype=object' when creating the ndarray.\n",
            "  \n"
          ]
        },
        {
          "output_type": "execute_result",
          "data": {
            "text/plain": [
              "(array([0, 1], dtype=object), array([23806,  1218]))"
            ]
          },
          "metadata": {},
          "execution_count": 5
        }
      ]
    },
    {
      "cell_type": "markdown",
      "source": [
        "We have 19,043 negative cases and only 976 positive ones.\n",
        "Here we have unbalanced data.\n",
        "\n",
        "So we need to up sample positive class."
      ],
      "metadata": {
        "id": "YBQRQR_1Z1_s"
      }
    },
    {
      "cell_type": "markdown",
      "source": [
        "## Data Visualizing"
      ],
      "metadata": {
        "id": "zhcZTyETqNlq"
      }
    },
    {
      "cell_type": "code",
      "source": [
        "!pip install --quiet networkx\n",
        "import networkx as nx\n",
        "import matplotlib.pyplot as plt\n",
        "from matplotlib import cm\n",
        "colors = cm.rainbow(np.linspace(0, 1, 50))"
      ],
      "metadata": {
        "id": "BcKSoUOfqPB5",
        "execution": {
          "iopub.status.busy": "2022-04-04T23:50:49.413229Z",
          "iopub.execute_input": "2022-04-04T23:50:49.413815Z",
          "iopub.status.idle": "2022-04-04T23:50:58.023493Z",
          "shell.execute_reply.started": "2022-04-04T23:50:49.413776Z",
          "shell.execute_reply": "2022-04-04T23:50:58.022693Z"
        },
        "trusted": true
      },
      "execution_count": null,
      "outputs": []
    },
    {
      "cell_type": "code",
      "source": [
        "def visualize(sample):\n",
        "    G=nx.Graph()\n",
        "    nodes = sample[0]\n",
        "    edges = sample[1]\n",
        "    \n",
        "    labeldict={}\n",
        "    node_color=[]\n",
        "    for i,n in enumerate(nodes):\n",
        "        G.add_node(i)\n",
        "        labeldict[i]=n\n",
        "        node_color.append(colors[hash(n)%len(colors)])\n",
        "\n",
        "    # a list of nodes:\n",
        "    for e in edges:\n",
        "        G.add_edge(e[0], e[1])\n",
        "        \n",
        "    nx.draw(G, labels=labeldict, with_labels = True, node_color = node_color)\n",
        "    plt.show()\n",
        "    \n",
        "    return G"
      ],
      "metadata": {
        "id": "MuE1x0rnqPQH",
        "execution": {
          "iopub.status.busy": "2022-04-04T23:50:58.025240Z",
          "iopub.execute_input": "2022-04-04T23:50:58.025503Z",
          "iopub.status.idle": "2022-04-04T23:50:58.034945Z",
          "shell.execute_reply.started": "2022-04-04T23:50:58.025465Z",
          "shell.execute_reply": "2022-04-04T23:50:58.034259Z"
        },
        "trusted": true
      },
      "execution_count": null,
      "outputs": []
    },
    {
      "cell_type": "code",
      "source": [
        "#visualize sample\n",
        "visualize(training_set[0])"
      ],
      "metadata": {
        "id": "Mslhowx5qPS8",
        "outputId": "2e5aa120-5ba8-4fe2-866e-6d987708b8bc",
        "execution": {
          "iopub.status.busy": "2022-04-04T23:50:58.036354Z",
          "iopub.execute_input": "2022-04-04T23:50:58.036778Z",
          "iopub.status.idle": "2022-04-04T23:50:58.241618Z",
          "shell.execute_reply.started": "2022-04-04T23:50:58.036595Z",
          "shell.execute_reply": "2022-04-04T23:50:58.240287Z"
        },
        "trusted": true,
        "colab": {
          "base_uri": "https://localhost:8080/"
        }
      },
      "execution_count": null,
      "outputs": [
        {
          "output_type": "display_data",
          "data": {
            "text/plain": [
              "<Figure size 432x288 with 1 Axes>"
            ],
            "image/png": "[encoded data removed]"
          },
          "metadata": {}
        },
        {
          "output_type": "execute_result",
          "data": {
            "text/plain": [
              "<networkx.classes.graph.Graph at 0x7f4ca73b3410>"
            ]
          },
          "metadata": {},
          "execution_count": 8
        }
      ]
    },
    {
      "cell_type": "markdown",
      "source": [
        "##Data Preprocessing"
      ],
      "metadata": {
        "id": "i5RxI8xjrOrn"
      }
    },
    {
      "cell_type": "code",
      "source": [
        "from tensorflow.keras.preprocessing.text import Tokenizer\n",
        "\n",
        "max_vocab = 500\n",
        "max_len = 100\n",
        "\n",
        "# build vocabulary from training set\n",
        "all_nodes = [s[0] for s in training_set]\n",
        "tokenizer = Tokenizer(num_words=max_vocab)\n",
        "tokenizer.fit_on_texts(all_nodes)"
      ],
      "metadata": {
        "id": "775i_tmVqPWl",
        "execution": {
          "iopub.status.busy": "2022-04-04T23:50:58.242740Z",
          "iopub.execute_input": "2022-04-04T23:50:58.243395Z",
          "iopub.status.idle": "2022-04-04T23:51:03.626638Z",
          "shell.execute_reply.started": "2022-04-04T23:50:58.243355Z",
          "shell.execute_reply": "2022-04-04T23:51:03.625878Z"
        },
        "trusted": true
      },
      "execution_count": null,
      "outputs": []
    },
    {
      "cell_type": "code",
      "source": [
        "from tensorflow.keras.preprocessing.sequence import pad_sequences\n",
        "import random\n",
        "random.seed(0)\n",
        "\n",
        "def prepare_single_batch(samples):\n",
        "    sample_nodes = [s[0] for s in samples]\n",
        "    sample_nodes = tokenizer.texts_to_sequences(sample_nodes)\n",
        "    sample_nodes = pad_sequences(sample_nodes, padding='post')\n",
        "    max_nodes_len = np.shape(sample_nodes)[1]\n",
        "    edges = [s[1]+i*max_nodes_len for i,s in enumerate(samples)]\n",
        "    edges = [e for e in edges if len(e) > 0]\n",
        "    node_to_graph = [[i]*max_nodes_len for i in range(len(samples))]\n",
        "    \n",
        "    all_nodes = np.reshape(sample_nodes, -1)\n",
        "    all_edges = np.concatenate(edges)\n",
        "\n",
        "    node_to_graph = np.reshape(node_to_graph, -1)\n",
        "    return {\n",
        "        'data': all_nodes,\n",
        "        'edges': all_edges,\n",
        "        'node2grah': node_to_graph,\n",
        "    }, np.array([s[2] for s in samples])\n",
        "\n",
        "\n",
        "\n",
        "def gen_batch(dataset, batch_size=16, repeat=False, shuffle=True):\n",
        "    while True:\n",
        "        dataset = list(dataset)\n",
        "        if shuffle:\n",
        "            random.shuffle(dataset)\n",
        "        l = len(dataset)\n",
        "        for ndx in range(0, l, batch_size):\n",
        "            batch_samples = dataset[ndx:min(ndx + batch_size, l)]\n",
        "            yield prepare_single_batch(batch_samples)\n",
        "        if not repeat:\n",
        "            break\n"
      ],
      "metadata": {
        "id": "Mhoxs_D8q4Id",
        "execution": {
          "iopub.status.busy": "2022-04-04T23:51:03.628042Z",
          "iopub.execute_input": "2022-04-04T23:51:03.628277Z",
          "iopub.status.idle": "2022-04-04T23:51:03.640618Z",
          "shell.execute_reply.started": "2022-04-04T23:51:03.628245Z",
          "shell.execute_reply": "2022-04-04T23:51:03.639855Z"
        },
        "trusted": true
      },
      "execution_count": null,
      "outputs": []
    },
    {
      "cell_type": "code",
      "source": [
        "#convert to data frame to be able to split ones and zeros classes\n",
        "import pandas as pd\n",
        "data=pd.DataFrame(training_set,columns=['nodes','edges','labels'])"
      ],
      "metadata": {
        "id": "oWIdbo1l8cPA",
        "execution": {
          "iopub.status.busy": "2022-04-04T23:51:03.644304Z",
          "iopub.execute_input": "2022-04-04T23:51:03.644586Z",
          "iopub.status.idle": "2022-04-04T23:51:03.670425Z",
          "shell.execute_reply.started": "2022-04-04T23:51:03.644535Z",
          "shell.execute_reply": "2022-04-04T23:51:03.669684Z"
        },
        "trusted": true
      },
      "execution_count": null,
      "outputs": []
    },
    {
      "cell_type": "code",
      "source": [
        "data"
      ],
      "metadata": {
        "id": "fDfgg30Z25ar",
        "outputId": "486d533d-0803-4af4-c796-7a1c547bc28c",
        "execution": {
          "iopub.status.busy": "2022-04-04T23:51:03.671624Z",
          "iopub.execute_input": "2022-04-04T23:51:03.671949Z",
          "iopub.status.idle": "2022-04-04T23:51:03.786891Z",
          "shell.execute_reply.started": "2022-04-04T23:51:03.671914Z",
          "shell.execute_reply": "2022-04-04T23:51:03.786240Z"
        },
        "trusted": true,
        "colab": {
          "base_uri": "https://localhost:8080/"
        }
      },
      "execution_count": null,
      "outputs": [
        {
          "output_type": "execute_result",
          "data": {
            "text/plain": [
              "                                                   nodes  \\\n",
              "0      [S, O, O, O, O, N, N, N, C, C, C, C, C, C, C, ...   \n",
              "1      [O, O, O, O, O, O, N, N, N, C, C, C, C, C, C, ...   \n",
              "2      [F, F, F, O, O, O, O, O, N, N, C, C, C, C, C, ...   \n",
              "3      [Cl, S, S, O, O, O, O, N, N, N, N, C, C, C, C,...   \n",
              "4      [S, O, O, N, N, N, N, N, N, C, C, C, C, C, C, ...   \n",
              "...                                                  ...   \n",
              "25019  [O, O, O, O, O, O, N, N, C, C, C, C, C, C, C, ...   \n",
              "25020  [O, O, O, O, O, N, C, C, C, C, C, C, C, C, C, ...   \n",
              "25021  [O, O, O, O, O, O, O, O, O, N, C, C, C, C, C, ...   \n",
              "25022  [S, O, O, O, O, N, N, N, C, C, C, C, C, C, C, ...   \n",
              "25023  [Cl, Cl, Cl, S, O, O, O, O, N, N, N, N, N, C, ...   \n",
              "\n",
              "                                                   edges  labels  \n",
              "0      [[0, 8], [0, 14], [1, 10], [2, 11], [3, 7], [4...       0  \n",
              "1      [[0, 6], [0, 15], [1, 15], [2, 7], [3, 8], [4,...       0  \n",
              "2      [[0, 19], [1, 19], [2, 19], [3, 16], [4, 28], ...       0  \n",
              "3      [[0, 12], [1, 15], [1, 18], [2, 4], [2, 5], [2...       0  \n",
              "4      [[0, 1], [0, 2], [0, 5], [0, 9], [3, 4], [3, 1...       0  \n",
              "...                                                  ...     ...  \n",
              "25019  [[0, 8], [0, 14], [1, 10], [2, 12], [3, 13], [...       0  \n",
              "25020  [[0, 9], [1, 11], [2, 16], [2, 19], [3, 16], [...       0  \n",
              "25021  [[0, 12], [0, 16], [1, 10], [2, 11], [3, 15], ...       0  \n",
              "25022  [[0, 11], [0, 12], [1, 21], [1, 27], [2, 22], ...       0  \n",
              "25023  [[0, 25], [1, 26], [2, 29], [3, 13], [3, 15], ...       0  \n",
              "\n",
              "[25024 rows x 3 columns]"
            ],
            "text/html": [
              "\n",
              "  <div id=\"df-cc1b9efa-65c3-4aa4-8cb8-e4da2093defb\">\n",
              "    <div class=\"colab-df-container\">\n",
              "      <div>\n",
              "<style scoped>\n",
              "    .dataframe tbody tr th:only-of-type {\n",
              "        vertical-align: middle;\n",
              "    }\n",
              "\n",
              "    .dataframe tbody tr th {\n",
              "        vertical-align: top;\n",
              "    }\n",
              "\n",
              "    .dataframe thead th {\n",
              "        text-align: right;\n",
              "    }\n",
              "</style>\n",
              "<table border=\"1\" class=\"dataframe\">\n",
              "  <thead>\n",
              "    <tr style=\"text-align: right;\">\n",
              "      <th></th>\n",
              "      <th>nodes</th>\n",
              "      <th>edges</th>\n",
              "      <th>labels</th>\n",
              "    </tr>\n",
              "  </thead>\n",
              "  <tbody>\n",
              "    <tr>\n",
              "      <th>0</th>\n",
              "      <td>[S, O, O, O, O, N, N, N, C, C, C, C, C, C, C, ...</td>\n",
              "      <td>[[0, 8], [0, 14], [1, 10], [2, 11], [3, 7], [4...</td>\n",
              "      <td>0</td>\n",
              "    </tr>\n",
              "    <tr>\n",
              "      <th>1</th>\n",
              "      <td>[O, O, O, O, O, O, N, N, N, C, C, C, C, C, C, ...</td>\n",
              "      <td>[[0, 6], [0, 15], [1, 15], [2, 7], [3, 8], [4,...</td>\n",
              "      <td>0</td>\n",
              "    </tr>\n",
              "    <tr>\n",
              "      <th>2</th>\n",
              "      <td>[F, F, F, O, O, O, O, O, N, N, C, C, C, C, C, ...</td>\n",
              "      <td>[[0, 19], [1, 19], [2, 19], [3, 16], [4, 28], ...</td>\n",
              "      <td>0</td>\n",
              "    </tr>\n",
              "    <tr>\n",
              "      <th>3</th>\n",
              "      <td>[Cl, S, S, O, O, O, O, N, N, N, N, C, C, C, C,...</td>\n",
              "      <td>[[0, 12], [1, 15], [1, 18], [2, 4], [2, 5], [2...</td>\n",
              "      <td>0</td>\n",
              "    </tr>\n",
              "    <tr>\n",
              "      <th>4</th>\n",
              "      <td>[S, O, O, N, N, N, N, N, N, C, C, C, C, C, C, ...</td>\n",
              "      <td>[[0, 1], [0, 2], [0, 5], [0, 9], [3, 4], [3, 1...</td>\n",
              "      <td>0</td>\n",
              "    </tr>\n",
              "    <tr>\n",
              "      <th>...</th>\n",
              "      <td>...</td>\n",
              "      <td>...</td>\n",
              "      <td>...</td>\n",
              "    </tr>\n",
              "    <tr>\n",
              "      <th>25019</th>\n",
              "      <td>[O, O, O, O, O, O, N, N, C, C, C, C, C, C, C, ...</td>\n",
              "      <td>[[0, 8], [0, 14], [1, 10], [2, 12], [3, 13], [...</td>\n",
              "      <td>0</td>\n",
              "    </tr>\n",
              "    <tr>\n",
              "      <th>25020</th>\n",
              "      <td>[O, O, O, O, O, N, C, C, C, C, C, C, C, C, C, ...</td>\n",
              "      <td>[[0, 9], [1, 11], [2, 16], [2, 19], [3, 16], [...</td>\n",
              "      <td>0</td>\n",
              "    </tr>\n",
              "    <tr>\n",
              "      <th>25021</th>\n",
              "      <td>[O, O, O, O, O, O, O, O, O, N, C, C, C, C, C, ...</td>\n",
              "      <td>[[0, 12], [0, 16], [1, 10], [2, 11], [3, 15], ...</td>\n",
              "      <td>0</td>\n",
              "    </tr>\n",
              "    <tr>\n",
              "      <th>25022</th>\n",
              "      <td>[S, O, O, O, O, N, N, N, C, C, C, C, C, C, C, ...</td>\n",
              "      <td>[[0, 11], [0, 12], [1, 21], [1, 27], [2, 22], ...</td>\n",
              "      <td>0</td>\n",
              "    </tr>\n",
              "    <tr>\n",
              "      <th>25023</th>\n",
              "      <td>[Cl, Cl, Cl, S, O, O, O, O, N, N, N, N, N, C, ...</td>\n",
              "      <td>[[0, 25], [1, 26], [2, 29], [3, 13], [3, 15], ...</td>\n",
              "      <td>0</td>\n",
              "    </tr>\n",
              "  </tbody>\n",
              "</table>\n",
              "<p>25024 rows × 3 columns</p>\n",
              "</div>\n",
              "      <button class=\"colab-df-convert\" onclick=\"convertToInteractive('df-cc1b9efa-65c3-4aa4-8cb8-e4da2093defb')\"\n",
              "              title=\"Convert this dataframe to an interactive table.\"\n",
              "              style=\"display:none;\">\n",
              "        \n",
              "  <svg xmlns=\"http://www.w3.org/2000/svg\" height=\"24px\"viewBox=\"0 0 24 24\"\n",
              "       width=\"24px\">\n",
              "    <path d=\"M0 0h24v24H0V0z\" fill=\"none\"/>\n",
              "    <path d=\"M18.56 5.44l.94 2.06.94-2.06 2.06-.94-2.06-.94-.94-2.06-.94 2.06-2.06.94zm-11 1L8.5 8.5l.94-2.06 2.06-.94-2.06-.94L8.5 2.5l-.94 2.06-2.06.94zm10 10l.94 2.06.94-2.06 2.06-.94-2.06-.94-.94-2.06-.94 2.06-2.06.94z\"/><path d=\"M17.41 7.96l-1.37-1.37c-.4-.4-.92-.59-1.43-.59-.52 0-1.04.2-1.43.59L10.3 9.45l-7.72 7.72c-.78.78-.78 2.05 0 2.83L4 21.41c.39.39.9.59 1.41.59.51 0 1.02-.2 1.41-.59l7.78-7.78 2.81-2.81c.8-.78.8-2.07 0-2.86zM5.41 20L4 18.59l7.72-7.72 1.47 1.35L5.41 20z\"/>\n",
              "  </svg>\n",
              "      </button>\n",
              "      \n",
              "  <style>\n",
              "    .colab-df-container {\n",
              "      display:flex;\n",
              "      flex-wrap:wrap;\n",
              "      gap: 12px;\n",
              "    }\n",
              "\n",
              "    .colab-df-convert {\n",
              "      background-color: #E8F0FE;\n",
              "      border: none;\n",
              "      border-radius: 50%;\n",
              "      cursor: pointer;\n",
              "      display: none;\n",
              "      fill: #1967D2;\n",
              "      height: 32px;\n",
              "      padding: 0 0 0 0;\n",
              "      width: 32px;\n",
              "    }\n",
              "\n",
              "    .colab-df-convert:hover {\n",
              "      background-color: #E2EBFA;\n",
              "      box-shadow: 0px 1px 2px rgba(60, 64, 67, 0.3), 0px 1px 3px 1px rgba(60, 64, 67, 0.15);\n",
              "      fill: #174EA6;\n",
              "    }\n",
              "\n",
              "    [theme=dark] .colab-df-convert {\n",
              "      background-color: #3B4455;\n",
              "      fill: #D2E3FC;\n",
              "    }\n",
              "\n",
              "    [theme=dark] .colab-df-convert:hover {\n",
              "      background-color: #434B5C;\n",
              "      box-shadow: 0px 1px 3px 1px rgba(0, 0, 0, 0.15);\n",
              "      filter: drop-shadow(0px 1px 2px rgba(0, 0, 0, 0.3));\n",
              "      fill: #FFFFFF;\n",
              "    }\n",
              "  </style>\n",
              "\n",
              "      <script>\n",
              "        const buttonEl =\n",
              "          document.querySelector('#df-cc1b9efa-65c3-4aa4-8cb8-e4da2093defb button.colab-df-convert');\n",
              "        buttonEl.style.display =\n",
              "          google.colab.kernel.accessAllowed ? 'block' : 'none';\n",
              "\n",
              "        async function convertToInteractive(key) {\n",
              "          const element = document.querySelector('#df-cc1b9efa-65c3-4aa4-8cb8-e4da2093defb');\n",
              "          const dataTable =\n",
              "            await google.colab.kernel.invokeFunction('convertToInteractive',\n",
              "                                                     [key], {});\n",
              "          if (!dataTable) return;\n",
              "\n",
              "          const docLinkHtml = 'Like what you see? Visit the ' +\n",
              "            '<a target=\"_blank\" href=https://colab.research.google.com/notebooks/data_table.ipynb>data table notebook</a>'\n",
              "            + ' to learn more about interactive tables.';\n",
              "          element.innerHTML = '';\n",
              "          dataTable['output_type'] = 'display_data';\n",
              "          await google.colab.output.renderOutput(dataTable, element);\n",
              "          const docLink = document.createElement('div');\n",
              "          docLink.innerHTML = docLinkHtml;\n",
              "          element.appendChild(docLink);\n",
              "        }\n",
              "      </script>\n",
              "    </div>\n",
              "  </div>\n",
              "  "
            ]
          },
          "metadata": {},
          "execution_count": 12
        }
      ]
    },
    {
      "cell_type": "code",
      "source": [
        "#split training data to see performance of our model while training\n",
        "training_set, validation_set = train_test_split(data, test_size=0.2,)"
      ],
      "metadata": {
        "id": "zn8oIzmr5OqR",
        "execution": {
          "iopub.status.busy": "2022-04-04T23:51:04.326461Z",
          "iopub.execute_input": "2022-04-04T23:51:04.326700Z",
          "iopub.status.idle": "2022-04-04T23:51:04.345318Z",
          "shell.execute_reply.started": "2022-04-04T23:51:04.326667Z",
          "shell.execute_reply": "2022-04-04T23:51:04.344525Z"
        },
        "trusted": true
      },
      "execution_count": null,
      "outputs": []
    },
    {
      "cell_type": "code",
      "source": [
        "#label_1 contains data with label 1, label_2 contains data with label 0\n",
        "label_1=training_set[training_set['labels']==1]\n",
        "label_2=training_set[training_set['labels']==0]\n",
        "label_1.shape,label_2.shape"
      ],
      "metadata": {
        "id": "RSCEyrH45gdv",
        "outputId": "22ec989c-6c93-40d5-e36b-4c882be8c17d",
        "execution": {
          "iopub.status.busy": "2022-04-04T23:51:03.787996Z",
          "iopub.execute_input": "2022-04-04T23:51:03.788231Z",
          "iopub.status.idle": "2022-04-04T23:51:03.804222Z",
          "shell.execute_reply.started": "2022-04-04T23:51:03.788199Z",
          "shell.execute_reply": "2022-04-04T23:51:03.803461Z"
        },
        "trusted": true,
        "colab": {
          "base_uri": "https://localhost:8080/"
        }
      },
      "execution_count": null,
      "outputs": [
        {
          "output_type": "execute_result",
          "data": {
            "text/plain": [
              "((1218, 3), (23806, 3))"
            ]
          },
          "metadata": {},
          "execution_count": 13
        }
      ]
    },
    {
      "cell_type": "code",
      "source": [
        "#resample data of label 1 to fix unbalanced data problems\n",
        "from sklearn.utils import resample\n",
        "upsample = resample(label_1,\n",
        "             replace=True,\n",
        "             n_samples=len(label_2),\n",
        "             random_state=42)"
      ],
      "metadata": {
        "id": "pY_S3X4Zpnj4",
        "execution": {
          "iopub.status.busy": "2022-04-04T23:51:03.805484Z",
          "iopub.execute_input": "2022-04-04T23:51:03.805764Z",
          "iopub.status.idle": "2022-04-04T23:51:04.091782Z",
          "shell.execute_reply.started": "2022-04-04T23:51:03.805729Z",
          "shell.execute_reply": "2022-04-04T23:51:04.091026Z"
        },
        "trusted": true
      },
      "execution_count": null,
      "outputs": []
    },
    {
      "cell_type": "code",
      "source": [
        "upsample"
      ],
      "metadata": {
        "id": "7LyYJ73i4NMH",
        "outputId": "9f43b548-31b2-43f5-fc46-b8d11c9149fb",
        "execution": {
          "iopub.status.busy": "2022-04-04T23:51:04.093549Z",
          "iopub.execute_input": "2022-04-04T23:51:04.094073Z",
          "iopub.status.idle": "2022-04-04T23:51:04.203909Z",
          "shell.execute_reply.started": "2022-04-04T23:51:04.094036Z",
          "shell.execute_reply": "2022-04-04T23:51:04.203227Z"
        },
        "trusted": true,
        "colab": {
          "base_uri": "https://localhost:8080/"
        }
      },
      "execution_count": null,
      "outputs": [
        {
          "output_type": "execute_result",
          "data": {
            "text/plain": [
              "                                                   nodes  \\\n",
              "23357  [O, O, O, O, O, C, C, C, C, C, C, C, C, C, C, ...   \n",
              "17640  [O, O, O, O, O, O, O, C, C, C, C, C, C, C, C, ...   \n",
              "23463  [O, O, N, N, C, C, C, C, C, C, C, C, C, C, C, ...   \n",
              "22676  [O, O, O, O, O, O, O, C, C, C, C, C, C, C, C, ...   \n",
              "21324  [S, S, O, O, O, O, N, N, C, C, C, C, C, C, C, ...   \n",
              "...                                                  ...   \n",
              "16643  [O, O, O, O, O, O, N, C, C, C, C, C, C, C, C, ...   \n",
              "5670   [Cl, O, O, O, O, O, O, O, O, N, N, N, N, C, C,...   \n",
              "4221   [Cl, Cl, O, O, O, O, N, N, N, C, C, C, C, C, C...   \n",
              "14241  [Cl, O, O, O, O, O, O, O, O, O, O, C, C, C, C,...   \n",
              "19722               [O, O, O, O, N, N, N, C, C, C, C, C]   \n",
              "\n",
              "                                                   edges  labels  \n",
              "23357  [[8, 0], [0, 19], [1, 17], [1, 22], [2, 19], [...       1  \n",
              "17640  [[7, 0], [8, 0], [1, 14], [1, 15], [11, 2], [1...       1  \n",
              "23463  [[0, 5], [1, 4], [2, 4], [2, 5], [2, 6], [3, 4...       1  \n",
              "22676  [[0, 9], [0, 11], [1, 9], [1, 19], [2, 10], [2...       1  \n",
              "21324  [[0, 8], [0, 13], [1, 11], [1, 12], [16, 2], [...       1  \n",
              "...                                                  ...     ...  \n",
              "16643  [[0, 9], [0, 24], [1, 12], [1, 25], [2, 14], [...       1  \n",
              "5670   [[0, 32], [1, 17], [2, 25], [2, 36], [3, 27], ...       1  \n",
              "4221   [[0, 30], [1, 31], [2, 15], [2, 27], [3, 13], ...       1  \n",
              "14241  [[30, 0], [11, 1], [14, 1], [2, 13], [2, 22], ...       1  \n",
              "19722  [[0, 8], [0, 9], [1, 8], [2, 10], [3, 10], [4,...       1  \n",
              "\n",
              "[23806 rows x 3 columns]"
            ],
            "text/html": [
              "\n",
              "  <div id=\"df-15b1215a-d60e-464c-8b27-eb0df7745f94\">\n",
              "    <div class=\"colab-df-container\">\n",
              "      <div>\n",
              "<style scoped>\n",
              "    .dataframe tbody tr th:only-of-type {\n",
              "        vertical-align: middle;\n",
              "    }\n",
              "\n",
              "    .dataframe tbody tr th {\n",
              "        vertical-align: top;\n",
              "    }\n",
              "\n",
              "    .dataframe thead th {\n",
              "        text-align: right;\n",
              "    }\n",
              "</style>\n",
              "<table border=\"1\" class=\"dataframe\">\n",
              "  <thead>\n",
              "    <tr style=\"text-align: right;\">\n",
              "      <th></th>\n",
              "      <th>nodes</th>\n",
              "      <th>edges</th>\n",
              "      <th>labels</th>\n",
              "    </tr>\n",
              "  </thead>\n",
              "  <tbody>\n",
              "    <tr>\n",
              "      <th>23357</th>\n",
              "      <td>[O, O, O, O, O, C, C, C, C, C, C, C, C, C, C, ...</td>\n",
              "      <td>[[8, 0], [0, 19], [1, 17], [1, 22], [2, 19], [...</td>\n",
              "      <td>1</td>\n",
              "    </tr>\n",
              "    <tr>\n",
              "      <th>17640</th>\n",
              "      <td>[O, O, O, O, O, O, O, C, C, C, C, C, C, C, C, ...</td>\n",
              "      <td>[[7, 0], [8, 0], [1, 14], [1, 15], [11, 2], [1...</td>\n",
              "      <td>1</td>\n",
              "    </tr>\n",
              "    <tr>\n",
              "      <th>23463</th>\n",
              "      <td>[O, O, N, N, C, C, C, C, C, C, C, C, C, C, C, ...</td>\n",
              "      <td>[[0, 5], [1, 4], [2, 4], [2, 5], [2, 6], [3, 4...</td>\n",
              "      <td>1</td>\n",
              "    </tr>\n",
              "    <tr>\n",
              "      <th>22676</th>\n",
              "      <td>[O, O, O, O, O, O, O, C, C, C, C, C, C, C, C, ...</td>\n",
              "      <td>[[0, 9], [0, 11], [1, 9], [1, 19], [2, 10], [2...</td>\n",
              "      <td>1</td>\n",
              "    </tr>\n",
              "    <tr>\n",
              "      <th>21324</th>\n",
              "      <td>[S, S, O, O, O, O, N, N, C, C, C, C, C, C, C, ...</td>\n",
              "      <td>[[0, 8], [0, 13], [1, 11], [1, 12], [16, 2], [...</td>\n",
              "      <td>1</td>\n",
              "    </tr>\n",
              "    <tr>\n",
              "      <th>...</th>\n",
              "      <td>...</td>\n",
              "      <td>...</td>\n",
              "      <td>...</td>\n",
              "    </tr>\n",
              "    <tr>\n",
              "      <th>16643</th>\n",
              "      <td>[O, O, O, O, O, O, N, C, C, C, C, C, C, C, C, ...</td>\n",
              "      <td>[[0, 9], [0, 24], [1, 12], [1, 25], [2, 14], [...</td>\n",
              "      <td>1</td>\n",
              "    </tr>\n",
              "    <tr>\n",
              "      <th>5670</th>\n",
              "      <td>[Cl, O, O, O, O, O, O, O, O, N, N, N, N, C, C,...</td>\n",
              "      <td>[[0, 32], [1, 17], [2, 25], [2, 36], [3, 27], ...</td>\n",
              "      <td>1</td>\n",
              "    </tr>\n",
              "    <tr>\n",
              "      <th>4221</th>\n",
              "      <td>[Cl, Cl, O, O, O, O, N, N, N, C, C, C, C, C, C...</td>\n",
              "      <td>[[0, 30], [1, 31], [2, 15], [2, 27], [3, 13], ...</td>\n",
              "      <td>1</td>\n",
              "    </tr>\n",
              "    <tr>\n",
              "      <th>14241</th>\n",
              "      <td>[Cl, O, O, O, O, O, O, O, O, O, O, C, C, C, C,...</td>\n",
              "      <td>[[30, 0], [11, 1], [14, 1], [2, 13], [2, 22], ...</td>\n",
              "      <td>1</td>\n",
              "    </tr>\n",
              "    <tr>\n",
              "      <th>19722</th>\n",
              "      <td>[O, O, O, O, N, N, N, C, C, C, C, C]</td>\n",
              "      <td>[[0, 8], [0, 9], [1, 8], [2, 10], [3, 10], [4,...</td>\n",
              "      <td>1</td>\n",
              "    </tr>\n",
              "  </tbody>\n",
              "</table>\n",
              "<p>23806 rows × 3 columns</p>\n",
              "</div>\n",
              "      <button class=\"colab-df-convert\" onclick=\"convertToInteractive('df-15b1215a-d60e-464c-8b27-eb0df7745f94')\"\n",
              "              title=\"Convert this dataframe to an interactive table.\"\n",
              "              style=\"display:none;\">\n",
              "        \n",
              "  <svg xmlns=\"http://www.w3.org/2000/svg\" height=\"24px\"viewBox=\"0 0 24 24\"\n",
              "       width=\"24px\">\n",
              "    <path d=\"M0 0h24v24H0V0z\" fill=\"none\"/>\n",
              "    <path d=\"M18.56 5.44l.94 2.06.94-2.06 2.06-.94-2.06-.94-.94-2.06-.94 2.06-2.06.94zm-11 1L8.5 8.5l.94-2.06 2.06-.94-2.06-.94L8.5 2.5l-.94 2.06-2.06.94zm10 10l.94 2.06.94-2.06 2.06-.94-2.06-.94-.94-2.06-.94 2.06-2.06.94z\"/><path d=\"M17.41 7.96l-1.37-1.37c-.4-.4-.92-.59-1.43-.59-.52 0-1.04.2-1.43.59L10.3 9.45l-7.72 7.72c-.78.78-.78 2.05 0 2.83L4 21.41c.39.39.9.59 1.41.59.51 0 1.02-.2 1.41-.59l7.78-7.78 2.81-2.81c.8-.78.8-2.07 0-2.86zM5.41 20L4 18.59l7.72-7.72 1.47 1.35L5.41 20z\"/>\n",
              "  </svg>\n",
              "      </button>\n",
              "      \n",
              "  <style>\n",
              "    .colab-df-container {\n",
              "      display:flex;\n",
              "      flex-wrap:wrap;\n",
              "      gap: 12px;\n",
              "    }\n",
              "\n",
              "    .colab-df-convert {\n",
              "      background-color: #E8F0FE;\n",
              "      border: none;\n",
              "      border-radius: 50%;\n",
              "      cursor: pointer;\n",
              "      display: none;\n",
              "      fill: #1967D2;\n",
              "      height: 32px;\n",
              "      padding: 0 0 0 0;\n",
              "      width: 32px;\n",
              "    }\n",
              "\n",
              "    .colab-df-convert:hover {\n",
              "      background-color: #E2EBFA;\n",
              "      box-shadow: 0px 1px 2px rgba(60, 64, 67, 0.3), 0px 1px 3px 1px rgba(60, 64, 67, 0.15);\n",
              "      fill: #174EA6;\n",
              "    }\n",
              "\n",
              "    [theme=dark] .colab-df-convert {\n",
              "      background-color: #3B4455;\n",
              "      fill: #D2E3FC;\n",
              "    }\n",
              "\n",
              "    [theme=dark] .colab-df-convert:hover {\n",
              "      background-color: #434B5C;\n",
              "      box-shadow: 0px 1px 3px 1px rgba(0, 0, 0, 0.15);\n",
              "      filter: drop-shadow(0px 1px 2px rgba(0, 0, 0, 0.3));\n",
              "      fill: #FFFFFF;\n",
              "    }\n",
              "  </style>\n",
              "\n",
              "      <script>\n",
              "        const buttonEl =\n",
              "          document.querySelector('#df-15b1215a-d60e-464c-8b27-eb0df7745f94 button.colab-df-convert');\n",
              "        buttonEl.style.display =\n",
              "          google.colab.kernel.accessAllowed ? 'block' : 'none';\n",
              "\n",
              "        async function convertToInteractive(key) {\n",
              "          const element = document.querySelector('#df-15b1215a-d60e-464c-8b27-eb0df7745f94');\n",
              "          const dataTable =\n",
              "            await google.colab.kernel.invokeFunction('convertToInteractive',\n",
              "                                                     [key], {});\n",
              "          if (!dataTable) return;\n",
              "\n",
              "          const docLinkHtml = 'Like what you see? Visit the ' +\n",
              "            '<a target=\"_blank\" href=https://colab.research.google.com/notebooks/data_table.ipynb>data table notebook</a>'\n",
              "            + ' to learn more about interactive tables.';\n",
              "          element.innerHTML = '';\n",
              "          dataTable['output_type'] = 'display_data';\n",
              "          await google.colab.output.renderOutput(dataTable, element);\n",
              "          const docLink = document.createElement('div');\n",
              "          docLink.innerHTML = docLinkHtml;\n",
              "          element.appendChild(docLink);\n",
              "        }\n",
              "      </script>\n",
              "    </div>\n",
              "  </div>\n",
              "  "
            ]
          },
          "metadata": {},
          "execution_count": 15
        }
      ]
    },
    {
      "cell_type": "code",
      "source": [
        "#display no. od ones in new sampled part\n",
        "np.unique(np.array(upsample)[:,2],return_counts=True)"
      ],
      "metadata": {
        "id": "bZgnt416vVYu",
        "outputId": "d05f2a46-47a9-463b-b227-36adaed53311",
        "execution": {
          "iopub.status.busy": "2022-04-04T23:51:04.204995Z",
          "iopub.execute_input": "2022-04-04T23:51:04.205238Z",
          "iopub.status.idle": "2022-04-04T23:51:04.231282Z",
          "shell.execute_reply.started": "2022-04-04T23:51:04.205205Z",
          "shell.execute_reply": "2022-04-04T23:51:04.230479Z"
        },
        "trusted": true,
        "colab": {
          "base_uri": "https://localhost:8080/"
        }
      },
      "execution_count": null,
      "outputs": [
        {
          "output_type": "execute_result",
          "data": {
            "text/plain": [
              "(array([1], dtype=object), array([23806]))"
            ]
          },
          "metadata": {},
          "execution_count": 16
        }
      ]
    },
    {
      "cell_type": "code",
      "source": [
        "#add sampled ones part to zeros part again\n",
        "training_set = pd.concat([label_2,upsample])\n",
        "training_set.shape"
      ],
      "metadata": {
        "id": "feIL-F-K6T93",
        "outputId": "6b18a084-7391-471c-9c34-88099452aba5",
        "execution": {
          "iopub.status.busy": "2022-04-04T23:51:04.232783Z",
          "iopub.execute_input": "2022-04-04T23:51:04.233070Z",
          "iopub.status.idle": "2022-04-04T23:51:04.241657Z",
          "shell.execute_reply.started": "2022-04-04T23:51:04.233031Z",
          "shell.execute_reply": "2022-04-04T23:51:04.240931Z"
        },
        "trusted": true,
        "colab": {
          "base_uri": "https://localhost:8080/"
        }
      },
      "execution_count": null,
      "outputs": [
        {
          "output_type": "execute_result",
          "data": {
            "text/plain": [
              "(47612, 3)"
            ]
          },
          "metadata": {},
          "execution_count": 17
        }
      ]
    },
    {
      "cell_type": "code",
      "source": [
        "#convert data again to tuple list\n",
        "training_set = training_set.to_records(index=False)\n",
        "training_set = list(training_set)"
      ],
      "metadata": {
        "id": "EW56wJyq-V66",
        "execution": {
          "iopub.status.busy": "2022-04-04T23:51:04.243238Z",
          "iopub.execute_input": "2022-04-04T23:51:04.243836Z",
          "iopub.status.idle": "2022-04-04T23:51:04.325331Z",
          "shell.execute_reply.started": "2022-04-04T23:51:04.243794Z",
          "shell.execute_reply": "2022-04-04T23:51:04.324598Z"
        },
        "trusted": true
      },
      "execution_count": null,
      "outputs": []
    },
    {
      "cell_type": "code",
      "source": [
        "training_set"
      ],
      "metadata": {
        "id": "vBc6TSn--A55",
        "execution": {
          "iopub.status.busy": "2022-04-04T23:51:04.346882Z",
          "iopub.execute_input": "2022-04-04T23:51:04.347426Z",
          "iopub.status.idle": "2022-04-04T23:51:04.902092Z",
          "shell.execute_reply.started": "2022-04-04T23:51:04.347345Z",
          "shell.execute_reply": "2022-04-04T23:51:04.901453Z"
        },
        "trusted": true
      },
      "execution_count": null,
      "outputs": []
    },
    {
      "cell_type": "markdown",
      "source": [
        "## Building Model"
      ],
      "metadata": {
        "id": "0LiLBP-Wqmib"
      }
    },
    {
      "cell_type": "code",
      "source": [
        "!pip install --quiet tf2_gnn\n",
        "from tf2_gnn.layers.gnn import GNN, GNNInput"
      ],
      "metadata": {
        "id": "-DOZ_A2sqrEy",
        "execution": {
          "iopub.status.busy": "2022-04-04T23:51:04.902995Z",
          "iopub.execute_input": "2022-04-04T23:51:04.903239Z",
          "iopub.status.idle": "2022-04-04T23:51:33.683016Z",
          "shell.execute_reply.started": "2022-04-04T23:51:04.903208Z",
          "shell.execute_reply": "2022-04-04T23:51:33.682223Z"
        },
        "trusted": true,
        "colab": {
          "base_uri": "https://localhost:8080/"
        },
        "outputId": "7971811b-4ca2-4f18-e839-87d960dde547"
      },
      "execution_count": null,
      "outputs": [
        {
          "output_type": "stream",
          "name": "stdout",
          "text": [
            "\u001b[K     |████████████████████████████████| 54 kB 1.8 MB/s \n",
            "\u001b[K     |████████████████████████████████| 73 kB 1.3 MB/s \n",
            "\u001b[K     |████████████████████████████████| 134 kB 39.8 MB/s \n",
            "\u001b[K     |████████████████████████████████| 1.2 MB 24.7 MB/s \n",
            "\u001b[K     |████████████████████████████████| 346 kB 49.9 MB/s \n",
            "\u001b[K     |████████████████████████████████| 462 kB 34.6 MB/s \n",
            "\u001b[K     |████████████████████████████████| 178 kB 43.6 MB/s \n",
            "\u001b[K     |████████████████████████████████| 3.6 MB 30.8 MB/s \n",
            "\u001b[K     |████████████████████████████████| 79 kB 3.4 MB/s \n",
            "\u001b[K     |████████████████████████████████| 85 kB 3.5 MB/s \n",
            "\u001b[K     |████████████████████████████████| 41 kB 358 kB/s \n",
            "\u001b[?25h  Building wheel for tf2-gnn (setup.py) ... \u001b[?25l\u001b[?25hdone\n",
            "\u001b[31mERROR: pip's dependency resolver does not currently take into account all the packages that are installed. This behaviour is the source of the following dependency conflicts.\n",
            "arviz 0.11.4 requires typing-extensions<4,>=3.7.4.3, but you have typing-extensions 4.1.1 which is incompatible.\u001b[0m\n"
          ]
        }
      ]
    },
    {
      "cell_type": "markdown",
      "source": [
        "### Model Function"
      ],
      "metadata": {
        "id": "1uhJZIGYb_Xw"
      }
    },
    {
      "cell_type": "code",
      "source": [
        "import tensorflow as tf\n",
        "from tensorflow.math import segment_mean\n",
        "from tensorflow import keras\n",
        "from tensorflow.keras import Input, Model\n",
        "from tensorflow.keras.layers import Embedding, Dense\n",
        "from tensorflow.keras.optimizers import Adam\n",
        "#build model function and change in mechanisms\n",
        "def GNN_model(n,condition,dropout_ratio,hidden_layers,mode,par):\n",
        "    data = keras.Input(batch_shape=(None,))\n",
        "\n",
        "    # the first dim is different to the previous one. it is the total number of edges in this batch\n",
        "    edge = keras.Input(batch_shape=(None, 2), dtype=tf.int32)     #edge is 2D\n",
        "    node2graph = keras.Input(batch_shape=(None,), dtype=tf.int32)\n",
        "    embeded = Embedding(tokenizer.num_words, 100)(data)\n",
        "\n",
        "    # number of graphs (number of samples)\n",
        "    num_graph = tf.reduce_max(node2graph)+1\n",
        "\n",
        "    gnn_input = GNNInput(\n",
        "         node_features=embeded,\n",
        "         adjacency_lists=(edge,),\n",
        "         node_to_graph_map=node2graph, \n",
        "         num_graphs=num_graph,)\n",
        "\n",
        "    params = GNN.get_default_hyperparameters()\n",
        "    params[\"hidden_dim\"] = n \n",
        "    params[\"use_inter_layer_layernorm\"]=condition #true or false, default is false\n",
        "    params[\"layer_input_dropout_rate\"]=dropout_ratio #default is 0\n",
        "    params['num_aggr_MLP_hidden_layers'] = hidden_layers\n",
        "    params[\"global_exchange_mode\"]=mode #mean or gru or mlp, default is gru\n",
        "    params['message_calculation_class']=par #defaulr is rgcn\n",
        "    gnn_layer = GNN(params)\n",
        "    gnn_out = gnn_layer(gnn_input)\n",
        "\n",
        "    print('gnn_out', gnn_out)\n",
        "\n",
        "    avg = segment_mean(\n",
        "        data=gnn_out,\n",
        "        segment_ids=node2graph\n",
        "    )\n",
        "    \n",
        "    print('mean:', avg)\n",
        "    l1 = Dense(64,activation='relu')(avg) \n",
        "    l2 = Dense(64,activation='relu')(l1)\n",
        "    pred = Dense(1, activation='sigmoid')(l2) \n",
        "    print('pred:', pred)\n",
        "\n",
        "    model = Model(inputs={\n",
        "        'data': data,\n",
        "        'edges': edge,\n",
        "        'node2grah': node2graph,},\n",
        "     outputs=pred\n",
        "    )\n",
        "    return model"
      ],
      "metadata": {
        "id": "-sAtAvIUqvzr",
        "execution": {
          "iopub.status.busy": "2022-04-04T23:51:33.684342Z",
          "iopub.execute_input": "2022-04-04T23:51:33.684611Z",
          "iopub.status.idle": "2022-04-04T23:51:33.701001Z",
          "shell.execute_reply.started": "2022-04-04T23:51:33.684567Z",
          "shell.execute_reply": "2022-04-04T23:51:33.700282Z"
        },
        "trusted": true
      },
      "execution_count": null,
      "outputs": []
    },
    {
      "cell_type": "code",
      "source": [
        "import math\n",
        "def fit_pred(model):\n",
        "    batch_size = 16\n",
        "    num_batchs = math.ceil(len(training_set) / batch_size)\n",
        "    num_batchs_validation = math.ceil(len(validation_set) / batch_size)\n",
        "\n",
        "    model.fit(\n",
        "        gen_batch(\n",
        "            training_set, batch_size=batch_size, repeat=True\n",
        "        ),\n",
        "        steps_per_epoch=num_batchs,\n",
        "        epochs=30,\n",
        "        validation_data=gen_batch(\n",
        "            validation_set, batch_size=16, repeat=True\n",
        "        ),\n",
        "        validation_steps=num_batchs_validation,\n",
        "    )\n",
        "\n",
        "    y_pred = model.predict(\n",
        "        gen_batch(testing_set, batch_size=16, shuffle=False)\n",
        "    )\n",
        "    y_pred = np.reshape(y_pred, -1)\n",
        "\n",
        "    import pandas as pd \n",
        "    submission = pd.DataFrame({'label':y_pred})\n",
        "    submission.index.name = 'id'\n",
        "    return submission.to_csv('sample_submission1.csv')"
      ],
      "metadata": {
        "id": "KrZYkwPvpCMi"
      },
      "execution_count": null,
      "outputs": []
    },
    {
      "cell_type": "markdown",
      "source": [
        "###First Trial with Relational Graph Convolutional Networks Mechanism\n",
        "At the first we will try rgcn with default hyperparameters.\n",
        "\n",
        "Hidden dimension=32\n",
        "\n",
        "With no layernorm, zero dropout and gru exchange mode.\n",
        "\n",
        "Trial 1"
      ],
      "metadata": {
        "id": "fJUzY1MdtGth"
      }
    },
    {
      "cell_type": "code",
      "source": [
        "model_1=GNN_model(32,False,0,12,'gru','rgcn')"
      ],
      "metadata": {
        "id": "x4jwGLQPxI8T",
        "outputId": "a54dadca-931e-433a-d5f2-2afd76b4f737",
        "execution": {
          "iopub.status.busy": "2022-04-04T23:51:33.702544Z",
          "iopub.execute_input": "2022-04-04T23:51:33.702814Z",
          "iopub.status.idle": "2022-04-04T23:51:38.155692Z",
          "shell.execute_reply.started": "2022-04-04T23:51:33.702776Z",
          "shell.execute_reply": "2022-04-04T23:51:38.154960Z"
        },
        "trusted": true,
        "colab": {
          "base_uri": "https://localhost:8080/"
        }
      },
      "execution_count": null,
      "outputs": [
        {
          "output_type": "stream",
          "name": "stdout",
          "text": [
            "gnn_out KerasTensor(type_spec=TensorSpec(shape=(None, 32), dtype=tf.float32, name=None), name='gnn/StatefulPartitionedCall:0', description=\"created by layer 'gnn'\")\n",
            "mean: KerasTensor(type_spec=TensorSpec(shape=(None, 32), dtype=tf.float32, name=None), name='tf.math.segment_mean/SegmentMean:0', description=\"created by layer 'tf.math.segment_mean'\")\n",
            "pred: KerasTensor(type_spec=TensorSpec(shape=(None, 1), dtype=tf.float32, name=None), name='dense_2/Sigmoid:0', description=\"created by layer 'dense_2'\")\n"
          ]
        }
      ]
    },
    {
      "cell_type": "code",
      "source": [
        "model_1.compile(optimizer='adam',loss='BinaryCrossentropy',metrics=['AUC'])"
      ],
      "metadata": {
        "id": "IJ4uLYgzsEo1",
        "execution": {
          "iopub.status.busy": "2022-04-04T23:51:38.156991Z",
          "iopub.execute_input": "2022-04-04T23:51:38.157375Z",
          "iopub.status.idle": "2022-04-04T23:51:38.172319Z",
          "shell.execute_reply.started": "2022-04-04T23:51:38.157339Z",
          "shell.execute_reply": "2022-04-04T23:51:38.171479Z"
        },
        "trusted": true
      },
      "execution_count": null,
      "outputs": []
    },
    {
      "cell_type": "code",
      "source": [
        "fit_pred(model_1)"
      ],
      "metadata": {
        "id": "OarFwkIDsbfp",
        "outputId": "dd592658-ced7-4269-e207-659ed183a6a6",
        "execution": {
          "iopub.status.busy": "2022-04-04T23:51:38.174461Z",
          "iopub.execute_input": "2022-04-04T23:51:38.174969Z",
          "iopub.status.idle": "2022-04-05T00:05:54.260424Z",
          "shell.execute_reply.started": "2022-04-04T23:51:38.174930Z",
          "shell.execute_reply": "2022-04-05T00:05:54.259730Z"
        },
        "trusted": true,
        "colab": {
          "base_uri": "https://localhost:8080/"
        }
      },
      "execution_count": null,
      "outputs": [
        {
          "output_type": "stream",
          "name": "stdout",
          "text": [
            "Epoch 1/30\n"
          ]
        },
        {
          "output_type": "stream",
          "name": "stderr",
          "text": [
            "/usr/local/lib/python3.7/dist-packages/tensorflow/python/framework/indexed_slices.py:446: UserWarning: Converting sparse IndexedSlices(IndexedSlices(indices=Tensor(\"gradients/cond_3_grad/Identity_1:0\", shape=(None,), dtype=int32), values=Tensor(\"gradients/cond_3_grad/Identity:0\", shape=(None, 32), dtype=float32), dense_shape=Tensor(\"gradients/cond_3_grad/Identity_2:0\", shape=(2,), dtype=int32))) to a dense Tensor of unknown shape. This may consume a large amount of memory.\n",
            "  \"shape. This may consume a large amount of memory.\" % value)\n",
            "/usr/local/lib/python3.7/dist-packages/tensorflow/python/framework/indexed_slices.py:446: UserWarning: Converting sparse IndexedSlices(IndexedSlices(indices=Tensor(\"gradients/GatherV2_1_grad/Reshape_1:0\", shape=(None,), dtype=int32), values=Tensor(\"gradients/GatherV2_1_grad/Reshape:0\", shape=(None,), dtype=float32), dense_shape=Tensor(\"gradients/GatherV2_1_grad/Cast:0\", shape=(1,), dtype=int32))) to a dense Tensor of unknown shape. This may consume a large amount of memory.\n",
            "  \"shape. This may consume a large amount of memory.\" % value)\n",
            "/usr/local/lib/python3.7/dist-packages/tensorflow/python/framework/indexed_slices.py:446: UserWarning: Converting sparse IndexedSlices(IndexedSlices(indices=Tensor(\"gradients/GatherV2_grad/Reshape_1:0\", shape=(None,), dtype=int32), values=Tensor(\"gradients/GatherV2_grad/Reshape:0\", shape=(None,), dtype=float32), dense_shape=Tensor(\"gradients/GatherV2_grad/Cast:0\", shape=(1,), dtype=int32))) to a dense Tensor of unknown shape. This may consume a large amount of memory.\n",
            "  \"shape. This may consume a large amount of memory.\" % value)\n",
            "/usr/local/lib/python3.7/dist-packages/tensorflow/python/framework/indexed_slices.py:446: UserWarning: Converting sparse IndexedSlices(IndexedSlices(indices=Tensor(\"gradients/rgcn_2/embedding_lookup_grad/Reshape_1:0\", shape=(None,), dtype=int32), values=Tensor(\"gradients/rgcn_2/embedding_lookup_grad/Reshape:0\", shape=(None, 32), dtype=float32), dense_shape=Tensor(\"gradients/rgcn_2/embedding_lookup_grad/Cast:0\", shape=(2,), dtype=int32))) to a dense Tensor of unknown shape. This may consume a large amount of memory.\n",
            "  \"shape. This may consume a large amount of memory.\" % value)\n",
            "/usr/local/lib/python3.7/dist-packages/tensorflow/python/framework/indexed_slices.py:446: UserWarning: Converting sparse IndexedSlices(IndexedSlices(indices=Tensor(\"gradients/cond_1_grad/Identity_1:0\", shape=(None,), dtype=int32), values=Tensor(\"gradients/cond_1_grad/Identity:0\", shape=(None, 32), dtype=float32), dense_shape=Tensor(\"gradients/cond_1_grad/Identity_2:0\", shape=(2,), dtype=int32))) to a dense Tensor of unknown shape. This may consume a large amount of memory.\n",
            "  \"shape. This may consume a large amount of memory.\" % value)\n",
            "/usr/local/lib/python3.7/dist-packages/tensorflow/python/framework/indexed_slices.py:446: UserWarning: Converting sparse IndexedSlices(IndexedSlices(indices=Tensor(\"gradients/rgcn/embedding_lookup_grad/Reshape_1:0\", shape=(None,), dtype=int32), values=Tensor(\"gradients/rgcn/embedding_lookup_grad/Reshape:0\", shape=(None, 32), dtype=float32), dense_shape=Tensor(\"gradients/rgcn/embedding_lookup_grad/Cast:0\", shape=(2,), dtype=int32))) to a dense Tensor of unknown shape. This may consume a large amount of memory.\n",
            "  \"shape. This may consume a large amount of memory.\" % value)\n"
          ]
        },
        {
          "output_type": "stream",
          "name": "stdout",
          "text": [
            "2381/2381 [==============================] - 74s 28ms/step - loss: 0.6188 - auc: 0.7128 - val_loss: 0.5796 - val_auc: 0.7610\n",
            "Epoch 2/30\n",
            "2381/2381 [==============================] - 66s 28ms/step - loss: 0.5858 - auc: 0.7557 - val_loss: 0.5751 - val_auc: 0.7820\n",
            "Epoch 3/30\n",
            "2381/2381 [==============================] - 63s 26ms/step - loss: 0.5606 - auc: 0.7834 - val_loss: 0.5478 - val_auc: 0.8025\n",
            "Epoch 4/30\n",
            "2381/2381 [==============================] - 46s 19ms/step - loss: 0.5331 - auc: 0.8092 - val_loss: 0.5088 - val_auc: 0.8339\n",
            "Epoch 5/30\n",
            "2381/2381 [==============================] - 47s 20ms/step - loss: 0.5087 - auc: 0.8291 - val_loss: 0.4925 - val_auc: 0.8435\n",
            "Epoch 6/30\n",
            "2381/2381 [==============================] - 45s 19ms/step - loss: 0.4927 - auc: 0.8412 - val_loss: 0.4692 - val_auc: 0.8623\n",
            "Epoch 7/30\n",
            "2381/2381 [==============================] - 46s 19ms/step - loss: 0.4750 - auc: 0.8541 - val_loss: 0.4596 - val_auc: 0.8651\n",
            "Epoch 8/30\n",
            "2381/2381 [==============================] - 45s 19ms/step - loss: 0.4608 - auc: 0.8638 - val_loss: 0.4568 - val_auc: 0.8748\n",
            "Epoch 9/30\n",
            "2381/2381 [==============================] - 45s 19ms/step - loss: 0.4423 - auc: 0.8756 - val_loss: 0.4255 - val_auc: 0.8894\n",
            "Epoch 10/30\n",
            "2381/2381 [==============================] - 45s 19ms/step - loss: 0.4332 - auc: 0.8813 - val_loss: 0.4169 - val_auc: 0.8923\n",
            "Epoch 11/30\n",
            "2381/2381 [==============================] - 45s 19ms/step - loss: 0.4212 - auc: 0.8883 - val_loss: 0.3963 - val_auc: 0.9073\n",
            "Epoch 12/30\n",
            "2381/2381 [==============================] - 44s 19ms/step - loss: 0.4087 - auc: 0.8952 - val_loss: 0.3997 - val_auc: 0.9075\n",
            "Epoch 13/30\n",
            "2381/2381 [==============================] - 45s 19ms/step - loss: 0.3973 - auc: 0.9012 - val_loss: 0.3804 - val_auc: 0.9107\n",
            "Epoch 14/30\n",
            "2381/2381 [==============================] - 44s 19ms/step - loss: 0.3888 - auc: 0.9055 - val_loss: 0.3714 - val_auc: 0.9144\n",
            "Epoch 15/30\n",
            "2381/2381 [==============================] - 44s 19ms/step - loss: 0.3792 - auc: 0.9104 - val_loss: 0.3510 - val_auc: 0.9242\n",
            "Epoch 16/30\n",
            "2381/2381 [==============================] - 44s 19ms/step - loss: 0.3728 - auc: 0.9134 - val_loss: 0.3507 - val_auc: 0.9234\n",
            "Epoch 17/30\n",
            "2381/2381 [==============================] - 44s 19ms/step - loss: 0.3639 - auc: 0.9174 - val_loss: 0.3454 - val_auc: 0.9262\n",
            "Epoch 18/30\n",
            "2381/2381 [==============================] - 44s 19ms/step - loss: 0.3578 - auc: 0.9202 - val_loss: 0.3399 - val_auc: 0.9311\n",
            "Epoch 19/30\n",
            "2381/2381 [==============================] - 45s 19ms/step - loss: 0.3459 - auc: 0.9254 - val_loss: 0.3302 - val_auc: 0.9333\n",
            "Epoch 20/30\n",
            "2381/2381 [==============================] - 44s 19ms/step - loss: 0.3401 - auc: 0.9281 - val_loss: 0.3248 - val_auc: 0.9343\n",
            "Epoch 21/30\n",
            "2381/2381 [==============================] - 45s 19ms/step - loss: 0.3328 - auc: 0.9309 - val_loss: 0.3193 - val_auc: 0.9366\n",
            "Epoch 22/30\n",
            "2381/2381 [==============================] - 45s 19ms/step - loss: 0.3294 - auc: 0.9326 - val_loss: 0.3017 - val_auc: 0.9445\n",
            "Epoch 23/30\n",
            "2381/2381 [==============================] - 45s 19ms/step - loss: 0.3222 - auc: 0.9353 - val_loss: 0.3126 - val_auc: 0.9407\n",
            "Epoch 24/30\n",
            "2381/2381 [==============================] - 44s 19ms/step - loss: 0.3144 - auc: 0.9383 - val_loss: 0.3035 - val_auc: 0.9437\n",
            "Epoch 25/30\n",
            "2381/2381 [==============================] - 45s 19ms/step - loss: 0.3114 - auc: 0.9391 - val_loss: 0.3034 - val_auc: 0.9427\n",
            "Epoch 26/30\n",
            "2381/2381 [==============================] - 45s 19ms/step - loss: 0.3051 - auc: 0.9415 - val_loss: 0.2951 - val_auc: 0.9452\n",
            "Epoch 27/30\n",
            "2381/2381 [==============================] - 45s 19ms/step - loss: 0.2984 - auc: 0.9440 - val_loss: 0.2841 - val_auc: 0.9510\n",
            "Epoch 28/30\n",
            "2381/2381 [==============================] - 44s 18ms/step - loss: 0.2988 - auc: 0.9436 - val_loss: 0.2728 - val_auc: 0.9526\n",
            "Epoch 29/30\n",
            "2381/2381 [==============================] - 42s 17ms/step - loss: 0.2911 - auc: 0.9465 - val_loss: 0.2722 - val_auc: 0.9533\n",
            "Epoch 30/30\n",
            "2381/2381 [==============================] - 42s 18ms/step - loss: 0.2839 - auc: 0.9492 - val_loss: 0.2762 - val_auc: 0.9515\n"
          ]
        }
      ]
    },
    {
      "cell_type": "markdown",
      "source": [
        "###Trail_2 with Gated Graph Neural Networks mechanism\n",
        "We will try ggnn with default hyperparameters too.\n",
        "\n",
        "Hidden dimension=32\n",
        "\n",
        "With no layernorm, zero dropout and gru exchange mode.\n"
      ],
      "metadata": {
        "id": "rYRT4ftjxYnH"
      }
    },
    {
      "cell_type": "code",
      "source": [
        "model_2=GNN_model(32,False,0,12,'gru','ggnn')"
      ],
      "metadata": {
        "id": "0kBEMnV1xjDX",
        "execution": {
          "iopub.status.busy": "2022-04-05T00:05:57.044189Z",
          "iopub.execute_input": "2022-04-05T00:05:57.044446Z",
          "iopub.status.idle": "2022-04-05T00:05:57.575356Z",
          "shell.execute_reply.started": "2022-04-05T00:05:57.044394Z",
          "shell.execute_reply": "2022-04-05T00:05:57.574534Z"
        },
        "trusted": true,
        "colab": {
          "base_uri": "https://localhost:8080/"
        },
        "outputId": "c17596d3-c228-46e7-f80a-03af45aa963a"
      },
      "execution_count": null,
      "outputs": [
        {
          "output_type": "stream",
          "name": "stdout",
          "text": [
            "gnn_out KerasTensor(type_spec=TensorSpec(shape=(None, 32), dtype=tf.float32, name=None), name='gnn_1/StatefulPartitionedCall:0', description=\"created by layer 'gnn_1'\")\n",
            "mean: KerasTensor(type_spec=TensorSpec(shape=(None, 32), dtype=tf.float32, name=None), name='tf.math.segment_mean_1/SegmentMean:0', description=\"created by layer 'tf.math.segment_mean_1'\")\n",
            "pred: KerasTensor(type_spec=TensorSpec(shape=(None, 1), dtype=tf.float32, name=None), name='dense_5/Sigmoid:0', description=\"created by layer 'dense_5'\")\n"
          ]
        }
      ]
    },
    {
      "cell_type": "code",
      "source": [
        "model_2.compile(loss='BinaryCrossentropy',metrics=['AUC'])"
      ],
      "metadata": {
        "id": "-JOrcQE8xqh8",
        "execution": {
          "iopub.status.busy": "2022-04-05T00:05:57.580331Z",
          "iopub.execute_input": "2022-04-05T00:05:57.580661Z",
          "iopub.status.idle": "2022-04-05T00:05:57.591490Z",
          "shell.execute_reply.started": "2022-04-05T00:05:57.580632Z",
          "shell.execute_reply": "2022-04-05T00:05:57.590755Z"
        },
        "trusted": true
      },
      "execution_count": null,
      "outputs": []
    },
    {
      "cell_type": "code",
      "source": [
        "fit_pred(model_2)"
      ],
      "metadata": {
        "id": "AZUQUiEzxt1d",
        "execution": {
          "iopub.status.busy": "2022-04-05T00:05:57.593001Z",
          "iopub.execute_input": "2022-04-05T00:05:57.593622Z",
          "iopub.status.idle": "2022-04-05T00:23:57.872177Z",
          "shell.execute_reply.started": "2022-04-05T00:05:57.593566Z",
          "shell.execute_reply": "2022-04-05T00:23:57.871452Z"
        },
        "trusted": true,
        "colab": {
          "base_uri": "https://localhost:8080/"
        },
        "outputId": "9c60a883-7424-4e17-d799-2bba1f948969"
      },
      "execution_count": null,
      "outputs": [
        {
          "output_type": "stream",
          "name": "stdout",
          "text": [
            "Epoch 1/30\n"
          ]
        },
        {
          "output_type": "stream",
          "name": "stderr",
          "text": [
            "/usr/local/lib/python3.7/dist-packages/tensorflow/python/framework/indexed_slices.py:446: UserWarning: Converting sparse IndexedSlices(IndexedSlices(indices=Tensor(\"gradients/ggnn_3/embedding_lookup_grad/Reshape_1:0\", shape=(None,), dtype=int32), values=Tensor(\"gradients/ggnn_3/embedding_lookup_grad/Reshape:0\", shape=(None, 32), dtype=float32), dense_shape=Tensor(\"gradients/ggnn_3/embedding_lookup_grad/Cast:0\", shape=(2,), dtype=int32))) to a dense Tensor of unknown shape. This may consume a large amount of memory.\n",
            "  \"shape. This may consume a large amount of memory.\" % value)\n",
            "/usr/local/lib/python3.7/dist-packages/tensorflow/python/framework/indexed_slices.py:446: UserWarning: Converting sparse IndexedSlices(IndexedSlices(indices=Tensor(\"gradients/ggnn_2/embedding_lookup_grad/Reshape_1:0\", shape=(None,), dtype=int32), values=Tensor(\"gradients/ggnn_2/embedding_lookup_grad/Reshape:0\", shape=(None, 32), dtype=float32), dense_shape=Tensor(\"gradients/ggnn_2/embedding_lookup_grad/Cast:0\", shape=(2,), dtype=int32))) to a dense Tensor of unknown shape. This may consume a large amount of memory.\n",
            "  \"shape. This may consume a large amount of memory.\" % value)\n",
            "/usr/local/lib/python3.7/dist-packages/tensorflow/python/framework/indexed_slices.py:446: UserWarning: Converting sparse IndexedSlices(IndexedSlices(indices=Tensor(\"gradients/ggnn_1/embedding_lookup_grad/Reshape_1:0\", shape=(None,), dtype=int32), values=Tensor(\"gradients/ggnn_1/embedding_lookup_grad/Reshape:0\", shape=(None, 32), dtype=float32), dense_shape=Tensor(\"gradients/ggnn_1/embedding_lookup_grad/Cast:0\", shape=(2,), dtype=int32))) to a dense Tensor of unknown shape. This may consume a large amount of memory.\n",
            "  \"shape. This may consume a large amount of memory.\" % value)\n",
            "/usr/local/lib/python3.7/dist-packages/tensorflow/python/framework/indexed_slices.py:446: UserWarning: Converting sparse IndexedSlices(IndexedSlices(indices=Tensor(\"gradients/ggnn/embedding_lookup_grad/Reshape_1:0\", shape=(None,), dtype=int32), values=Tensor(\"gradients/ggnn/embedding_lookup_grad/Reshape:0\", shape=(None, 32), dtype=float32), dense_shape=Tensor(\"gradients/ggnn/embedding_lookup_grad/Cast:0\", shape=(2,), dtype=int32))) to a dense Tensor of unknown shape. This may consume a large amount of memory.\n",
            "  \"shape. This may consume a large amount of memory.\" % value)\n"
          ]
        },
        {
          "output_type": "stream",
          "name": "stdout",
          "text": [
            "2381/2381 [==============================] - 62s 24ms/step - loss: 0.6090 - auc: 0.7251 - val_loss: 0.5595 - val_auc: 0.7891\n",
            "Epoch 2/30\n",
            "2381/2381 [==============================] - 58s 24ms/step - loss: 0.5480 - auc: 0.7973 - val_loss: 0.5238 - val_auc: 0.8223\n",
            "Epoch 3/30\n",
            "2381/2381 [==============================] - 57s 24ms/step - loss: 0.5137 - auc: 0.8267 - val_loss: 0.4808 - val_auc: 0.8511\n",
            "Epoch 4/30\n",
            "2381/2381 [==============================] - 57s 24ms/step - loss: 0.4806 - auc: 0.8515 - val_loss: 0.4533 - val_auc: 0.8721\n",
            "Epoch 5/30\n",
            "2381/2381 [==============================] - 56s 24ms/step - loss: 0.4485 - auc: 0.8728 - val_loss: 0.4290 - val_auc: 0.8942\n",
            "Epoch 6/30\n",
            "2381/2381 [==============================] - 56s 24ms/step - loss: 0.4220 - auc: 0.8882 - val_loss: 0.4012 - val_auc: 0.9053\n",
            "Epoch 7/30\n",
            "2381/2381 [==============================] - 57s 24ms/step - loss: 0.3935 - auc: 0.9033 - val_loss: 0.3836 - val_auc: 0.9131\n",
            "Epoch 8/30\n",
            "2381/2381 [==============================] - 65s 27ms/step - loss: 0.3730 - auc: 0.9130 - val_loss: 0.3505 - val_auc: 0.9230\n",
            "Epoch 9/30\n",
            "2381/2381 [==============================] - 57s 24ms/step - loss: 0.3553 - auc: 0.9214 - val_loss: 0.3239 - val_auc: 0.9355\n",
            "Epoch 10/30\n",
            "2381/2381 [==============================] - 57s 24ms/step - loss: 0.3325 - auc: 0.9306 - val_loss: 0.3046 - val_auc: 0.9418\n",
            "Epoch 11/30\n",
            "2381/2381 [==============================] - 62s 26ms/step - loss: 0.3228 - auc: 0.9344 - val_loss: 0.2833 - val_auc: 0.9515\n",
            "Epoch 12/30\n",
            "2381/2381 [==============================] - 59s 25ms/step - loss: 0.3058 - auc: 0.9406 - val_loss: 0.2939 - val_auc: 0.9485\n",
            "Epoch 13/30\n",
            "2381/2381 [==============================] - 58s 24ms/step - loss: 0.2953 - auc: 0.9443 - val_loss: 0.3022 - val_auc: 0.9457\n",
            "Epoch 14/30\n",
            "2381/2381 [==============================] - 57s 24ms/step - loss: 0.2830 - auc: 0.9485 - val_loss: 0.2480 - val_auc: 0.9593\n",
            "Epoch 15/30\n",
            "2381/2381 [==============================] - 57s 24ms/step - loss: 0.2762 - auc: 0.9508 - val_loss: 0.2701 - val_auc: 0.9560\n",
            "Epoch 16/30\n",
            "2381/2381 [==============================] - 57s 24ms/step - loss: 0.2652 - auc: 0.9539 - val_loss: 0.2462 - val_auc: 0.9605\n",
            "Epoch 17/30\n",
            "2381/2381 [==============================] - 56s 24ms/step - loss: 0.2561 - auc: 0.9569 - val_loss: 0.2544 - val_auc: 0.9617\n",
            "Epoch 18/30\n",
            "2381/2381 [==============================] - 56s 24ms/step - loss: 0.2514 - auc: 0.9582 - val_loss: 0.2428 - val_auc: 0.9634\n",
            "Epoch 19/30\n",
            "2381/2381 [==============================] - 57s 24ms/step - loss: 0.2443 - auc: 0.9604 - val_loss: 0.2493 - val_auc: 0.9633\n",
            "Epoch 20/30\n",
            "2381/2381 [==============================] - 57s 24ms/step - loss: 0.2364 - auc: 0.9621 - val_loss: 0.2143 - val_auc: 0.9679\n",
            "Epoch 21/30\n",
            "2381/2381 [==============================] - 57s 24ms/step - loss: 0.2350 - auc: 0.9626 - val_loss: 0.2533 - val_auc: 0.9648\n",
            "Epoch 22/30\n",
            "2381/2381 [==============================] - 57s 24ms/step - loss: 0.2273 - auc: 0.9649 - val_loss: 0.2375 - val_auc: 0.9691\n",
            "Epoch 23/30\n",
            "2381/2381 [==============================] - 57s 24ms/step - loss: 0.2239 - auc: 0.9656 - val_loss: 0.2510 - val_auc: 0.9645\n",
            "Epoch 24/30\n",
            "2381/2381 [==============================] - 56s 24ms/step - loss: 0.2161 - auc: 0.9678 - val_loss: 0.2207 - val_auc: 0.9694\n",
            "Epoch 25/30\n",
            "2381/2381 [==============================] - 56s 24ms/step - loss: 0.2140 - auc: 0.9679 - val_loss: 0.2159 - val_auc: 0.9701\n",
            "Epoch 26/30\n",
            "2381/2381 [==============================] - 56s 24ms/step - loss: 0.2094 - auc: 0.9690 - val_loss: 0.1998 - val_auc: 0.9732\n",
            "Epoch 27/30\n",
            "2381/2381 [==============================] - 57s 24ms/step - loss: 0.2079 - auc: 0.9691 - val_loss: 0.2463 - val_auc: 0.9701\n",
            "Epoch 28/30\n",
            "2381/2381 [==============================] - 57s 24ms/step - loss: 0.2003 - auc: 0.9714 - val_loss: 0.2618 - val_auc: 0.9695\n",
            "Epoch 29/30\n",
            "2381/2381 [==============================] - 57s 24ms/step - loss: 0.1989 - auc: 0.9718 - val_loss: 0.2356 - val_auc: 0.9695\n",
            "Epoch 30/30\n",
            "2381/2381 [==============================] - 58s 24ms/step - loss: 0.1958 - auc: 0.9725 - val_loss: 0.1931 - val_auc: 0.9748\n"
          ]
        },
        {
          "output_type": "execute_result",
          "data": {
            "text/plain": [
              "<keras.callbacks.History at 0x7f198595c9d0>"
            ]
          },
          "metadata": {},
          "execution_count": 30
        }
      ]
    },
    {
      "cell_type": "markdown",
      "source": [
        "### Third Trial with Relational Graph Isomorphism Networks mechanism\n",
        "And the last trial with default hyperparameters is 'rgin' mechanism"
      ],
      "metadata": {
        "id": "RKvWpcgsyBvb"
      }
    },
    {
      "cell_type": "code",
      "source": [
        "model_3=GNN_model(32,False,0,12,'gru','rgin')"
      ],
      "metadata": {
        "id": "B-srwUhMyJBP",
        "execution": {
          "iopub.status.busy": "2022-04-05T00:24:01.337951Z",
          "iopub.execute_input": "2022-04-05T00:24:01.338213Z",
          "iopub.status.idle": "2022-04-05T00:24:02.269751Z",
          "shell.execute_reply.started": "2022-04-05T00:24:01.338179Z",
          "shell.execute_reply": "2022-04-05T00:24:02.269003Z"
        },
        "trusted": true,
        "colab": {
          "base_uri": "https://localhost:8080/"
        },
        "outputId": "21c9aaab-18b2-4546-eb64-e906b3f8389a"
      },
      "execution_count": null,
      "outputs": [
        {
          "output_type": "stream",
          "name": "stdout",
          "text": [
            "gnn_out KerasTensor(type_spec=TensorSpec(shape=(None, 32), dtype=tf.float32, name=None), name='gnn_2/StatefulPartitionedCall:0', description=\"created by layer 'gnn_2'\")\n",
            "mean: KerasTensor(type_spec=TensorSpec(shape=(None, 32), dtype=tf.float32, name=None), name='tf.math.segment_mean_2/SegmentMean:0', description=\"created by layer 'tf.math.segment_mean_2'\")\n",
            "pred: KerasTensor(type_spec=TensorSpec(shape=(None, 1), dtype=tf.float32, name=None), name='dense_8/Sigmoid:0', description=\"created by layer 'dense_8'\")\n"
          ]
        }
      ]
    },
    {
      "cell_type": "code",
      "source": [
        "model_3.compile(optimizer='adam',loss='BinaryCrossentropy',metrics=['AUC'])"
      ],
      "metadata": {
        "id": "X3megGVlyPR8",
        "execution": {
          "iopub.status.busy": "2022-04-05T00:24:02.270893Z",
          "iopub.execute_input": "2022-04-05T00:24:02.273568Z",
          "iopub.status.idle": "2022-04-05T00:24:02.284043Z",
          "shell.execute_reply.started": "2022-04-05T00:24:02.273523Z",
          "shell.execute_reply": "2022-04-05T00:24:02.283309Z"
        },
        "trusted": true
      },
      "execution_count": null,
      "outputs": []
    },
    {
      "cell_type": "code",
      "source": [
        "fit_pred(model_3)"
      ],
      "metadata": {
        "id": "qG5u3iG3ySQ9",
        "execution": {
          "iopub.status.busy": "2022-04-05T00:24:02.285257Z",
          "iopub.execute_input": "2022-04-05T00:24:02.285539Z",
          "iopub.status.idle": "2022-04-05T00:42:44.944880Z",
          "shell.execute_reply.started": "2022-04-05T00:24:02.285502Z",
          "shell.execute_reply": "2022-04-05T00:42:44.944202Z"
        },
        "trusted": true,
        "colab": {
          "base_uri": "https://localhost:8080/"
        },
        "outputId": "bcc62ffe-7c5b-4b7a-8bea-6adc5fa552b3"
      },
      "execution_count": null,
      "outputs": [
        {
          "output_type": "stream",
          "name": "stdout",
          "text": [
            "Epoch 1/30\n"
          ]
        },
        {
          "output_type": "stream",
          "name": "stderr",
          "text": [
            "/usr/local/lib/python3.7/dist-packages/tensorflow/python/framework/indexed_slices.py:446: UserWarning: Converting sparse IndexedSlices(IndexedSlices(indices=Tensor(\"gradients/cond_3_grad/Identity_1:0\", shape=(None,), dtype=int32), values=Tensor(\"gradients/cond_3_grad/Identity:0\", shape=(None, 32), dtype=float32), dense_shape=Tensor(\"gradients/cond_3_grad/Identity_2:0\", shape=(2,), dtype=int32))) to a dense Tensor of unknown shape. This may consume a large amount of memory.\n",
            "  \"shape. This may consume a large amount of memory.\" % value)\n",
            "/usr/local/lib/python3.7/dist-packages/tensorflow/python/framework/indexed_slices.py:446: UserWarning: Converting sparse IndexedSlices(IndexedSlices(indices=Tensor(\"gradients/rgin_2/embedding_lookup_grad/Reshape_1:0\", shape=(None,), dtype=int32), values=Tensor(\"gradients/rgin_2/embedding_lookup_grad/Reshape:0\", shape=(None, 32), dtype=float32), dense_shape=Tensor(\"gradients/rgin_2/embedding_lookup_grad/Cast:0\", shape=(2,), dtype=int32))) to a dense Tensor of unknown shape. This may consume a large amount of memory.\n",
            "  \"shape. This may consume a large amount of memory.\" % value)\n",
            "/usr/local/lib/python3.7/dist-packages/tensorflow/python/framework/indexed_slices.py:446: UserWarning: Converting sparse IndexedSlices(IndexedSlices(indices=Tensor(\"gradients/cond_1_grad/Identity_1:0\", shape=(None,), dtype=int32), values=Tensor(\"gradients/cond_1_grad/Identity:0\", shape=(None, 32), dtype=float32), dense_shape=Tensor(\"gradients/cond_1_grad/Identity_2:0\", shape=(2,), dtype=int32))) to a dense Tensor of unknown shape. This may consume a large amount of memory.\n",
            "  \"shape. This may consume a large amount of memory.\" % value)\n",
            "/usr/local/lib/python3.7/dist-packages/tensorflow/python/framework/indexed_slices.py:446: UserWarning: Converting sparse IndexedSlices(IndexedSlices(indices=Tensor(\"gradients/rgin/embedding_lookup_grad/Reshape_1:0\", shape=(None,), dtype=int32), values=Tensor(\"gradients/rgin/embedding_lookup_grad/Reshape:0\", shape=(None, 32), dtype=float32), dense_shape=Tensor(\"gradients/rgin/embedding_lookup_grad/Cast:0\", shape=(2,), dtype=int32))) to a dense Tensor of unknown shape. This may consume a large amount of memory.\n",
            "  \"shape. This may consume a large amount of memory.\" % value)\n"
          ]
        },
        {
          "output_type": "stream",
          "name": "stdout",
          "text": [
            "2381/2381 [==============================] - 77s 30ms/step - loss: 0.6522 - auc: 0.6613 - val_loss: 0.6301 - val_auc: 0.7027\n",
            "Epoch 2/30\n",
            "2381/2381 [==============================] - 71s 30ms/step - loss: 0.6422 - auc: 0.6824 - val_loss: 0.6236 - val_auc: 0.7125\n",
            "Epoch 3/30\n",
            "2381/2381 [==============================] - 69s 29ms/step - loss: 0.6264 - auc: 0.7007 - val_loss: 0.6302 - val_auc: 0.6981\n",
            "Epoch 4/30\n",
            "2381/2381 [==============================] - 69s 29ms/step - loss: 0.6305 - auc: 0.6974 - val_loss: 0.6370 - val_auc: 0.6950\n",
            "Epoch 5/30\n",
            "2381/2381 [==============================] - 69s 29ms/step - loss: 0.6177 - auc: 0.7154 - val_loss: 0.5989 - val_auc: 0.7465\n",
            "Epoch 6/30\n",
            "2381/2381 [==============================] - 70s 29ms/step - loss: 0.6181 - auc: 0.7160 - val_loss: 0.6236 - val_auc: 0.7091\n",
            "Epoch 7/30\n",
            "2381/2381 [==============================] - 69s 29ms/step - loss: 0.6252 - auc: 0.7023 - val_loss: 0.6232 - val_auc: 0.7046\n",
            "Epoch 8/30\n",
            "2381/2381 [==============================] - 69s 29ms/step - loss: 0.6159 - auc: 0.7165 - val_loss: 0.6112 - val_auc: 0.7287\n",
            "Epoch 9/30\n",
            "2381/2381 [==============================] - 70s 29ms/step - loss: 0.6159 - auc: 0.7165 - val_loss: 0.6098 - val_auc: 0.7434\n",
            "Epoch 10/30\n",
            "2381/2381 [==============================] - 69s 29ms/step - loss: 0.6073 - auc: 0.7308 - val_loss: 0.6040 - val_auc: 0.7373\n",
            "Epoch 11/30\n",
            "2381/2381 [==============================] - 69s 29ms/step - loss: 0.6126 - auc: 0.7197 - val_loss: 0.5927 - val_auc: 0.7523\n",
            "Epoch 12/30\n",
            "2381/2381 [==============================] - 68s 29ms/step - loss: 0.6039 - auc: 0.7345 - val_loss: 0.6312 - val_auc: 0.7155\n",
            "Epoch 13/30\n",
            "2381/2381 [==============================] - 70s 29ms/step - loss: 0.6164 - auc: 0.7145 - val_loss: 0.6216 - val_auc: 0.7191\n",
            "Epoch 14/30\n",
            "2381/2381 [==============================] - 70s 29ms/step - loss: 0.6286 - auc: 0.6950 - val_loss: 0.6074 - val_auc: 0.7419\n",
            "Epoch 15/30\n",
            "2381/2381 [==============================] - 70s 29ms/step - loss: 0.6171 - auc: 0.7125 - val_loss: 0.6433 - val_auc: 0.6729\n",
            "Epoch 16/30\n",
            "2381/2381 [==============================] - 72s 30ms/step - loss: 0.6244 - auc: 0.7044 - val_loss: 0.6324 - val_auc: 0.7040\n",
            "Epoch 17/30\n",
            "2381/2381 [==============================] - 70s 29ms/step - loss: 0.6174 - auc: 0.7111 - val_loss: 0.6055 - val_auc: 0.7305\n",
            "Epoch 18/30\n",
            "2381/2381 [==============================] - 70s 30ms/step - loss: 0.6163 - auc: 0.7134 - val_loss: 0.6037 - val_auc: 0.7336\n",
            "Epoch 19/30\n",
            "2381/2381 [==============================] - 70s 29ms/step - loss: 0.6049 - auc: 0.7282 - val_loss: 0.6034 - val_auc: 0.7325\n",
            "Epoch 20/30\n",
            "2381/2381 [==============================] - 69s 29ms/step - loss: 0.6248 - auc: 0.7031 - val_loss: 0.6201 - val_auc: 0.7148\n",
            "Epoch 21/30\n",
            "2381/2381 [==============================] - 68s 29ms/step - loss: 0.6304 - auc: 0.6958 - val_loss: 0.6368 - val_auc: 0.6870\n",
            "Epoch 22/30\n",
            "2381/2381 [==============================] - 69s 29ms/step - loss: 0.6320 - auc: 0.6960 - val_loss: 0.6309 - val_auc: 0.6984\n",
            "Epoch 23/30\n",
            "2381/2381 [==============================] - 68s 29ms/step - loss: 0.6370 - auc: 0.6873 - val_loss: 0.6166 - val_auc: 0.7223\n",
            "Epoch 24/30\n",
            "2381/2381 [==============================] - 70s 29ms/step - loss: 0.6342 - auc: 0.6943 - val_loss: 0.6352 - val_auc: 0.7130\n",
            "Epoch 25/30\n",
            "2381/2381 [==============================] - 70s 29ms/step - loss: 0.6276 - auc: 0.7035 - val_loss: 0.6133 - val_auc: 0.7240\n",
            "Epoch 26/30\n",
            "2381/2381 [==============================] - 69s 29ms/step - loss: 0.6209 - auc: 0.7139 - val_loss: 0.6082 - val_auc: 0.7333\n",
            "Epoch 27/30\n",
            "2381/2381 [==============================] - 69s 29ms/step - loss: 0.6256 - auc: 0.7010 - val_loss: 0.6163 - val_auc: 0.7140\n",
            "Epoch 28/30\n",
            "2381/2381 [==============================] - 69s 29ms/step - loss: 0.6220 - auc: 0.7053 - val_loss: 0.6194 - val_auc: 0.7128\n",
            "Epoch 29/30\n",
            "2381/2381 [==============================] - 68s 29ms/step - loss: 0.6208 - auc: 0.7034 - val_loss: 0.6331 - val_auc: 0.7004\n",
            "Epoch 30/30\n",
            "2381/2381 [==============================] - 69s 29ms/step - loss: 0.6214 - auc: 0.7069 - val_loss: 0.6213 - val_auc: 0.7084\n"
          ]
        },
        {
          "output_type": "execute_result",
          "data": {
            "text/plain": [
              "<keras.callbacks.History at 0x7f198506cc10>"
            ]
          },
          "metadata": {},
          "execution_count": 35
        }
      ]
    },
    {
      "cell_type": "markdown",
      "source": [
        "### Fourth Trial, we'll try to change hyperparameters\n",
        "\n",
        "Hidden dimension=32\n",
        "\n",
        "RGCN mechanism with layernorm, 0.2 dropout and mean exchange mode.\n"
      ],
      "metadata": {
        "id": "Spt8nxkl8Fps"
      }
    },
    {
      "cell_type": "code",
      "source": [
        "model_4=GNN_model(32,True,0.2,12,'mean','rgcn')"
      ],
      "metadata": {
        "id": "rXaWwBfE8Pp4",
        "execution": {
          "iopub.status.busy": "2022-04-05T00:42:48.614901Z",
          "iopub.execute_input": "2022-04-05T00:42:48.615224Z",
          "iopub.status.idle": "2022-04-05T00:42:49.119166Z",
          "shell.execute_reply.started": "2022-04-05T00:42:48.615186Z",
          "shell.execute_reply": "2022-04-05T00:42:49.118478Z"
        },
        "trusted": true,
        "colab": {
          "base_uri": "https://localhost:8080/"
        },
        "outputId": "90dd5916-511e-47d7-f90d-b159a2504ce2"
      },
      "execution_count": null,
      "outputs": [
        {
          "output_type": "stream",
          "name": "stdout",
          "text": [
            "gnn_out KerasTensor(type_spec=TensorSpec(shape=(None, 32), dtype=tf.float32, name=None), name='gnn_3/StatefulPartitionedCall:0', description=\"created by layer 'gnn_3'\")\n",
            "mean: KerasTensor(type_spec=TensorSpec(shape=(None, 32), dtype=tf.float32, name=None), name='tf.math.segment_mean_3/SegmentMean:0', description=\"created by layer 'tf.math.segment_mean_3'\")\n",
            "pred: KerasTensor(type_spec=TensorSpec(shape=(None, 1), dtype=tf.float32, name=None), name='dense_11/Sigmoid:0', description=\"created by layer 'dense_11'\")\n"
          ]
        }
      ]
    },
    {
      "cell_type": "code",
      "source": [
        "model_4.compile(optimizer='adam',loss='BinaryCrossentropy',metrics=['AUC'])"
      ],
      "metadata": {
        "id": "WFEn_obf8jLC",
        "execution": {
          "iopub.status.busy": "2022-04-05T00:42:49.120352Z",
          "iopub.execute_input": "2022-04-05T00:42:49.122868Z",
          "iopub.status.idle": "2022-04-05T00:42:49.133199Z",
          "shell.execute_reply.started": "2022-04-05T00:42:49.122837Z",
          "shell.execute_reply": "2022-04-05T00:42:49.132437Z"
        },
        "trusted": true
      },
      "execution_count": null,
      "outputs": []
    },
    {
      "cell_type": "code",
      "source": [
        "fit_pred(model_4)"
      ],
      "metadata": {
        "id": "19oUUktb8jw_",
        "execution": {
          "iopub.status.busy": "2022-04-05T00:57:07.152107Z",
          "iopub.execute_input": "2022-04-05T00:57:07.152364Z",
          "iopub.status.idle": "2022-04-05T01:12:51.866085Z",
          "shell.execute_reply.started": "2022-04-05T00:57:07.152334Z",
          "shell.execute_reply": "2022-04-05T01:12:51.865344Z"
        },
        "trusted": true,
        "colab": {
          "base_uri": "https://localhost:8080/"
        },
        "outputId": "4f7d8f21-8d0b-4b82-b31b-551acdee3fcb"
      },
      "execution_count": null,
      "outputs": [
        {
          "output_type": "stream",
          "name": "stdout",
          "text": [
            "Epoch 1/30\n"
          ]
        },
        {
          "output_type": "stream",
          "name": "stderr",
          "text": [
            "/usr/local/lib/python3.7/dist-packages/tensorflow/python/framework/indexed_slices.py:446: UserWarning: Converting sparse IndexedSlices(IndexedSlices(indices=Tensor(\"gradients/cond_3_grad/gradients/grad_ys_0_indices:0\", shape=(None,), dtype=int32), values=Tensor(\"gradients/cond_3_grad/gradients/grad_ys_0_values:0\", shape=(None, 32), dtype=float32), dense_shape=Tensor(\"gradients/cond_3_grad/gradients/grad_ys_0_shape:0\", shape=(2,), dtype=int32))) to a dense Tensor of unknown shape. This may consume a large amount of memory.\n",
            "  \"shape. This may consume a large amount of memory.\" % value)\n",
            "/usr/local/lib/python3.7/dist-packages/tensorflow/python/framework/indexed_slices.py:446: UserWarning: Converting sparse IndexedSlices(IndexedSlices(indices=Tensor(\"gradients/cond_3_grad/Identity_1:0\", shape=(None,), dtype=int32), values=Tensor(\"gradients/cond_3_grad/Identity:0\", shape=(None, 32), dtype=float32), dense_shape=Tensor(\"gradients/cond_3_grad/Identity_2:0\", shape=(2,), dtype=int32))) to a dense Tensor of unknown shape. This may consume a large amount of memory.\n",
            "  \"shape. This may consume a large amount of memory.\" % value)\n",
            "/usr/local/lib/python3.7/dist-packages/tensorflow/python/framework/indexed_slices.py:446: UserWarning: Converting sparse IndexedSlices(IndexedSlices(indices=Tensor(\"gradients/rgcn_2/embedding_lookup_grad/Reshape_1:0\", shape=(None,), dtype=int32), values=Tensor(\"gradients/rgcn_2/embedding_lookup_grad/Reshape:0\", shape=(None, 32), dtype=float32), dense_shape=Tensor(\"gradients/rgcn_2/embedding_lookup_grad/Cast:0\", shape=(2,), dtype=int32))) to a dense Tensor of unknown shape. This may consume a large amount of memory.\n",
            "  \"shape. This may consume a large amount of memory.\" % value)\n",
            "/usr/local/lib/python3.7/dist-packages/tensorflow/python/framework/indexed_slices.py:446: UserWarning: Converting sparse IndexedSlices(IndexedSlices(indices=Tensor(\"gradients/cond_1_grad/gradients/grad_ys_0_indices:0\", shape=(None,), dtype=int32), values=Tensor(\"gradients/cond_1_grad/gradients/grad_ys_0_values:0\", shape=(None, 32), dtype=float32), dense_shape=Tensor(\"gradients/cond_1_grad/gradients/grad_ys_0_shape:0\", shape=(2,), dtype=int32))) to a dense Tensor of unknown shape. This may consume a large amount of memory.\n",
            "  \"shape. This may consume a large amount of memory.\" % value)\n",
            "/usr/local/lib/python3.7/dist-packages/tensorflow/python/framework/indexed_slices.py:446: UserWarning: Converting sparse IndexedSlices(IndexedSlices(indices=Tensor(\"gradients/cond_1_grad/Identity_1:0\", shape=(None,), dtype=int32), values=Tensor(\"gradients/cond_1_grad/Identity:0\", shape=(None, 32), dtype=float32), dense_shape=Tensor(\"gradients/cond_1_grad/Identity_2:0\", shape=(2,), dtype=int32))) to a dense Tensor of unknown shape. This may consume a large amount of memory.\n",
            "  \"shape. This may consume a large amount of memory.\" % value)\n",
            "/usr/local/lib/python3.7/dist-packages/tensorflow/python/framework/indexed_slices.py:446: UserWarning: Converting sparse IndexedSlices(IndexedSlices(indices=Tensor(\"gradients/rgcn/embedding_lookup_grad/Reshape_1:0\", shape=(None,), dtype=int32), values=Tensor(\"gradients/rgcn/embedding_lookup_grad/Reshape:0\", shape=(None, 32), dtype=float32), dense_shape=Tensor(\"gradients/rgcn/embedding_lookup_grad/Cast:0\", shape=(2,), dtype=int32))) to a dense Tensor of unknown shape. This may consume a large amount of memory.\n",
            "  \"shape. This may consume a large amount of memory.\" % value)\n"
          ]
        },
        {
          "output_type": "stream",
          "name": "stdout",
          "text": [
            "2381/2381 [==============================] - 53s 21ms/step - loss: 0.6099 - auc: 0.7246 - val_loss: 0.5643 - val_auc: 0.7877\n",
            "Epoch 2/30\n",
            "2381/2381 [==============================] - 48s 20ms/step - loss: 0.5638 - auc: 0.7797 - val_loss: 0.5438 - val_auc: 0.8075\n",
            "Epoch 3/30\n",
            "2381/2381 [==============================] - 48s 20ms/step - loss: 0.5354 - auc: 0.8069 - val_loss: 0.5037 - val_auc: 0.8385\n",
            "Epoch 4/30\n",
            "2381/2381 [==============================] - 48s 20ms/step - loss: 0.5151 - auc: 0.8242 - val_loss: 0.5038 - val_auc: 0.8447\n",
            "Epoch 5/30\n",
            "2381/2381 [==============================] - 48s 20ms/step - loss: 0.5016 - auc: 0.8346 - val_loss: 0.4747 - val_auc: 0.8614\n",
            "Epoch 6/30\n",
            "2381/2381 [==============================] - 48s 20ms/step - loss: 0.4872 - auc: 0.8457 - val_loss: 0.4584 - val_auc: 0.8663\n",
            "Epoch 7/30\n",
            "2381/2381 [==============================] - 48s 20ms/step - loss: 0.4756 - auc: 0.8543 - val_loss: 0.4537 - val_auc: 0.8699\n",
            "Epoch 8/30\n",
            "2381/2381 [==============================] - 48s 20ms/step - loss: 0.4679 - auc: 0.8594 - val_loss: 0.4342 - val_auc: 0.8815\n",
            "Epoch 9/30\n",
            "2381/2381 [==============================] - 47s 20ms/step - loss: 0.4571 - auc: 0.8665 - val_loss: 0.4149 - val_auc: 0.8939\n",
            "Epoch 10/30\n",
            "2381/2381 [==============================] - 48s 20ms/step - loss: 0.4475 - auc: 0.8727 - val_loss: 0.4079 - val_auc: 0.8971\n",
            "Epoch 11/30\n",
            "2381/2381 [==============================] - 48s 20ms/step - loss: 0.4368 - auc: 0.8789 - val_loss: 0.3851 - val_auc: 0.9092\n",
            "Epoch 12/30\n",
            "2381/2381 [==============================] - 48s 20ms/step - loss: 0.4283 - auc: 0.8842 - val_loss: 0.3815 - val_auc: 0.9120\n",
            "Epoch 13/30\n",
            "2381/2381 [==============================] - 48s 20ms/step - loss: 0.4220 - auc: 0.8878 - val_loss: 0.3730 - val_auc: 0.9152\n",
            "Epoch 14/30\n",
            "2381/2381 [==============================] - 48s 20ms/step - loss: 0.4141 - auc: 0.8924 - val_loss: 0.3619 - val_auc: 0.9198\n",
            "Epoch 15/30\n",
            "2381/2381 [==============================] - 47s 20ms/step - loss: 0.4054 - auc: 0.8973 - val_loss: 0.3624 - val_auc: 0.9185\n",
            "Epoch 16/30\n",
            "2381/2381 [==============================] - 48s 20ms/step - loss: 0.3976 - auc: 0.9009 - val_loss: 0.3608 - val_auc: 0.9236\n",
            "Epoch 17/30\n",
            "2381/2381 [==============================] - 48s 20ms/step - loss: 0.3915 - auc: 0.9041 - val_loss: 0.3410 - val_auc: 0.9315\n",
            "Epoch 18/30\n",
            "2381/2381 [==============================] - 48s 20ms/step - loss: 0.3818 - auc: 0.9089 - val_loss: 0.3641 - val_auc: 0.9325\n",
            "Epoch 19/30\n",
            "2381/2381 [==============================] - 48s 20ms/step - loss: 0.3772 - auc: 0.9110 - val_loss: 0.3540 - val_auc: 0.9364\n",
            "Epoch 20/30\n",
            "2381/2381 [==============================] - 48s 20ms/step - loss: 0.3729 - auc: 0.9134 - val_loss: 0.3209 - val_auc: 0.9377\n",
            "Epoch 21/30\n",
            "2381/2381 [==============================] - 48s 20ms/step - loss: 0.3627 - auc: 0.9180 - val_loss: 0.3215 - val_auc: 0.9367\n",
            "Epoch 22/30\n",
            "2381/2381 [==============================] - 47s 20ms/step - loss: 0.3608 - auc: 0.9190 - val_loss: 0.3067 - val_auc: 0.9417\n",
            "Epoch 23/30\n",
            "2381/2381 [==============================] - 48s 20ms/step - loss: 0.3527 - auc: 0.9225 - val_loss: 0.2876 - val_auc: 0.9487\n",
            "Epoch 24/30\n",
            "2381/2381 [==============================] - 48s 20ms/step - loss: 0.3466 - auc: 0.9252 - val_loss: 0.2986 - val_auc: 0.9471\n",
            "Epoch 25/30\n",
            "2381/2381 [==============================] - 47s 20ms/step - loss: 0.3403 - auc: 0.9281 - val_loss: 0.2894 - val_auc: 0.9493\n",
            "Epoch 26/30\n",
            "2381/2381 [==============================] - 48s 20ms/step - loss: 0.3346 - auc: 0.9302 - val_loss: 0.2809 - val_auc: 0.9508\n",
            "Epoch 27/30\n",
            "2381/2381 [==============================] - 47s 20ms/step - loss: 0.3329 - auc: 0.9315 - val_loss: 0.2823 - val_auc: 0.9519\n",
            "Epoch 28/30\n",
            "2381/2381 [==============================] - 48s 20ms/step - loss: 0.3301 - auc: 0.9320 - val_loss: 0.2624 - val_auc: 0.9590\n",
            "Epoch 29/30\n",
            "2381/2381 [==============================] - 48s 20ms/step - loss: 0.3252 - auc: 0.9342 - val_loss: 0.2756 - val_auc: 0.9572\n",
            "Epoch 30/30\n",
            "2381/2381 [==============================] - 49s 20ms/step - loss: 0.3186 - auc: 0.9369 - val_loss: 0.2546 - val_auc: 0.9599\n"
          ]
        },
        {
          "output_type": "execute_result",
          "data": {
            "text/plain": [
              "<keras.callbacks.History at 0x7f1982b53a10>"
            ]
          },
          "metadata": {},
          "execution_count": 40
        }
      ]
    },
    {
      "cell_type": "markdown",
      "source": [
        "### Trial_5, we'll try to change hyperparameters with GGNN mechanism\n",
        "Hidden dimension=32\n",
        "\n",
        "GGNN mechanism with layernorm, 0.2 dropout, mean exchange mode."
      ],
      "metadata": {
        "id": "DBSL-Fjl8iZl"
      }
    },
    {
      "cell_type": "code",
      "source": [
        "model_5=GNN_model(32,True,0.2,12,'mean','ggnn')"
      ],
      "metadata": {
        "id": "Zk3RIVNh9AQJ",
        "execution": {
          "iopub.status.busy": "2022-04-05T01:12:55.024360Z",
          "iopub.execute_input": "2022-04-05T01:12:55.024702Z",
          "iopub.status.idle": "2022-04-05T01:12:55.567201Z",
          "shell.execute_reply.started": "2022-04-05T01:12:55.024664Z",
          "shell.execute_reply": "2022-04-05T01:12:55.566478Z"
        },
        "trusted": true,
        "colab": {
          "base_uri": "https://localhost:8080/"
        },
        "outputId": "d48f58be-e412-45f2-bffa-cdc492b61408"
      },
      "execution_count": null,
      "outputs": [
        {
          "output_type": "stream",
          "name": "stdout",
          "text": [
            "gnn_out KerasTensor(type_spec=TensorSpec(shape=(None, 32), dtype=tf.float32, name=None), name='gnn_4/StatefulPartitionedCall:0', description=\"created by layer 'gnn_4'\")\n",
            "mean: KerasTensor(type_spec=TensorSpec(shape=(None, 32), dtype=tf.float32, name=None), name='tf.math.segment_mean_4/SegmentMean:0', description=\"created by layer 'tf.math.segment_mean_4'\")\n",
            "pred: KerasTensor(type_spec=TensorSpec(shape=(None, 1), dtype=tf.float32, name=None), name='dense_14/Sigmoid:0', description=\"created by layer 'dense_14'\")\n"
          ]
        }
      ]
    },
    {
      "cell_type": "code",
      "source": [
        "model_5.compile(optimizer='adam',loss='BinaryCrossentropy',metrics=['AUC'])"
      ],
      "metadata": {
        "id": "XYLwyPnK9UEn",
        "execution": {
          "iopub.status.busy": "2022-04-05T01:12:55.568627Z",
          "iopub.execute_input": "2022-04-05T01:12:55.568877Z",
          "iopub.status.idle": "2022-04-05T01:12:55.579594Z",
          "shell.execute_reply.started": "2022-04-05T01:12:55.568828Z",
          "shell.execute_reply": "2022-04-05T01:12:55.578851Z"
        },
        "trusted": true
      },
      "execution_count": null,
      "outputs": []
    },
    {
      "cell_type": "code",
      "source": [
        "fit_pred(model_5)"
      ],
      "metadata": {
        "id": "AX7sTso09mcy",
        "execution": {
          "iopub.status.busy": "2022-04-05T01:12:55.580935Z",
          "iopub.execute_input": "2022-04-05T01:12:55.581225Z",
          "iopub.status.idle": "2022-04-05T01:30:39.243254Z",
          "shell.execute_reply.started": "2022-04-05T01:12:55.581188Z",
          "shell.execute_reply": "2022-04-05T01:30:39.242585Z"
        },
        "trusted": true,
        "colab": {
          "base_uri": "https://localhost:8080/"
        },
        "outputId": "58760ec0-a759-4b1c-de98-40b15a46f192"
      },
      "execution_count": null,
      "outputs": [
        {
          "output_type": "stream",
          "name": "stdout",
          "text": [
            "Epoch 1/30\n"
          ]
        },
        {
          "output_type": "stream",
          "name": "stderr",
          "text": [
            "/usr/local/lib/python3.7/dist-packages/tensorflow/python/framework/indexed_slices.py:446: UserWarning: Converting sparse IndexedSlices(IndexedSlices(indices=Tensor(\"gradients/ggnn_3/embedding_lookup_grad/Reshape_1:0\", shape=(None,), dtype=int32), values=Tensor(\"gradients/ggnn_3/embedding_lookup_grad/Reshape:0\", shape=(None, 32), dtype=float32), dense_shape=Tensor(\"gradients/ggnn_3/embedding_lookup_grad/Cast:0\", shape=(2,), dtype=int32))) to a dense Tensor of unknown shape. This may consume a large amount of memory.\n",
            "  \"shape. This may consume a large amount of memory.\" % value)\n",
            "/usr/local/lib/python3.7/dist-packages/tensorflow/python/framework/indexed_slices.py:446: UserWarning: Converting sparse IndexedSlices(IndexedSlices(indices=Tensor(\"gradients/ggnn_2/embedding_lookup_grad/Reshape_1:0\", shape=(None,), dtype=int32), values=Tensor(\"gradients/ggnn_2/embedding_lookup_grad/Reshape:0\", shape=(None, 32), dtype=float32), dense_shape=Tensor(\"gradients/ggnn_2/embedding_lookup_grad/Cast:0\", shape=(2,), dtype=int32))) to a dense Tensor of unknown shape. This may consume a large amount of memory.\n",
            "  \"shape. This may consume a large amount of memory.\" % value)\n",
            "/usr/local/lib/python3.7/dist-packages/tensorflow/python/framework/indexed_slices.py:446: UserWarning: Converting sparse IndexedSlices(IndexedSlices(indices=Tensor(\"gradients/ggnn_1/embedding_lookup_grad/Reshape_1:0\", shape=(None,), dtype=int32), values=Tensor(\"gradients/ggnn_1/embedding_lookup_grad/Reshape:0\", shape=(None, 32), dtype=float32), dense_shape=Tensor(\"gradients/ggnn_1/embedding_lookup_grad/Cast:0\", shape=(2,), dtype=int32))) to a dense Tensor of unknown shape. This may consume a large amount of memory.\n",
            "  \"shape. This may consume a large amount of memory.\" % value)\n",
            "/usr/local/lib/python3.7/dist-packages/tensorflow/python/framework/indexed_slices.py:446: UserWarning: Converting sparse IndexedSlices(IndexedSlices(indices=Tensor(\"gradients/ggnn/embedding_lookup_grad/Reshape_1:0\", shape=(None,), dtype=int32), values=Tensor(\"gradients/ggnn/embedding_lookup_grad/Reshape:0\", shape=(None, 32), dtype=float32), dense_shape=Tensor(\"gradients/ggnn/embedding_lookup_grad/Cast:0\", shape=(2,), dtype=int32))) to a dense Tensor of unknown shape. This may consume a large amount of memory.\n",
            "  \"shape. This may consume a large amount of memory.\" % value)\n"
          ]
        },
        {
          "output_type": "stream",
          "name": "stdout",
          "text": [
            "2381/2381 [==============================] - 59s 23ms/step - loss: 0.6073 - auc: 0.7289 - val_loss: 0.5405 - val_auc: 0.8080\n",
            "Epoch 2/30\n",
            "2381/2381 [==============================] - 55s 23ms/step - loss: 0.5382 - auc: 0.8055 - val_loss: 0.5094 - val_auc: 0.8321\n",
            "Epoch 3/30\n",
            "2381/2381 [==============================] - 56s 23ms/step - loss: 0.5112 - auc: 0.8282 - val_loss: 0.4693 - val_auc: 0.8603\n",
            "Epoch 4/30\n",
            "2381/2381 [==============================] - 55s 23ms/step - loss: 0.4867 - auc: 0.8468 - val_loss: 0.4531 - val_auc: 0.8712\n",
            "Epoch 5/30\n",
            "2381/2381 [==============================] - 57s 24ms/step - loss: 0.4703 - auc: 0.8581 - val_loss: 0.4261 - val_auc: 0.8872\n",
            "Epoch 6/30\n",
            "2381/2381 [==============================] - 56s 24ms/step - loss: 0.4530 - auc: 0.8693 - val_loss: 0.4279 - val_auc: 0.8895\n",
            "Epoch 7/30\n",
            "2381/2381 [==============================] - 56s 24ms/step - loss: 0.4366 - auc: 0.8794 - val_loss: 0.4106 - val_auc: 0.8990\n",
            "Epoch 8/30\n",
            "2381/2381 [==============================] - 56s 23ms/step - loss: 0.4226 - auc: 0.8875 - val_loss: 0.4061 - val_auc: 0.8991\n",
            "Epoch 9/30\n",
            "2381/2381 [==============================] - 56s 24ms/step - loss: 0.4118 - auc: 0.8934 - val_loss: 0.3825 - val_auc: 0.9114\n",
            "Epoch 10/30\n",
            "2381/2381 [==============================] - 56s 24ms/step - loss: 0.3959 - auc: 0.9022 - val_loss: 0.3601 - val_auc: 0.9200\n",
            "Epoch 11/30\n",
            "2381/2381 [==============================] - 56s 24ms/step - loss: 0.3879 - auc: 0.9060 - val_loss: 0.3518 - val_auc: 0.9230\n",
            "Epoch 12/30\n",
            "2381/2381 [==============================] - 56s 24ms/step - loss: 0.3731 - auc: 0.9131 - val_loss: 0.3497 - val_auc: 0.9281\n",
            "Epoch 13/30\n",
            "2381/2381 [==============================] - 56s 23ms/step - loss: 0.3688 - auc: 0.9151 - val_loss: 0.3266 - val_auc: 0.9326\n",
            "Epoch 14/30\n",
            "2381/2381 [==============================] - 56s 23ms/step - loss: 0.3576 - auc: 0.9200 - val_loss: 0.3606 - val_auc: 0.9289\n",
            "Epoch 15/30\n",
            "2381/2381 [==============================] - 55s 23ms/step - loss: 0.3499 - auc: 0.9230 - val_loss: 0.3149 - val_auc: 0.9374\n",
            "Epoch 16/30\n",
            "2381/2381 [==============================] - 56s 23ms/step - loss: 0.3409 - auc: 0.9270 - val_loss: 0.3160 - val_auc: 0.9359\n",
            "Epoch 17/30\n",
            "2381/2381 [==============================] - 56s 23ms/step - loss: 0.3335 - auc: 0.9300 - val_loss: 0.3196 - val_auc: 0.9393\n",
            "Epoch 18/30\n",
            "2381/2381 [==============================] - 56s 24ms/step - loss: 0.3273 - auc: 0.9325 - val_loss: 0.2989 - val_auc: 0.9434\n",
            "Epoch 19/30\n",
            "2381/2381 [==============================] - 56s 24ms/step - loss: 0.3223 - auc: 0.9347 - val_loss: 0.2937 - val_auc: 0.9449\n",
            "Epoch 20/30\n",
            "2381/2381 [==============================] - 56s 24ms/step - loss: 0.3159 - auc: 0.9368 - val_loss: 0.2962 - val_auc: 0.9447\n",
            "Epoch 21/30\n",
            "2381/2381 [==============================] - 56s 24ms/step - loss: 0.3103 - auc: 0.9389 - val_loss: 0.2863 - val_auc: 0.9469\n",
            "Epoch 22/30\n",
            "2381/2381 [==============================] - 56s 23ms/step - loss: 0.3071 - auc: 0.9403 - val_loss: 0.2873 - val_auc: 0.9485\n",
            "Epoch 23/30\n",
            "2381/2381 [==============================] - 56s 23ms/step - loss: 0.3000 - auc: 0.9427 - val_loss: 0.2754 - val_auc: 0.9506\n",
            "Epoch 24/30\n",
            "2381/2381 [==============================] - 56s 23ms/step - loss: 0.3003 - auc: 0.9430 - val_loss: 0.2653 - val_auc: 0.9530\n",
            "Epoch 25/30\n",
            "2381/2381 [==============================] - 56s 24ms/step - loss: 0.2945 - auc: 0.9444 - val_loss: 0.3054 - val_auc: 0.9441\n",
            "Epoch 26/30\n",
            "2381/2381 [==============================] - 56s 23ms/step - loss: 0.2885 - auc: 0.9467 - val_loss: 0.2942 - val_auc: 0.9484\n",
            "Epoch 27/30\n",
            "2381/2381 [==============================] - 56s 23ms/step - loss: 0.2904 - auc: 0.9459 - val_loss: 0.2687 - val_auc: 0.9559\n",
            "Epoch 28/30\n",
            "2381/2381 [==============================] - 56s 23ms/step - loss: 0.2857 - auc: 0.9476 - val_loss: 0.2660 - val_auc: 0.9569\n",
            "Epoch 29/30\n",
            "2381/2381 [==============================] - 56s 23ms/step - loss: 0.2758 - auc: 0.9511 - val_loss: 0.2639 - val_auc: 0.9533\n",
            "Epoch 30/30\n",
            "2381/2381 [==============================] - 56s 24ms/step - loss: 0.2741 - auc: 0.9520 - val_loss: 0.2417 - val_auc: 0.9622\n"
          ]
        },
        {
          "output_type": "execute_result",
          "data": {
            "text/plain": [
              "<keras.callbacks.History at 0x7f1969cdee10>"
            ]
          },
          "metadata": {},
          "execution_count": 45
        }
      ]
    },
    {
      "cell_type": "markdown",
      "source": [
        "### Trial_6\n",
        "Hidden dimesion=32\n",
        "\n",
        "RGIN mechanism with layernorm, 0.2 dropout, 'mean' exchange mode."
      ],
      "metadata": {
        "id": "2xoK0r5M99NX"
      }
    },
    {
      "cell_type": "code",
      "source": [
        "model_6=GNN_model(32,True,0.2,12,'mean','rgin')"
      ],
      "metadata": {
        "id": "88LsUXgd9_6j",
        "execution": {
          "iopub.status.busy": "2022-04-05T01:30:44.704005Z",
          "iopub.execute_input": "2022-04-05T01:30:44.704247Z",
          "iopub.status.idle": "2022-04-05T01:30:45.655958Z",
          "shell.execute_reply.started": "2022-04-05T01:30:44.704216Z",
          "shell.execute_reply": "2022-04-05T01:30:45.655250Z"
        },
        "trusted": true,
        "colab": {
          "base_uri": "https://localhost:8080/"
        },
        "outputId": "ccb920ae-82be-41ac-cfd6-c8dee9a844b7"
      },
      "execution_count": null,
      "outputs": [
        {
          "output_type": "stream",
          "name": "stdout",
          "text": [
            "gnn_out KerasTensor(type_spec=TensorSpec(shape=(None, 32), dtype=tf.float32, name=None), name='gnn_5/StatefulPartitionedCall:0', description=\"created by layer 'gnn_5'\")\n",
            "mean: KerasTensor(type_spec=TensorSpec(shape=(None, 32), dtype=tf.float32, name=None), name='tf.math.segment_mean_5/SegmentMean:0', description=\"created by layer 'tf.math.segment_mean_5'\")\n",
            "pred: KerasTensor(type_spec=TensorSpec(shape=(None, 1), dtype=tf.float32, name=None), name='dense_17/Sigmoid:0', description=\"created by layer 'dense_17'\")\n"
          ]
        }
      ]
    },
    {
      "cell_type": "code",
      "source": [
        "model_6.compile(optimizer='adam',loss='BinaryCrossentropy',metrics=['AUC'])"
      ],
      "metadata": {
        "id": "737xUtjt-HDL",
        "execution": {
          "iopub.status.busy": "2022-04-05T01:30:45.659023Z",
          "iopub.execute_input": "2022-04-05T01:30:45.659647Z",
          "iopub.status.idle": "2022-04-05T01:30:45.670396Z",
          "shell.execute_reply.started": "2022-04-05T01:30:45.659618Z",
          "shell.execute_reply": "2022-04-05T01:30:45.669712Z"
        },
        "trusted": true
      },
      "execution_count": null,
      "outputs": []
    },
    {
      "cell_type": "code",
      "source": [
        "fit_pred(model_6)"
      ],
      "metadata": {
        "id": "e-N-w7lX-HKd",
        "execution": {
          "iopub.status.busy": "2022-04-05T01:30:45.671648Z",
          "iopub.execute_input": "2022-04-05T01:30:45.671987Z",
          "iopub.status.idle": "2022-04-05T01:38:35.160832Z",
          "shell.execute_reply.started": "2022-04-05T01:30:45.671950Z",
          "shell.execute_reply": "2022-04-05T01:38:35.159384Z"
        },
        "trusted": true,
        "colab": {
          "base_uri": "https://localhost:8080/"
        },
        "outputId": "8711f4c3-434e-4595-fa6f-73cb0650528a"
      },
      "execution_count": null,
      "outputs": [
        {
          "output_type": "stream",
          "name": "stdout",
          "text": [
            "Epoch 1/30\n"
          ]
        },
        {
          "output_type": "stream",
          "name": "stderr",
          "text": [
            "/usr/local/lib/python3.7/dist-packages/tensorflow/python/framework/indexed_slices.py:446: UserWarning: Converting sparse IndexedSlices(IndexedSlices(indices=Tensor(\"gradients/cond_3_grad/gradients/grad_ys_0_indices:0\", shape=(None,), dtype=int32), values=Tensor(\"gradients/cond_3_grad/gradients/grad_ys_0_values:0\", shape=(None, 32), dtype=float32), dense_shape=Tensor(\"gradients/cond_3_grad/gradients/grad_ys_0_shape:0\", shape=(2,), dtype=int32))) to a dense Tensor of unknown shape. This may consume a large amount of memory.\n",
            "  \"shape. This may consume a large amount of memory.\" % value)\n",
            "/usr/local/lib/python3.7/dist-packages/tensorflow/python/framework/indexed_slices.py:446: UserWarning: Converting sparse IndexedSlices(IndexedSlices(indices=Tensor(\"gradients/cond_3_grad/Identity_1:0\", shape=(None,), dtype=int32), values=Tensor(\"gradients/cond_3_grad/Identity:0\", shape=(None, 32), dtype=float32), dense_shape=Tensor(\"gradients/cond_3_grad/Identity_2:0\", shape=(2,), dtype=int32))) to a dense Tensor of unknown shape. This may consume a large amount of memory.\n",
            "  \"shape. This may consume a large amount of memory.\" % value)\n",
            "/usr/local/lib/python3.7/dist-packages/tensorflow/python/framework/indexed_slices.py:446: UserWarning: Converting sparse IndexedSlices(IndexedSlices(indices=Tensor(\"gradients/rgin_2/embedding_lookup_grad/Reshape_1:0\", shape=(None,), dtype=int32), values=Tensor(\"gradients/rgin_2/embedding_lookup_grad/Reshape:0\", shape=(None, 32), dtype=float32), dense_shape=Tensor(\"gradients/rgin_2/embedding_lookup_grad/Cast:0\", shape=(2,), dtype=int32))) to a dense Tensor of unknown shape. This may consume a large amount of memory.\n",
            "  \"shape. This may consume a large amount of memory.\" % value)\n",
            "/usr/local/lib/python3.7/dist-packages/tensorflow/python/framework/indexed_slices.py:446: UserWarning: Converting sparse IndexedSlices(IndexedSlices(indices=Tensor(\"gradients/cond_1_grad/gradients/grad_ys_0_indices:0\", shape=(None,), dtype=int32), values=Tensor(\"gradients/cond_1_grad/gradients/grad_ys_0_values:0\", shape=(None, 32), dtype=float32), dense_shape=Tensor(\"gradients/cond_1_grad/gradients/grad_ys_0_shape:0\", shape=(2,), dtype=int32))) to a dense Tensor of unknown shape. This may consume a large amount of memory.\n",
            "  \"shape. This may consume a large amount of memory.\" % value)\n",
            "/usr/local/lib/python3.7/dist-packages/tensorflow/python/framework/indexed_slices.py:446: UserWarning: Converting sparse IndexedSlices(IndexedSlices(indices=Tensor(\"gradients/cond_1_grad/Identity_1:0\", shape=(None,), dtype=int32), values=Tensor(\"gradients/cond_1_grad/Identity:0\", shape=(None, 32), dtype=float32), dense_shape=Tensor(\"gradients/cond_1_grad/Identity_2:0\", shape=(2,), dtype=int32))) to a dense Tensor of unknown shape. This may consume a large amount of memory.\n",
            "  \"shape. This may consume a large amount of memory.\" % value)\n",
            "/usr/local/lib/python3.7/dist-packages/tensorflow/python/framework/indexed_slices.py:446: UserWarning: Converting sparse IndexedSlices(IndexedSlices(indices=Tensor(\"gradients/rgin/embedding_lookup_grad/Reshape_1:0\", shape=(None,), dtype=int32), values=Tensor(\"gradients/rgin/embedding_lookup_grad/Reshape:0\", shape=(None, 32), dtype=float32), dense_shape=Tensor(\"gradients/rgin/embedding_lookup_grad/Cast:0\", shape=(2,), dtype=int32))) to a dense Tensor of unknown shape. This may consume a large amount of memory.\n",
            "  \"shape. This may consume a large amount of memory.\" % value)\n"
          ]
        },
        {
          "output_type": "stream",
          "name": "stdout",
          "text": [
            "2381/2381 [==============================] - 79s 31ms/step - loss: 0.6431 - auc: 0.6749 - val_loss: 0.6249 - val_auc: 0.7044\n",
            "Epoch 2/30\n",
            "2381/2381 [==============================] - 73s 31ms/step - loss: 0.6596 - auc: 0.6431 - val_loss: 0.6634 - val_auc: 0.6368\n",
            "Epoch 3/30\n",
            "2381/2381 [==============================] - 73s 31ms/step - loss: 0.6651 - auc: 0.6319 - val_loss: 0.6626 - val_auc: 0.6388\n",
            "Epoch 4/30\n",
            "2381/2381 [==============================] - 73s 31ms/step - loss: 0.6641 - auc: 0.6345 - val_loss: 0.6638 - val_auc: 0.6373\n",
            "Epoch 5/30\n",
            "2381/2381 [==============================] - 74s 31ms/step - loss: 0.6627 - auc: 0.6366 - val_loss: 0.6628 - val_auc: 0.6364\n",
            "Epoch 6/30\n",
            "2381/2381 [==============================] - 74s 31ms/step - loss: 0.6621 - auc: 0.6372 - val_loss: 0.6657 - val_auc: 0.6365\n",
            "Epoch 7/30\n",
            "2381/2381 [==============================] - 74s 31ms/step - loss: 0.6622 - auc: 0.6373 - val_loss: 0.6646 - val_auc: 0.6414\n",
            "Epoch 8/30\n",
            "2381/2381 [==============================] - 74s 31ms/step - loss: 0.6619 - auc: 0.6379 - val_loss: 0.6619 - val_auc: 0.6431\n",
            "Epoch 9/30\n",
            "2381/2381 [==============================] - 76s 32ms/step - loss: 0.6622 - auc: 0.6381 - val_loss: 0.6627 - val_auc: 0.6355\n",
            "Epoch 10/30\n",
            "2381/2381 [==============================] - 73s 31ms/step - loss: 0.6602 - auc: 0.6415 - val_loss: 0.6611 - val_auc: 0.6407\n",
            "Epoch 11/30\n",
            "2381/2381 [==============================] - 75s 31ms/step - loss: 0.6605 - auc: 0.6410 - val_loss: 0.6599 - val_auc: 0.6432\n",
            "Epoch 12/30\n",
            "2381/2381 [==============================] - 74s 31ms/step - loss: 0.6610 - auc: 0.6399 - val_loss: 0.6638 - val_auc: 0.6411\n",
            "Epoch 13/30\n",
            "2381/2381 [==============================] - 74s 31ms/step - loss: 0.6609 - auc: 0.6403 - val_loss: 0.6603 - val_auc: 0.6449\n",
            "Epoch 14/30\n",
            "2381/2381 [==============================] - 74s 31ms/step - loss: 0.6614 - auc: 0.6381 - val_loss: 0.6624 - val_auc: 0.6419\n",
            "Epoch 15/30\n",
            "2381/2381 [==============================] - 75s 32ms/step - loss: 0.6603 - auc: 0.6412 - val_loss: 0.6595 - val_auc: 0.6428\n",
            "Epoch 16/30\n",
            "2381/2381 [==============================] - 74s 31ms/step - loss: 0.6621 - auc: 0.6366 - val_loss: 0.6622 - val_auc: 0.6371\n",
            "Epoch 17/30\n",
            "2381/2381 [==============================] - 73s 31ms/step - loss: 0.6616 - auc: 0.6389 - val_loss: 0.6580 - val_auc: 0.6464\n",
            "Epoch 18/30\n",
            "2381/2381 [==============================] - 75s 32ms/step - loss: 0.6601 - auc: 0.6416 - val_loss: 0.6586 - val_auc: 0.6464\n",
            "Epoch 19/30\n",
            "2381/2381 [==============================] - 75s 31ms/step - loss: 0.6604 - auc: 0.6415 - val_loss: 0.6608 - val_auc: 0.6445\n",
            "Epoch 20/30\n",
            "2381/2381 [==============================] - 74s 31ms/step - loss: 0.6616 - auc: 0.6388 - val_loss: 0.6598 - val_auc: 0.6449\n",
            "Epoch 21/30\n",
            "2381/2381 [==============================] - 74s 31ms/step - loss: 0.6625 - auc: 0.6371 - val_loss: 0.6598 - val_auc: 0.6410\n",
            "Epoch 22/30\n",
            "2381/2381 [==============================] - 75s 32ms/step - loss: 0.6597 - auc: 0.6432 - val_loss: 0.6579 - val_auc: 0.6448\n",
            "Epoch 23/30\n",
            "2381/2381 [==============================] - 76s 32ms/step - loss: 0.6607 - auc: 0.6415 - val_loss: 0.6590 - val_auc: 0.6436\n",
            "Epoch 24/30\n",
            "2381/2381 [==============================] - 75s 32ms/step - loss: 0.6604 - auc: 0.6407 - val_loss: 0.6600 - val_auc: 0.6415\n",
            "Epoch 25/30\n",
            "2381/2381 [==============================] - 76s 32ms/step - loss: 0.6605 - auc: 0.6405 - val_loss: 0.6600 - val_auc: 0.6429\n",
            "Epoch 26/30\n",
            "2381/2381 [==============================] - 75s 32ms/step - loss: 0.6627 - auc: 0.6358 - val_loss: 0.6651 - val_auc: 0.6345\n",
            "Epoch 27/30\n",
            "2381/2381 [==============================] - 75s 31ms/step - loss: 0.6660 - auc: 0.6289 - val_loss: 0.6650 - val_auc: 0.6325\n",
            "Epoch 28/30\n",
            "2381/2381 [==============================] - 74s 31ms/step - loss: 0.6656 - auc: 0.6298 - val_loss: 0.6650 - val_auc: 0.6304\n",
            "Epoch 29/30\n",
            "2381/2381 [==============================] - 76s 32ms/step - loss: 0.6664 - auc: 0.6274 - val_loss: 0.6645 - val_auc: 0.6325\n",
            "Epoch 30/30\n",
            "2381/2381 [==============================] - 75s 31ms/step - loss: 0.6645 - auc: 0.6326 - val_loss: 0.6629 - val_auc: 0.6376\n"
          ]
        },
        {
          "output_type": "execute_result",
          "data": {
            "text/plain": [
              "<keras.callbacks.History at 0x7f1967784d90>"
            ]
          },
          "metadata": {},
          "execution_count": 50
        }
      ]
    },
    {
      "cell_type": "markdown",
      "source": [
        "### Trial_7\n",
        "Hidden dimesion=64\n",
        "\n",
        "GGNN mechanism with layernorm, 0.2 dropout, 'gru' exchange mode."
      ],
      "metadata": {
        "id": "psg3j2aJ-XFK"
      }
    },
    {
      "cell_type": "code",
      "source": [
        "model_7=GNN_model(64,True,0,12,'gru','ggnn')"
      ],
      "metadata": {
        "id": "ZSCuUEzi-Zv8",
        "execution": {
          "iopub.status.busy": "2022-04-05T01:38:42.733096Z",
          "iopub.execute_input": "2022-04-05T01:38:42.733358Z",
          "iopub.status.idle": "2022-04-05T01:38:43.297910Z",
          "shell.execute_reply.started": "2022-04-05T01:38:42.733328Z",
          "shell.execute_reply": "2022-04-05T01:38:43.297216Z"
        },
        "trusted": true,
        "colab": {
          "base_uri": "https://localhost:8080/"
        },
        "outputId": "150a09e8-ef13-4346-e205-ee52cab7e30b"
      },
      "execution_count": null,
      "outputs": [
        {
          "output_type": "stream",
          "name": "stdout",
          "text": [
            "gnn_out KerasTensor(type_spec=TensorSpec(shape=(None, 64), dtype=tf.float32, name=None), name='gnn_6/StatefulPartitionedCall:0', description=\"created by layer 'gnn_6'\")\n",
            "mean: KerasTensor(type_spec=TensorSpec(shape=(None, 64), dtype=tf.float32, name=None), name='tf.math.segment_mean_6/SegmentMean:0', description=\"created by layer 'tf.math.segment_mean_6'\")\n",
            "pred: KerasTensor(type_spec=TensorSpec(shape=(None, 1), dtype=tf.float32, name=None), name='dense_20/Sigmoid:0', description=\"created by layer 'dense_20'\")\n"
          ]
        }
      ]
    },
    {
      "cell_type": "code",
      "source": [
        "model_7.compile(optimizer='adam',loss='BinaryCrossentropy',metrics=['AUC'])"
      ],
      "metadata": {
        "id": "0b5khmr3-aKx",
        "execution": {
          "iopub.status.busy": "2022-04-05T01:38:43.299576Z",
          "iopub.execute_input": "2022-04-05T01:38:43.299836Z",
          "iopub.status.idle": "2022-04-05T01:38:43.311033Z",
          "shell.execute_reply.started": "2022-04-05T01:38:43.299800Z",
          "shell.execute_reply": "2022-04-05T01:38:43.310361Z"
        },
        "trusted": true
      },
      "execution_count": null,
      "outputs": []
    },
    {
      "cell_type": "code",
      "source": [
        "fit_pred(model_7)"
      ],
      "metadata": {
        "id": "1dShU47R-aX0",
        "execution": {
          "iopub.status.busy": "2022-04-05T01:38:44.634368Z",
          "iopub.execute_input": "2022-04-05T01:38:44.634906Z",
          "iopub.status.idle": "2022-04-05T01:56:32.751193Z",
          "shell.execute_reply.started": "2022-04-05T01:38:44.634868Z",
          "shell.execute_reply": "2022-04-05T01:56:32.750517Z"
        },
        "trusted": true,
        "colab": {
          "base_uri": "https://localhost:8080/"
        },
        "outputId": "8eadbc85-21af-4a8a-8e2c-b2d6496352c9"
      },
      "execution_count": null,
      "outputs": [
        {
          "output_type": "stream",
          "name": "stdout",
          "text": [
            "Epoch 1/30\n"
          ]
        },
        {
          "output_type": "stream",
          "name": "stderr",
          "text": [
            "/usr/local/lib/python3.7/dist-packages/tensorflow/python/framework/indexed_slices.py:446: UserWarning: Converting sparse IndexedSlices(IndexedSlices(indices=Tensor(\"gradients/ggnn_3/embedding_lookup_grad/Reshape_1:0\", shape=(None,), dtype=int32), values=Tensor(\"gradients/ggnn_3/embedding_lookup_grad/Reshape:0\", shape=(None, 64), dtype=float32), dense_shape=Tensor(\"gradients/ggnn_3/embedding_lookup_grad/Cast:0\", shape=(2,), dtype=int32))) to a dense Tensor of unknown shape. This may consume a large amount of memory.\n",
            "  \"shape. This may consume a large amount of memory.\" % value)\n",
            "/usr/local/lib/python3.7/dist-packages/tensorflow/python/framework/indexed_slices.py:446: UserWarning: Converting sparse IndexedSlices(IndexedSlices(indices=Tensor(\"gradients/ggnn_2/embedding_lookup_grad/Reshape_1:0\", shape=(None,), dtype=int32), values=Tensor(\"gradients/ggnn_2/embedding_lookup_grad/Reshape:0\", shape=(None, 64), dtype=float32), dense_shape=Tensor(\"gradients/ggnn_2/embedding_lookup_grad/Cast:0\", shape=(2,), dtype=int32))) to a dense Tensor of unknown shape. This may consume a large amount of memory.\n",
            "  \"shape. This may consume a large amount of memory.\" % value)\n",
            "/usr/local/lib/python3.7/dist-packages/tensorflow/python/framework/indexed_slices.py:446: UserWarning: Converting sparse IndexedSlices(IndexedSlices(indices=Tensor(\"gradients/ggnn_1/embedding_lookup_grad/Reshape_1:0\", shape=(None,), dtype=int32), values=Tensor(\"gradients/ggnn_1/embedding_lookup_grad/Reshape:0\", shape=(None, 64), dtype=float32), dense_shape=Tensor(\"gradients/ggnn_1/embedding_lookup_grad/Cast:0\", shape=(2,), dtype=int32))) to a dense Tensor of unknown shape. This may consume a large amount of memory.\n",
            "  \"shape. This may consume a large amount of memory.\" % value)\n",
            "/usr/local/lib/python3.7/dist-packages/tensorflow/python/framework/indexed_slices.py:446: UserWarning: Converting sparse IndexedSlices(IndexedSlices(indices=Tensor(\"gradients/ggnn/embedding_lookup_grad/Reshape_1:0\", shape=(None,), dtype=int32), values=Tensor(\"gradients/ggnn/embedding_lookup_grad/Reshape:0\", shape=(None, 64), dtype=float32), dense_shape=Tensor(\"gradients/ggnn/embedding_lookup_grad/Cast:0\", shape=(2,), dtype=int32))) to a dense Tensor of unknown shape. This may consume a large amount of memory.\n",
            "  \"shape. This may consume a large amount of memory.\" % value)\n"
          ]
        },
        {
          "output_type": "stream",
          "name": "stdout",
          "text": [
            "2381/2381 [==============================] - 66s 26ms/step - loss: 0.5745 - auc: 0.7697 - val_loss: 0.5195 - val_auc: 0.8292\n",
            "Epoch 2/30\n",
            "2381/2381 [==============================] - 61s 26ms/step - loss: 0.4901 - auc: 0.8449 - val_loss: 0.4846 - val_auc: 0.8637\n",
            "Epoch 3/30\n",
            "2381/2381 [==============================] - 61s 26ms/step - loss: 0.4643 - auc: 0.8623 - val_loss: 0.4318 - val_auc: 0.8854\n",
            "Epoch 4/30\n",
            "2381/2381 [==============================] - 61s 25ms/step - loss: 0.4220 - auc: 0.8876 - val_loss: 0.4341 - val_auc: 0.9146\n",
            "Epoch 5/30\n",
            "2381/2381 [==============================] - 63s 26ms/step - loss: 0.3675 - auc: 0.9153 - val_loss: 0.3457 - val_auc: 0.9264\n",
            "Epoch 6/30\n",
            "2381/2381 [==============================] - 62s 26ms/step - loss: 0.3308 - auc: 0.9312 - val_loss: 0.2926 - val_auc: 0.9449\n",
            "Epoch 7/30\n",
            "2381/2381 [==============================] - 63s 26ms/step - loss: 0.3053 - auc: 0.9406 - val_loss: 0.2803 - val_auc: 0.9497\n",
            "Epoch 8/30\n",
            "2381/2381 [==============================] - 62s 26ms/step - loss: 0.2803 - auc: 0.9494 - val_loss: 0.2606 - val_auc: 0.9563\n",
            "Epoch 9/30\n",
            "2381/2381 [==============================] - 74s 31ms/step - loss: 0.2609 - auc: 0.9554 - val_loss: 0.2274 - val_auc: 0.9647\n",
            "Epoch 10/30\n",
            "2381/2381 [==============================] - 61s 26ms/step - loss: 0.2377 - auc: 0.9622 - val_loss: 0.2761 - val_auc: 0.9629\n",
            "Epoch 11/30\n",
            "2381/2381 [==============================] - 63s 26ms/step - loss: 0.2262 - auc: 0.9657 - val_loss: 0.2015 - val_auc: 0.9702\n",
            "Epoch 12/30\n",
            "2381/2381 [==============================] - 62s 26ms/step - loss: 0.2080 - auc: 0.9704 - val_loss: 0.2031 - val_auc: 0.9706\n",
            "Epoch 13/30\n",
            "2381/2381 [==============================] - 62s 26ms/step - loss: 0.1965 - auc: 0.9729 - val_loss: 0.1852 - val_auc: 0.9771\n",
            "Epoch 14/30\n",
            "2381/2381 [==============================] - 62s 26ms/step - loss: 0.1889 - auc: 0.9747 - val_loss: 0.1867 - val_auc: 0.9740\n",
            "Epoch 15/30\n",
            "2381/2381 [==============================] - 62s 26ms/step - loss: 0.1840 - auc: 0.9763 - val_loss: 0.2252 - val_auc: 0.9725\n",
            "Epoch 16/30\n",
            "2381/2381 [==============================] - 63s 26ms/step - loss: 0.1806 - auc: 0.9769 - val_loss: 0.2309 - val_auc: 0.9653\n",
            "Epoch 17/30\n",
            "2381/2381 [==============================] - 62s 26ms/step - loss: 0.1763 - auc: 0.9775 - val_loss: 0.1765 - val_auc: 0.9778\n",
            "Epoch 18/30\n",
            "2381/2381 [==============================] - 62s 26ms/step - loss: 0.1634 - auc: 0.9802 - val_loss: 0.1734 - val_auc: 0.9789\n",
            "Epoch 19/30\n",
            "2381/2381 [==============================] - 61s 26ms/step - loss: 0.1568 - auc: 0.9818 - val_loss: 0.1577 - val_auc: 0.9813\n",
            "Epoch 20/30\n",
            "2381/2381 [==============================] - 61s 26ms/step - loss: 0.1530 - auc: 0.9824 - val_loss: 0.1720 - val_auc: 0.9804\n",
            "Epoch 21/30\n",
            "2381/2381 [==============================] - 62s 26ms/step - loss: 0.1508 - auc: 0.9829 - val_loss: 0.1866 - val_auc: 0.9819\n",
            "Epoch 22/30\n",
            "2381/2381 [==============================] - 62s 26ms/step - loss: 0.1481 - auc: 0.9834 - val_loss: 0.1363 - val_auc: 0.9837\n",
            "Epoch 23/30\n",
            "2381/2381 [==============================] - 62s 26ms/step - loss: 0.1444 - auc: 0.9842 - val_loss: 0.1686 - val_auc: 0.9785\n",
            "Epoch 24/30\n",
            "2381/2381 [==============================] - 62s 26ms/step - loss: 0.1382 - auc: 0.9855 - val_loss: 0.1338 - val_auc: 0.9848\n",
            "Epoch 25/30\n",
            "2381/2381 [==============================] - 62s 26ms/step - loss: 0.1391 - auc: 0.9854 - val_loss: 0.1624 - val_auc: 0.9833\n",
            "Epoch 26/30\n",
            "2381/2381 [==============================] - 62s 26ms/step - loss: 0.1326 - auc: 0.9865 - val_loss: 0.1605 - val_auc: 0.9818\n",
            "Epoch 27/30\n",
            "2381/2381 [==============================] - 62s 26ms/step - loss: 0.1387 - auc: 0.9853 - val_loss: 0.1451 - val_auc: 0.9824\n",
            "Epoch 28/30\n",
            "2381/2381 [==============================] - 62s 26ms/step - loss: 0.1355 - auc: 0.9860 - val_loss: 0.1639 - val_auc: 0.9825\n",
            "Epoch 29/30\n",
            "2381/2381 [==============================] - 61s 26ms/step - loss: 0.1309 - auc: 0.9870 - val_loss: 0.1426 - val_auc: 0.9840\n",
            "Epoch 30/30\n",
            "2381/2381 [==============================] - 62s 26ms/step - loss: 0.1287 - auc: 0.9874 - val_loss: 0.1516 - val_auc: 0.9851\n"
          ]
        },
        {
          "output_type": "execute_result",
          "data": {
            "text/plain": [
              "<keras.callbacks.History at 0x7f19662e4d50>"
            ]
          },
          "metadata": {},
          "execution_count": 55
        }
      ]
    },
    {
      "cell_type": "markdown",
      "source": [
        "### Trial_8\n",
        "Hidden dimension=64\n",
        "\n",
        "GGNN mechanism with layernorm, 0 dropout, 'mlp' exchange mode."
      ],
      "metadata": {
        "id": "NwaNvO67-bKg"
      }
    },
    {
      "cell_type": "code",
      "source": [
        "model_8=GNN_model(64,True,0,12,'mlp','ggnn')"
      ],
      "metadata": {
        "id": "cTtbzViJ-dSS",
        "execution": {
          "iopub.status.busy": "2022-04-05T01:56:36.686388Z",
          "iopub.execute_input": "2022-04-05T01:56:36.686666Z",
          "iopub.status.idle": "2022-04-05T01:56:37.272980Z",
          "shell.execute_reply.started": "2022-04-05T01:56:36.686631Z",
          "shell.execute_reply": "2022-04-05T01:56:37.272247Z"
        },
        "trusted": true,
        "colab": {
          "base_uri": "https://localhost:8080/"
        },
        "outputId": "79356203-086c-4195-ef56-58d73d203983"
      },
      "execution_count": null,
      "outputs": [
        {
          "output_type": "stream",
          "name": "stdout",
          "text": [
            "gnn_out KerasTensor(type_spec=TensorSpec(shape=(None, 64), dtype=tf.float32, name=None), name='gnn_7/StatefulPartitionedCall:0', description=\"created by layer 'gnn_7'\")\n",
            "mean: KerasTensor(type_spec=TensorSpec(shape=(None, 64), dtype=tf.float32, name=None), name='tf.math.segment_mean_7/SegmentMean:0', description=\"created by layer 'tf.math.segment_mean_7'\")\n",
            "pred: KerasTensor(type_spec=TensorSpec(shape=(None, 1), dtype=tf.float32, name=None), name='dense_23/Sigmoid:0', description=\"created by layer 'dense_23'\")\n"
          ]
        }
      ]
    },
    {
      "cell_type": "code",
      "source": [
        "model_8.compile(optimizer='adam',loss='BinaryCrossentropy',metrics=['AUC'])"
      ],
      "metadata": {
        "id": "P74QGrEv-dfx",
        "execution": {
          "iopub.status.busy": "2022-04-05T01:56:37.274078Z",
          "iopub.execute_input": "2022-04-05T01:56:37.275613Z",
          "iopub.status.idle": "2022-04-05T01:56:37.286857Z",
          "shell.execute_reply.started": "2022-04-05T01:56:37.275580Z",
          "shell.execute_reply": "2022-04-05T01:56:37.286061Z"
        },
        "trusted": true
      },
      "execution_count": null,
      "outputs": []
    },
    {
      "cell_type": "code",
      "source": [
        "fit_pred(model_8)"
      ],
      "metadata": {
        "id": "KJoAp5pM-drO",
        "execution": {
          "iopub.status.busy": "2022-04-05T01:56:37.289569Z",
          "iopub.execute_input": "2022-04-05T01:56:37.289952Z",
          "iopub.status.idle": "2022-04-05T02:14:01.599584Z",
          "shell.execute_reply.started": "2022-04-05T01:56:37.289883Z",
          "shell.execute_reply": "2022-04-05T02:14:01.598785Z"
        },
        "trusted": true,
        "colab": {
          "base_uri": "https://localhost:8080/"
        },
        "outputId": "aa93342f-59e7-459b-95e8-3d8b2493b04c"
      },
      "execution_count": null,
      "outputs": [
        {
          "output_type": "stream",
          "name": "stdout",
          "text": [
            "Epoch 1/30\n"
          ]
        },
        {
          "output_type": "stream",
          "name": "stderr",
          "text": [
            "/usr/local/lib/python3.7/dist-packages/tensorflow/python/framework/indexed_slices.py:446: UserWarning: Converting sparse IndexedSlices(IndexedSlices(indices=Tensor(\"gradients/ggnn_3/embedding_lookup_grad/Reshape_1:0\", shape=(None,), dtype=int32), values=Tensor(\"gradients/ggnn_3/embedding_lookup_grad/Reshape:0\", shape=(None, 64), dtype=float32), dense_shape=Tensor(\"gradients/ggnn_3/embedding_lookup_grad/Cast:0\", shape=(2,), dtype=int32))) to a dense Tensor of unknown shape. This may consume a large amount of memory.\n",
            "  \"shape. This may consume a large amount of memory.\" % value)\n",
            "/usr/local/lib/python3.7/dist-packages/tensorflow/python/framework/indexed_slices.py:446: UserWarning: Converting sparse IndexedSlices(IndexedSlices(indices=Tensor(\"gradients/ggnn_2/embedding_lookup_grad/Reshape_1:0\", shape=(None,), dtype=int32), values=Tensor(\"gradients/ggnn_2/embedding_lookup_grad/Reshape:0\", shape=(None, 64), dtype=float32), dense_shape=Tensor(\"gradients/ggnn_2/embedding_lookup_grad/Cast:0\", shape=(2,), dtype=int32))) to a dense Tensor of unknown shape. This may consume a large amount of memory.\n",
            "  \"shape. This may consume a large amount of memory.\" % value)\n",
            "/usr/local/lib/python3.7/dist-packages/tensorflow/python/framework/indexed_slices.py:446: UserWarning: Converting sparse IndexedSlices(IndexedSlices(indices=Tensor(\"gradients/ggnn_1/embedding_lookup_grad/Reshape_1:0\", shape=(None,), dtype=int32), values=Tensor(\"gradients/ggnn_1/embedding_lookup_grad/Reshape:0\", shape=(None, 64), dtype=float32), dense_shape=Tensor(\"gradients/ggnn_1/embedding_lookup_grad/Cast:0\", shape=(2,), dtype=int32))) to a dense Tensor of unknown shape. This may consume a large amount of memory.\n",
            "  \"shape. This may consume a large amount of memory.\" % value)\n",
            "/usr/local/lib/python3.7/dist-packages/tensorflow/python/framework/indexed_slices.py:446: UserWarning: Converting sparse IndexedSlices(IndexedSlices(indices=Tensor(\"gradients/ggnn/embedding_lookup_grad/Reshape_1:0\", shape=(None,), dtype=int32), values=Tensor(\"gradients/ggnn/embedding_lookup_grad/Reshape:0\", shape=(None, 64), dtype=float32), dense_shape=Tensor(\"gradients/ggnn/embedding_lookup_grad/Cast:0\", shape=(2,), dtype=int32))) to a dense Tensor of unknown shape. This may consume a large amount of memory.\n",
            "  \"shape. This may consume a large amount of memory.\" % value)\n"
          ]
        },
        {
          "output_type": "stream",
          "name": "stdout",
          "text": [
            "2381/2381 [==============================] - 64s 26ms/step - loss: 0.6117 - auc: 0.7234 - val_loss: 0.5583 - val_auc: 0.7960\n",
            "Epoch 2/30\n",
            "2381/2381 [==============================] - 59s 25ms/step - loss: 0.5457 - auc: 0.7988 - val_loss: 0.5128 - val_auc: 0.8312\n",
            "Epoch 3/30\n",
            "2381/2381 [==============================] - 60s 25ms/step - loss: 0.4959 - auc: 0.8403 - val_loss: 0.4714 - val_auc: 0.8581\n",
            "Epoch 4/30\n",
            "2381/2381 [==============================] - 59s 25ms/step - loss: 0.4645 - auc: 0.8620 - val_loss: 0.5091 - val_auc: 0.8622\n",
            "Epoch 5/30\n",
            "2381/2381 [==============================] - 59s 25ms/step - loss: 0.4506 - auc: 0.8707 - val_loss: 0.4175 - val_auc: 0.8907\n",
            "Epoch 6/30\n",
            "2381/2381 [==============================] - 65s 27ms/step - loss: 0.4202 - auc: 0.8890 - val_loss: 0.4175 - val_auc: 0.8985\n",
            "Epoch 7/30\n",
            "2381/2381 [==============================] - 60s 25ms/step - loss: 0.3938 - auc: 0.9031 - val_loss: 0.4226 - val_auc: 0.9148\n",
            "Epoch 8/30\n",
            "2381/2381 [==============================] - 60s 25ms/step - loss: 0.3719 - auc: 0.9139 - val_loss: 0.3307 - val_auc: 0.9321\n",
            "Epoch 9/30\n",
            "2381/2381 [==============================] - 60s 25ms/step - loss: 0.3443 - auc: 0.9258 - val_loss: 0.3548 - val_auc: 0.9286\n",
            "Epoch 10/30\n",
            "2381/2381 [==============================] - 60s 25ms/step - loss: 0.3388 - auc: 0.9282 - val_loss: 0.3060 - val_auc: 0.9436\n",
            "Epoch 11/30\n",
            "2381/2381 [==============================] - 60s 25ms/step - loss: 0.3155 - auc: 0.9374 - val_loss: 0.2931 - val_auc: 0.9445\n",
            "Epoch 12/30\n",
            "2381/2381 [==============================] - 60s 25ms/step - loss: 0.3052 - auc: 0.9413 - val_loss: 0.2815 - val_auc: 0.9484\n",
            "Epoch 13/30\n",
            "2381/2381 [==============================] - 60s 25ms/step - loss: 0.2943 - auc: 0.9450 - val_loss: 0.2767 - val_auc: 0.9512\n",
            "Epoch 14/30\n",
            "2381/2381 [==============================] - 60s 25ms/step - loss: 0.2767 - auc: 0.9509 - val_loss: 0.2733 - val_auc: 0.9537\n",
            "Epoch 15/30\n",
            "2381/2381 [==============================] - 61s 25ms/step - loss: 0.2671 - auc: 0.9539 - val_loss: 0.2701 - val_auc: 0.9535\n",
            "Epoch 16/30\n",
            "2381/2381 [==============================] - 60s 25ms/step - loss: 0.2681 - auc: 0.9539 - val_loss: 0.2640 - val_auc: 0.9571\n",
            "Epoch 17/30\n",
            "2381/2381 [==============================] - 59s 25ms/step - loss: 0.2571 - auc: 0.9570 - val_loss: 0.2582 - val_auc: 0.9558\n",
            "Epoch 18/30\n",
            "2381/2381 [==============================] - 60s 25ms/step - loss: 0.2537 - auc: 0.9580 - val_loss: 0.2363 - val_auc: 0.9634\n",
            "Epoch 19/30\n",
            "2381/2381 [==============================] - 59s 25ms/step - loss: 0.2507 - auc: 0.9589 - val_loss: 0.2358 - val_auc: 0.9624\n",
            "Epoch 20/30\n",
            "2381/2381 [==============================] - 60s 25ms/step - loss: 0.2426 - auc: 0.9615 - val_loss: 0.2334 - val_auc: 0.9647\n",
            "Epoch 21/30\n",
            "2381/2381 [==============================] - 60s 25ms/step - loss: 0.2285 - auc: 0.9654 - val_loss: 0.2221 - val_auc: 0.9669\n",
            "Epoch 22/30\n",
            "2381/2381 [==============================] - 60s 25ms/step - loss: 0.2349 - auc: 0.9633 - val_loss: 0.2324 - val_auc: 0.9637\n",
            "Epoch 23/30\n",
            "2381/2381 [==============================] - 60s 25ms/step - loss: 0.2286 - auc: 0.9650 - val_loss: 0.2530 - val_auc: 0.9669\n",
            "Epoch 24/30\n",
            "2381/2381 [==============================] - 60s 25ms/step - loss: 0.2276 - auc: 0.9654 - val_loss: 0.2227 - val_auc: 0.9700\n",
            "Epoch 25/30\n",
            "2381/2381 [==============================] - 60s 25ms/step - loss: 0.2138 - auc: 0.9690 - val_loss: 0.2133 - val_auc: 0.9710\n",
            "Epoch 26/30\n",
            "2381/2381 [==============================] - 60s 25ms/step - loss: 0.3223 - auc: 0.9352 - val_loss: 0.3164 - val_auc: 0.9364\n",
            "Epoch 27/30\n",
            "2381/2381 [==============================] - 60s 25ms/step - loss: 0.3053 - auc: 0.9414 - val_loss: 0.2672 - val_auc: 0.9537\n",
            "Epoch 28/30\n",
            "2381/2381 [==============================] - 60s 25ms/step - loss: 0.2647 - auc: 0.9549 - val_loss: 0.2407 - val_auc: 0.9607\n",
            "Epoch 29/30\n",
            "2381/2381 [==============================] - 60s 25ms/step - loss: 0.2397 - auc: 0.9620 - val_loss: 0.2532 - val_auc: 0.9584\n",
            "Epoch 30/30\n",
            "2381/2381 [==============================] - 60s 25ms/step - loss: 0.2289 - auc: 0.9649 - val_loss: 0.2291 - val_auc: 0.9654\n"
          ]
        },
        {
          "output_type": "execute_result",
          "data": {
            "text/plain": [
              "<keras.callbacks.History at 0x7f1964595150>"
            ]
          },
          "metadata": {},
          "execution_count": 60
        }
      ]
    },
    {
      "cell_type": "markdown",
      "source": [
        "**Good performance with 64 hidden dimension let's increase the number and see what will happen.**"
      ],
      "metadata": {
        "id": "ZWNTTZz92-ce"
      }
    },
    {
      "cell_type": "markdown",
      "source": [
        "### Trial_9\n",
        "Hidden dimension=128\n",
        "\n",
        "GGNN mechanism with layernorm, 0 dropout, 'mlp' exchange mode.\n",
        "\n",
        "Here I changed hidden dimesion to see the effect."
      ],
      "metadata": {
        "id": "Y722qPm0-ed9"
      }
    },
    {
      "cell_type": "code",
      "source": [
        "model_9=GNN_model(128,False,0,12,'mlp','ggnn')"
      ],
      "metadata": {
        "id": "eKmzpL-5-giR",
        "execution": {
          "iopub.status.busy": "2022-04-05T02:14:05.643623Z",
          "iopub.execute_input": "2022-04-05T02:14:05.643873Z",
          "iopub.status.idle": "2022-04-05T02:14:06.113497Z",
          "shell.execute_reply.started": "2022-04-05T02:14:05.643839Z",
          "shell.execute_reply": "2022-04-05T02:14:06.112767Z"
        },
        "trusted": true,
        "colab": {
          "base_uri": "https://localhost:8080/"
        },
        "outputId": "1501b985-10b6-453c-aec9-dd91eb0fb751"
      },
      "execution_count": null,
      "outputs": [
        {
          "output_type": "stream",
          "name": "stdout",
          "text": [
            "gnn_out KerasTensor(type_spec=TensorSpec(shape=(None, 128), dtype=tf.float32, name=None), name='gnn_8/StatefulPartitionedCall:0', description=\"created by layer 'gnn_8'\")\n",
            "mean: KerasTensor(type_spec=TensorSpec(shape=(None, 128), dtype=tf.float32, name=None), name='tf.math.segment_mean_8/SegmentMean:0', description=\"created by layer 'tf.math.segment_mean_8'\")\n",
            "pred: KerasTensor(type_spec=TensorSpec(shape=(None, 1), dtype=tf.float32, name=None), name='dense_26/Sigmoid:0', description=\"created by layer 'dense_26'\")\n"
          ]
        }
      ]
    },
    {
      "cell_type": "code",
      "source": [
        "model_9.compile(optimizer='adam',loss='BinaryCrossentropy',metrics=['AUC'])"
      ],
      "metadata": {
        "id": "StD_YY_P-gr7",
        "execution": {
          "iopub.status.busy": "2022-04-05T02:14:06.116032Z",
          "iopub.execute_input": "2022-04-05T02:14:06.116668Z",
          "iopub.status.idle": "2022-04-05T02:14:06.126759Z",
          "shell.execute_reply.started": "2022-04-05T02:14:06.116625Z",
          "shell.execute_reply": "2022-04-05T02:14:06.126040Z"
        },
        "trusted": true
      },
      "execution_count": null,
      "outputs": []
    },
    {
      "cell_type": "code",
      "source": [
        "fit_pred(model_9)"
      ],
      "metadata": {
        "id": "reOYf59i-g3I",
        "execution": {
          "iopub.status.busy": "2022-04-05T02:14:06.127943Z",
          "iopub.execute_input": "2022-04-05T02:14:06.128325Z",
          "iopub.status.idle": "2022-04-05T02:30:11.490101Z",
          "shell.execute_reply.started": "2022-04-05T02:14:06.128286Z",
          "shell.execute_reply": "2022-04-05T02:30:11.489448Z"
        },
        "trusted": true,
        "colab": {
          "base_uri": "https://localhost:8080/"
        },
        "outputId": "462869dd-88a0-41b9-c7f3-9e7ea7db832b"
      },
      "execution_count": null,
      "outputs": [
        {
          "output_type": "stream",
          "name": "stdout",
          "text": [
            "Epoch 1/30\n"
          ]
        },
        {
          "output_type": "stream",
          "name": "stderr",
          "text": [
            "/usr/local/lib/python3.7/dist-packages/tensorflow/python/framework/indexed_slices.py:446: UserWarning: Converting sparse IndexedSlices(IndexedSlices(indices=Tensor(\"gradients/ggnn_3/embedding_lookup_grad/Reshape_1:0\", shape=(None,), dtype=int32), values=Tensor(\"gradients/ggnn_3/embedding_lookup_grad/Reshape:0\", shape=(None, 128), dtype=float32), dense_shape=Tensor(\"gradients/ggnn_3/embedding_lookup_grad/Cast:0\", shape=(2,), dtype=int32))) to a dense Tensor of unknown shape. This may consume a large amount of memory.\n",
            "  \"shape. This may consume a large amount of memory.\" % value)\n",
            "/usr/local/lib/python3.7/dist-packages/tensorflow/python/framework/indexed_slices.py:446: UserWarning: Converting sparse IndexedSlices(IndexedSlices(indices=Tensor(\"gradients/ggnn_2/embedding_lookup_grad/Reshape_1:0\", shape=(None,), dtype=int32), values=Tensor(\"gradients/ggnn_2/embedding_lookup_grad/Reshape:0\", shape=(None, 128), dtype=float32), dense_shape=Tensor(\"gradients/ggnn_2/embedding_lookup_grad/Cast:0\", shape=(2,), dtype=int32))) to a dense Tensor of unknown shape. This may consume a large amount of memory.\n",
            "  \"shape. This may consume a large amount of memory.\" % value)\n",
            "/usr/local/lib/python3.7/dist-packages/tensorflow/python/framework/indexed_slices.py:446: UserWarning: Converting sparse IndexedSlices(IndexedSlices(indices=Tensor(\"gradients/ggnn_1/embedding_lookup_grad/Reshape_1:0\", shape=(None,), dtype=int32), values=Tensor(\"gradients/ggnn_1/embedding_lookup_grad/Reshape:0\", shape=(None, 128), dtype=float32), dense_shape=Tensor(\"gradients/ggnn_1/embedding_lookup_grad/Cast:0\", shape=(2,), dtype=int32))) to a dense Tensor of unknown shape. This may consume a large amount of memory.\n",
            "  \"shape. This may consume a large amount of memory.\" % value)\n",
            "/usr/local/lib/python3.7/dist-packages/tensorflow/python/framework/indexed_slices.py:446: UserWarning: Converting sparse IndexedSlices(IndexedSlices(indices=Tensor(\"gradients/ggnn/embedding_lookup_grad/Reshape_1:0\", shape=(None,), dtype=int32), values=Tensor(\"gradients/ggnn/embedding_lookup_grad/Reshape:0\", shape=(None, 128), dtype=float32), dense_shape=Tensor(\"gradients/ggnn/embedding_lookup_grad/Cast:0\", shape=(2,), dtype=int32))) to a dense Tensor of unknown shape. This may consume a large amount of memory.\n",
            "  \"shape. This may consume a large amount of memory.\" % value)\n"
          ]
        },
        {
          "output_type": "stream",
          "name": "stdout",
          "text": [
            "2381/2381 [==============================] - 64s 26ms/step - loss: 0.6313 - auc: 0.6954 - val_loss: 0.6292 - val_auc: 0.7459\n",
            "Epoch 2/30\n",
            "2381/2381 [==============================] - 60s 25ms/step - loss: 0.6041 - auc: 0.7338 - val_loss: 0.6043 - val_auc: 0.7365\n",
            "Epoch 3/30\n",
            "2381/2381 [==============================] - 59s 25ms/step - loss: 0.5997 - auc: 0.7343 - val_loss: 0.5960 - val_auc: 0.7468\n",
            "Epoch 4/30\n",
            "2381/2381 [==============================] - 60s 25ms/step - loss: 0.5917 - auc: 0.7478 - val_loss: 0.5783 - val_auc: 0.7738\n",
            "Epoch 5/30\n",
            "2381/2381 [==============================] - 60s 25ms/step - loss: 0.5903 - auc: 0.7509 - val_loss: 0.5945 - val_auc: 0.7475\n",
            "Epoch 6/30\n",
            "2381/2381 [==============================] - 59s 25ms/step - loss: 0.5925 - auc: 0.7462 - val_loss: 0.5931 - val_auc: 0.7637\n",
            "Epoch 7/30\n",
            "2381/2381 [==============================] - 60s 25ms/step - loss: 0.5826 - auc: 0.7591 - val_loss: 0.5767 - val_auc: 0.7691\n",
            "Epoch 8/30\n",
            "2381/2381 [==============================] - 59s 25ms/step - loss: 0.6272 - auc: 0.6960 - val_loss: 0.5954 - val_auc: 0.7500\n",
            "Epoch 9/30\n",
            "2381/2381 [==============================] - 60s 25ms/step - loss: 0.5970 - auc: 0.7428 - val_loss: 0.5789 - val_auc: 0.7661\n",
            "Epoch 10/30\n",
            "2381/2381 [==============================] - 59s 25ms/step - loss: 0.5858 - auc: 0.7547 - val_loss: 0.6004 - val_auc: 0.7735\n",
            "Epoch 11/30\n",
            "2381/2381 [==============================] - 59s 25ms/step - loss: 0.5708 - auc: 0.7725 - val_loss: 0.5651 - val_auc: 0.7793\n",
            "Epoch 12/30\n",
            "2381/2381 [==============================] - 60s 25ms/step - loss: 0.5816 - auc: 0.7570 - val_loss: 0.5751 - val_auc: 0.7733\n",
            "Epoch 13/30\n",
            "2381/2381 [==============================] - 58s 24ms/step - loss: 0.5747 - auc: 0.7658 - val_loss: 0.5632 - val_auc: 0.7885\n",
            "Epoch 14/30\n",
            "2381/2381 [==============================] - 59s 25ms/step - loss: 0.5650 - auc: 0.7781 - val_loss: 0.5666 - val_auc: 0.7795\n",
            "Epoch 15/30\n",
            "2381/2381 [==============================] - 59s 25ms/step - loss: 0.5570 - auc: 0.7868 - val_loss: 0.5615 - val_auc: 0.7922\n",
            "Epoch 16/30\n",
            "2381/2381 [==============================] - 60s 25ms/step - loss: 0.5666 - auc: 0.7762 - val_loss: 0.5662 - val_auc: 0.7832\n",
            "Epoch 17/30\n",
            "2381/2381 [==============================] - 59s 25ms/step - loss: 0.5654 - auc: 0.7782 - val_loss: 0.5738 - val_auc: 0.7895\n",
            "Epoch 18/30\n",
            "2381/2381 [==============================] - 59s 25ms/step - loss: 0.5703 - auc: 0.7723 - val_loss: 0.5746 - val_auc: 0.7704\n",
            "Epoch 19/30\n",
            "2381/2381 [==============================] - 59s 25ms/step - loss: 0.5716 - auc: 0.7705 - val_loss: 0.5812 - val_auc: 0.7708\n",
            "Epoch 20/30\n",
            "2381/2381 [==============================] - 60s 25ms/step - loss: 0.5722 - auc: 0.7689 - val_loss: 0.5865 - val_auc: 0.7546\n",
            "Epoch 21/30\n",
            "2381/2381 [==============================] - 59s 25ms/step - loss: 0.5854 - auc: 0.7550 - val_loss: 0.5739 - val_auc: 0.7696\n",
            "Epoch 22/30\n",
            "2381/2381 [==============================] - 60s 25ms/step - loss: 0.5794 - auc: 0.7625 - val_loss: 0.6417 - val_auc: 0.7259\n",
            "Epoch 23/30\n",
            "2381/2381 [==============================] - 59s 25ms/step - loss: 0.5833 - auc: 0.7573 - val_loss: 0.5716 - val_auc: 0.7786\n",
            "Epoch 24/30\n",
            "2381/2381 [==============================] - 60s 25ms/step - loss: 0.5711 - auc: 0.7705 - val_loss: 0.5749 - val_auc: 0.7819\n",
            "Epoch 25/30\n",
            "2381/2381 [==============================] - 59s 25ms/step - loss: 0.5766 - auc: 0.7626 - val_loss: 0.5931 - val_auc: 0.7575\n",
            "Epoch 26/30\n",
            "2381/2381 [==============================] - 59s 25ms/step - loss: 0.6037 - auc: 0.7244 - val_loss: 0.6193 - val_auc: 0.7108\n",
            "Epoch 27/30\n",
            "2381/2381 [==============================] - 60s 25ms/step - loss: 0.6212 - auc: 0.6965 - val_loss: 0.6306 - val_auc: 0.6946\n",
            "Epoch 28/30\n",
            "2381/2381 [==============================] - 60s 25ms/step - loss: 0.5850 - auc: 0.7552 - val_loss: 0.5817 - val_auc: 0.7701\n",
            "Epoch 29/30\n",
            "2381/2381 [==============================] - 60s 25ms/step - loss: 0.5754 - auc: 0.7663 - val_loss: 0.5627 - val_auc: 0.7844\n",
            "Epoch 30/30\n",
            "2381/2381 [==============================] - 59s 25ms/step - loss: 0.5636 - auc: 0.7786 - val_loss: 0.5964 - val_auc: 0.7539\n"
          ]
        },
        {
          "output_type": "execute_result",
          "data": {
            "text/plain": [
              "<keras.callbacks.History at 0x7f196142ea50>"
            ]
          },
          "metadata": {},
          "execution_count": 63
        }
      ]
    },
    {
      "cell_type": "markdown",
      "source": [
        "**After changing hidden dimesion score decreased too much.**\n",
        "\n",
        "**From 93 to 75**"
      ],
      "metadata": {
        "id": "CxETDsQ9dZKk"
      }
    },
    {
      "cell_type": "markdown",
      "source": [
        "### Trial_10\n",
        "Here we'll decrease dimensions to 16 and see what will happen to score."
      ],
      "metadata": {
        "id": "le26K5kc-hp_"
      }
    },
    {
      "cell_type": "code",
      "source": [
        "model_10=GNN_model(16,False,0,12,'gru','ggnn')"
      ],
      "metadata": {
        "id": "2gWnofve-joS",
        "execution": {
          "iopub.status.busy": "2022-04-05T02:30:34.954803Z",
          "iopub.execute_input": "2022-04-05T02:30:34.955074Z",
          "iopub.status.idle": "2022-04-05T02:30:35.422085Z",
          "shell.execute_reply.started": "2022-04-05T02:30:34.955046Z",
          "shell.execute_reply": "2022-04-05T02:30:35.421362Z"
        },
        "trusted": true,
        "colab": {
          "base_uri": "https://localhost:8080/"
        },
        "outputId": "f1b43e20-31c5-4331-8c4f-8b4a822f9192"
      },
      "execution_count": null,
      "outputs": [
        {
          "output_type": "stream",
          "name": "stdout",
          "text": [
            "gnn_out KerasTensor(type_spec=TensorSpec(shape=(None, 16), dtype=tf.float32, name=None), name='gnn_9/StatefulPartitionedCall:0', description=\"created by layer 'gnn_9'\")\n",
            "mean: KerasTensor(type_spec=TensorSpec(shape=(None, 16), dtype=tf.float32, name=None), name='tf.math.segment_mean_9/SegmentMean:0', description=\"created by layer 'tf.math.segment_mean_9'\")\n",
            "pred: KerasTensor(type_spec=TensorSpec(shape=(None, 1), dtype=tf.float32, name=None), name='dense_29/Sigmoid:0', description=\"created by layer 'dense_29'\")\n"
          ]
        }
      ]
    },
    {
      "cell_type": "code",
      "source": [
        "model_10.compile(optimizer='adam',loss='BinaryCrossentropy',metrics=['AUC'])"
      ],
      "metadata": {
        "id": "aXQzi8gI-jys",
        "execution": {
          "iopub.status.busy": "2022-04-05T02:30:35.512763Z",
          "iopub.execute_input": "2022-04-05T02:30:35.513598Z",
          "iopub.status.idle": "2022-04-05T02:30:35.523971Z",
          "shell.execute_reply.started": "2022-04-05T02:30:35.513553Z",
          "shell.execute_reply": "2022-04-05T02:30:35.523194Z"
        },
        "trusted": true
      },
      "execution_count": null,
      "outputs": []
    },
    {
      "cell_type": "code",
      "source": [
        "fit_pred(model_10)"
      ],
      "metadata": {
        "id": "x7-W5V-F-j8M",
        "execution": {
          "iopub.status.busy": "2022-04-05T02:30:35.999983Z",
          "iopub.execute_input": "2022-04-05T02:30:36.000458Z"
        },
        "trusted": true,
        "colab": {
          "base_uri": "https://localhost:8080/"
        },
        "outputId": "92658bf7-7b3b-4a4e-b304-b99c21a8180a"
      },
      "execution_count": null,
      "outputs": [
        {
          "output_type": "stream",
          "name": "stdout",
          "text": [
            "Epoch 1/30\n"
          ]
        },
        {
          "output_type": "stream",
          "name": "stderr",
          "text": [
            "/usr/local/lib/python3.7/dist-packages/tensorflow/python/framework/indexed_slices.py:446: UserWarning: Converting sparse IndexedSlices(IndexedSlices(indices=Tensor(\"gradients/ggnn_3/embedding_lookup_grad/Reshape_1:0\", shape=(None,), dtype=int32), values=Tensor(\"gradients/ggnn_3/embedding_lookup_grad/Reshape:0\", shape=(None, 16), dtype=float32), dense_shape=Tensor(\"gradients/ggnn_3/embedding_lookup_grad/Cast:0\", shape=(2,), dtype=int32))) to a dense Tensor of unknown shape. This may consume a large amount of memory.\n",
            "  \"shape. This may consume a large amount of memory.\" % value)\n",
            "/usr/local/lib/python3.7/dist-packages/tensorflow/python/framework/indexed_slices.py:446: UserWarning: Converting sparse IndexedSlices(IndexedSlices(indices=Tensor(\"gradients/ggnn_2/embedding_lookup_grad/Reshape_1:0\", shape=(None,), dtype=int32), values=Tensor(\"gradients/ggnn_2/embedding_lookup_grad/Reshape:0\", shape=(None, 16), dtype=float32), dense_shape=Tensor(\"gradients/ggnn_2/embedding_lookup_grad/Cast:0\", shape=(2,), dtype=int32))) to a dense Tensor of unknown shape. This may consume a large amount of memory.\n",
            "  \"shape. This may consume a large amount of memory.\" % value)\n",
            "/usr/local/lib/python3.7/dist-packages/tensorflow/python/framework/indexed_slices.py:446: UserWarning: Converting sparse IndexedSlices(IndexedSlices(indices=Tensor(\"gradients/ggnn_1/embedding_lookup_grad/Reshape_1:0\", shape=(None,), dtype=int32), values=Tensor(\"gradients/ggnn_1/embedding_lookup_grad/Reshape:0\", shape=(None, 16), dtype=float32), dense_shape=Tensor(\"gradients/ggnn_1/embedding_lookup_grad/Cast:0\", shape=(2,), dtype=int32))) to a dense Tensor of unknown shape. This may consume a large amount of memory.\n",
            "  \"shape. This may consume a large amount of memory.\" % value)\n",
            "/usr/local/lib/python3.7/dist-packages/tensorflow/python/framework/indexed_slices.py:446: UserWarning: Converting sparse IndexedSlices(IndexedSlices(indices=Tensor(\"gradients/ggnn/embedding_lookup_grad/Reshape_1:0\", shape=(None,), dtype=int32), values=Tensor(\"gradients/ggnn/embedding_lookup_grad/Reshape:0\", shape=(None, 16), dtype=float32), dense_shape=Tensor(\"gradients/ggnn/embedding_lookup_grad/Cast:0\", shape=(2,), dtype=int32))) to a dense Tensor of unknown shape. This may consume a large amount of memory.\n",
            "  \"shape. This may consume a large amount of memory.\" % value)\n"
          ]
        },
        {
          "output_type": "stream",
          "name": "stdout",
          "text": [
            "2381/2381 [==============================] - 54s 22ms/step - loss: 0.6121 - auc: 0.7225 - val_loss: 0.5557 - val_auc: 0.7934\n",
            "Epoch 2/30\n",
            "2381/2381 [==============================] - 51s 21ms/step - loss: 0.5501 - auc: 0.7940 - val_loss: 0.5264 - val_auc: 0.8174\n",
            "Epoch 3/30\n",
            "2381/2381 [==============================] - 51s 21ms/step - loss: 0.5239 - auc: 0.8176 - val_loss: 0.5146 - val_auc: 0.8398\n",
            "Epoch 4/30\n",
            "2381/2381 [==============================] - 51s 21ms/step - loss: 0.5024 - auc: 0.8350 - val_loss: 0.5069 - val_auc: 0.8454\n",
            "Epoch 5/30\n",
            "2381/2381 [==============================] - 51s 21ms/step - loss: 0.4855 - auc: 0.8475 - val_loss: 0.4835 - val_auc: 0.8620\n",
            "Epoch 6/30\n",
            "2381/2381 [==============================] - 51s 21ms/step - loss: 0.4661 - auc: 0.8608 - val_loss: 0.4416 - val_auc: 0.8786\n",
            "Epoch 7/30\n",
            "2381/2381 [==============================] - 51s 21ms/step - loss: 0.4487 - auc: 0.8723 - val_loss: 0.4322 - val_auc: 0.8836\n",
            "Epoch 8/30\n",
            "2381/2381 [==============================] - 51s 21ms/step - loss: 0.4316 - auc: 0.8824 - val_loss: 0.4164 - val_auc: 0.8939\n",
            "Epoch 9/30\n",
            "2381/2381 [==============================] - 51s 21ms/step - loss: 0.4159 - auc: 0.8913 - val_loss: 0.4001 - val_auc: 0.9006\n",
            "Epoch 10/30\n",
            "2381/2381 [==============================] - 51s 21ms/step - loss: 0.4011 - auc: 0.8994 - val_loss: 0.3822 - val_auc: 0.9096\n",
            "Epoch 11/30\n",
            "2381/2381 [==============================] - 51s 21ms/step - loss: 0.3876 - auc: 0.9063 - val_loss: 0.3758 - val_auc: 0.9119\n",
            "Epoch 12/30\n",
            "2381/2381 [==============================] - 51s 21ms/step - loss: 0.3732 - auc: 0.9131 - val_loss: 0.3621 - val_auc: 0.9189\n",
            "Epoch 13/30\n",
            "2381/2381 [==============================] - 51s 21ms/step - loss: 0.3593 - auc: 0.9192 - val_loss: 0.3481 - val_auc: 0.9276\n",
            "Epoch 14/30\n",
            "2381/2381 [==============================] - 51s 21ms/step - loss: 0.3474 - auc: 0.9245 - val_loss: 0.3384 - val_auc: 0.9289\n",
            "Epoch 15/30\n",
            "2381/2381 [==============================] - 51s 21ms/step - loss: 0.3364 - auc: 0.9290 - val_loss: 0.3214 - val_auc: 0.9361\n",
            "Epoch 16/30\n",
            "2381/2381 [==============================] - 51s 21ms/step - loss: 0.3208 - auc: 0.9353 - val_loss: 0.3189 - val_auc: 0.9379\n",
            "Epoch 17/30\n",
            "2381/2381 [==============================] - 51s 22ms/step - loss: 0.3121 - auc: 0.9384 - val_loss: 0.3061 - val_auc: 0.9405\n",
            "Epoch 18/30\n",
            "2381/2381 [==============================] - 51s 22ms/step - loss: 0.3019 - auc: 0.9419 - val_loss: 0.2962 - val_auc: 0.9448\n",
            "Epoch 19/30\n",
            "2381/2381 [==============================] - 51s 21ms/step - loss: 0.2921 - auc: 0.9453 - val_loss: 0.2949 - val_auc: 0.9473\n",
            "Epoch 20/30\n",
            "2381/2381 [==============================] - 51s 22ms/step - loss: 0.2808 - auc: 0.9493 - val_loss: 0.2903 - val_auc: 0.9521\n",
            "Epoch 21/30\n",
            "2381/2381 [==============================] - 51s 22ms/step - loss: 0.2729 - auc: 0.9522 - val_loss: 0.2520 - val_auc: 0.9573\n",
            "Epoch 22/30\n",
            "2381/2381 [==============================] - 51s 22ms/step - loss: 0.2646 - auc: 0.9547 - val_loss: 0.2690 - val_auc: 0.9531\n",
            "Epoch 23/30\n",
            "2381/2381 [==============================] - 51s 21ms/step - loss: 0.2560 - auc: 0.9570 - val_loss: 0.2422 - val_auc: 0.9607\n",
            "Epoch 24/30\n",
            "2381/2381 [==============================] - 51s 21ms/step - loss: 0.2480 - auc: 0.9592 - val_loss: 0.2420 - val_auc: 0.9607\n",
            "Epoch 25/30\n",
            "2381/2381 [==============================] - 51s 21ms/step - loss: 0.2409 - auc: 0.9610 - val_loss: 0.2302 - val_auc: 0.9636\n",
            "Epoch 26/30\n",
            "2381/2381 [==============================] - 51s 21ms/step - loss: 0.2362 - auc: 0.9623 - val_loss: 0.2680 - val_auc: 0.9602\n",
            "Epoch 27/30\n",
            "2381/2381 [==============================] - 51s 21ms/step - loss: 0.2325 - auc: 0.9636 - val_loss: 0.2311 - val_auc: 0.9640\n",
            "Epoch 28/30\n",
            "2381/2381 [==============================] - 51s 21ms/step - loss: 0.2194 - auc: 0.9669 - val_loss: 0.2210 - val_auc: 0.9668\n",
            "Epoch 29/30\n",
            "2381/2381 [==============================] - 51s 21ms/step - loss: 0.2200 - auc: 0.9669 - val_loss: 0.2271 - val_auc: 0.9660\n",
            "Epoch 30/30\n",
            "2381/2381 [==============================] - 51s 21ms/step - loss: 0.2123 - auc: 0.9691 - val_loss: 0.2297 - val_auc: 0.9649\n"
          ]
        },
        {
          "output_type": "execute_result",
          "data": {
            "text/plain": [
              "<keras.callbacks.History at 0x7f195fb33a10>"
            ]
          },
          "metadata": {},
          "execution_count": 66
        }
      ]
    },
    {
      "cell_type": "markdown",
      "source": [
        "**The performance is improved with this step.**"
      ],
      "metadata": {
        "id": "pQwf3DXE2txs"
      }
    },
    {
      "cell_type": "markdown",
      "source": [
        "##Conclusion\n",
        "Gated Graph Neural Networks is the best mechanism to fit in this problem.\n",
        "And no need to use layernorm and drop out layers."
      ],
      "metadata": {
        "id": "sGVR4jXBhGn0"
      }
    },
    {
      "cell_type": "markdown",
      "source": [
        "## Problem Formulation"
      ],
      "metadata": {
        "id": "cHGg-yQdaNIJ"
      }
    },
    {
      "cell_type": "markdown",
      "source": [
        "### The Problem is:\n"
      ],
      "metadata": {
        "id": "ld8ULS-6aQyj",
        "jupyter": {
          "source_hidden": true
        }
      }
    },
    {
      "cell_type": "markdown",
      "source": [
        "Anticancer activity prediction, where each chemical compound is represented as a graph, with atoms representing nodes and bonds as edges. A chemical compound is positive against non-small cell lung cancer, or negative otherwise. Up to this point, you have learned various tricks and mechanisms to be used for building neural networks/tuning models."
      ],
      "metadata": {
        "id": "nDxpeSDHaatt"
      }
    },
    {
      "cell_type": "markdown",
      "source": [
        "### What is the input?\n"
      ],
      "metadata": {
        "id": "bnTKgeYaaVvh"
      }
    },
    {
      "cell_type": "markdown",
      "source": [
        "**Nodes :** Each one contains atoms of the chemical compound in the tokenized form.\n",
        "\n",
        "**Edges :** The relation between each node and others.\n",
        "\n",
        "**Node2graph :** The input tensor which is used for segmented mean and contains information about segmented ids.\n",
        "\n"
      ],
      "metadata": {
        "id": "jIUarFEBaZNn"
      }
    },
    {
      "cell_type": "markdown",
      "source": [
        "### What is the output?\n"
      ],
      "metadata": {
        "id": "c3Bh15EUaZQ7"
      }
    },
    {
      "cell_type": "markdown",
      "source": [
        "Probabilities is refering to a chemical compound if it is positive against non-small cell lung cancer, or negative otherwise."
      ],
      "metadata": {
        "id": "W1bSmarVaezg"
      }
    },
    {
      "cell_type": "markdown",
      "source": [
        "### What data mining function is required?\n"
      ],
      "metadata": {
        "id": "DHunOe_Xae21"
      }
    },
    {
      "cell_type": "markdown",
      "source": [
        "*   Data split.\n",
        "*   Data plot and visualization.\n",
        "*   Data Tokenizer.\n",
        "*   Data Padding.\n",
        "*   Reshape.\n",
        "*   Data resample.\n",
        "*   Data Concat.\n",
        "*   Embedding and Dense layers."
      ],
      "metadata": {
        "id": "sLLEsdQwahXS"
      }
    },
    {
      "cell_type": "markdown",
      "source": [
        "### What could be the challenges?\n"
      ],
      "metadata": {
        "id": "4RrA4Jr9ahar"
      }
    },
    {
      "cell_type": "markdown",
      "source": [
        "Our data contains characters so we need to tokenize it then apply padding.\n",
        "\n",
        "Our data is unbalanced too, the positive class is too little we need to resample this data to be good in fitting."
      ],
      "metadata": {
        "id": "XLbcaSxfaj4i"
      }
    },
    {
      "cell_type": "markdown",
      "source": [
        "### What is the impact?\n"
      ],
      "metadata": {
        "id": "VqGHbaDiaj8H"
      }
    },
    {
      "cell_type": "markdown",
      "source": [
        "We can predict anticancer activity and if a chemical compound is positive against non-small cell lung cancer or not."
      ],
      "metadata": {
        "id": "gtqAgPy5amO_"
      }
    },
    {
      "cell_type": "markdown",
      "source": [
        "### What is an ideal solution?\n"
      ],
      "metadata": {
        "id": "lAmT_CfIamST"
      }
    },
    {
      "cell_type": "markdown",
      "source": [
        "Model in Trial_2,\n",
        "Gated Graph Neural Network mecahanism with 32 hidden dimensions, 12 num aggr MLP hidden layers and other default hyperparameters are the best hyperparameters to fit this model."
      ],
      "metadata": {
        "id": "lfQdQn2Eaoqx"
      }
    },
    {
      "cell_type": "markdown",
      "source": [
        "### What is the experimental protocol used and how was it carried out?\n"
      ],
      "metadata": {
        "id": "vct55vaHaou0"
      }
    },
    {
      "cell_type": "markdown",
      "source": [
        "At the first we divided the file into samples, each sample contains node, edge and label. We visualized this sample to be more easier to understand. While checking data we saw that the data is unbalanced so we used resample function to make balance between our data. After that we tokenized data then we applied the GNN model with dense layer. we made alot of trial to compare between each type of hyperparameters in GNN layer as we see above.\n",
        "\n",
        "#### Hyperparameters were:\n",
        "\n",
        "\n",
        "*   hidden_dim : we tried (16,32,64,128).\n",
        "*   use_inter_layer_layernorm : we tried to use it and not to use too.\n",
        "*   layer_input_dropout_rate : we tried (0,0.2)\n",
        "*   num_aggr_MLP_hidden_layers : we tried 12.\n",
        "*   global_exchange_mode : we tried ('mean' , 'mlp' , 'gru')\n",
        "*   message_calculation_class : we tried multiple mechanism like ('rgcn' , 'ggnn' , 'rgin')\n",
        "\n"
      ],
      "metadata": {
        "id": "NEf8Ri3oarZY"
      }
    },
    {
      "cell_type": "markdown",
      "source": [
        "### How did we tune hyper-parameters in the template?\n"
      ],
      "metadata": {
        "id": "OxhzoWt1arcw"
      }
    },
    {
      "cell_type": "markdown",
      "source": [
        "We tried multiple hyperparameters manually and compare the score to find the best ones."
      ],
      "metadata": {
        "id": "vflCJu6Wa4Kb"
      }
    },
    {
      "cell_type": "markdown",
      "source": [
        "### What is the search space and what is the criteria to determine good/bad hyper-parameters?\n"
      ],
      "metadata": {
        "id": "Fdf7u0YYa4VC"
      }
    },
    {
      "cell_type": "markdown",
      "source": [
        "The search space was in hyperparameters of GNN layer.\n",
        "\n",
        "The criteria that used is determine the performance with val loss and auc of the validation sets."
      ],
      "metadata": {
        "id": "aMap68pEa7lT"
      }
    },
    {
      "cell_type": "markdown",
      "source": [
        "##Questions"
      ],
      "metadata": {
        "id": "KP4mzsv0y-vY"
      }
    },
    {
      "cell_type": "markdown",
      "source": [
        "### 🌈Based on the provided template, describe the format of the input file (sdf file)."
      ],
      "metadata": {
        "id": "lxXReK1FZgp6"
      }
    },
    {
      "cell_type": "markdown",
      "source": [
        "SDF means structure data file. The input file contains information about the chemical compound. SDF file store information about position of individual atom in the chemical compound and also tells about the connections. Different molecules are delimited by '\\$\\$\\$\\$' expression."
      ],
      "metadata": {
        "id": "xtoPQq0zZmwK"
      }
    },
    {
      "cell_type": "markdown",
      "source": [
        "### 🌈What are the input tensors to the neural network model (their meaning, not just symbol)? What is each of their dims and their meaning (e.g. batch_size)?\n",
        "\n"
      ],
      "metadata": {
        "id": "Ew5ossvlZna1"
      }
    },
    {
      "cell_type": "markdown",
      "source": [
        "\n",
        "**nodes**: The data contains the nodes of the chemical compound in the tokenized form. \n",
        " \n",
        " The shape of each batch is (batch_size*max_len_nodes), where batch_size is the number of samples in the batch and max_len_nodes is the length of tokenized nodes with padding.\n",
        "\n",
        "\n",
        "**edge**: edge is the input tensor which contains the relation between atoms.\n",
        "\n",
        " The shape of each batch is (sum_of_all_edges,2). The sum_of_all_edges represents the sum edges of each sample of the batch_size.\n",
        "\n",
        "\n",
        "**node2graph**: It is the input tensor which is used for segmented mean and contains information about segmented ids. \n",
        "\n",
        " The shape of each batch is (batch_size*max_len_nodes)."
      ],
      "metadata": {
        "id": "_atMS3GjZrry"
      }
    },
    {
      "cell_type": "markdown",
      "source": [
        "### 🌈For each dim of gnn_out, what does it symbolize? For each dim of avg, what does it symbolize?\n",
        "\n"
      ],
      "metadata": {
        "id": "-6PjZxgaZrvL"
      }
    },
    {
      "cell_type": "markdown",
      "source": [
        "**gnn_out :** It represents the aggregation output of the model for each hidden layer.\n",
        "\n",
        "**avg :** It is a way of collecting information for each sample and representing it in the form of mean data."
      ],
      "metadata": {
        "id": "gwTRwlcIZuNX"
      }
    },
    {
      "cell_type": "markdown",
      "source": [
        "### 🌈What is the difference between segment_mean and tf.reduce_mean? For each dim of pred, what does it symbolize?\n",
        "\n"
      ],
      "metadata": {
        "id": "lNZMa1mnZuQ3"
      }
    },
    {
      "cell_type": "markdown",
      "source": [
        "**segment_mean** takes the mean of the data which have same segmented ids. \n",
        "\n",
        "**reduce_mean** computes the mean of elements across dimensions of a tensor given the arguments.\n",
        "\n",
        "**pred** The final output shape is a number which represents the probability associated with each chemical compound about its activity."
      ],
      "metadata": {
        "id": "cukDAHGsZwlI"
      }
    },
    {
      "cell_type": "markdown",
      "source": [
        "### 🌈What is the motivation/theory/idea to use multiple gcn layers comparing to just one? How many layers were used in the template?\n",
        "\n"
      ],
      "metadata": {
        "id": "Dmsdo0HfZwoj"
      }
    },
    {
      "cell_type": "markdown",
      "source": [
        "Using multiple gcn helps in incorporating all the graph complexity properly.\n",
        "\n",
        "The default layers are 4 as given in the documentaion."
      ],
      "metadata": {
        "id": "1zis31nYZzSc"
      }
    },
    {
      "cell_type": "markdown",
      "source": [
        "###Recources"
      ],
      "metadata": {
        "id": "vVHPqBnaFCSJ"
      }
    },
    {
      "cell_type": "markdown",
      "source": [
        "https://analyticsindiamag.com/building-and-modelling-a-graph-neural-network-from-scratch/"
      ],
      "metadata": {
        "id": "yDsp9vzwFEpM"
      }
    },
    {
      "cell_type": "markdown",
      "source": [
        "https://keras.io/examples/graph/gnn_citations/"
      ],
      "metadata": {
        "id": "Xk1iyFZMFFdK"
      }
    },
    {
      "cell_type": "markdown",
      "source": [
        "https://blog.tensorflow.org/2021/11/introducing-tensorflow-gnn.html"
      ],
      "metadata": {
        "id": "yJyGYmh3Fj8Q"
      }
    }
  ]
}